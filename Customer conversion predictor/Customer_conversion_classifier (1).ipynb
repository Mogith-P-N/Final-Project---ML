{
  "nbformat": 4,
  "nbformat_minor": 0,
  "metadata": {
    "colab": {
      "provenance": []
    },
    "kernelspec": {
      "name": "python3",
      "display_name": "Python 3"
    },
    "language_info": {
      "name": "python"
    }
  },
  "cells": [
    {
      "cell_type": "markdown",
      "source": [
        "## Problem statement :\n",
        "You are working for a new-age insurance company and employ\n",
        "multiple outreach plans to sell term insurance to your\n",
        "customers. Telephonic marketing campaigns still remain one of\n",
        "the most effective ways to reach out to people however they\n",
        "incur a lot of cost. Hence, it is important to identify the\n",
        "customers that are most likely to convert beforehand so that\n",
        "they can be specifically targeted via call. We are given the\n",
        "historical marketing data of the insurance company and are\n",
        "required to build a ML model that will predict if a client will\n",
        "subscribe to the insurance."
      ],
      "metadata": {
        "id": "KykwGz7IIOBA"
      }
    },
    {
      "cell_type": "markdown",
      "source": [
        "Variables in dataset ▶\n",
        "\n",
        "● age (numeric)\n",
        "\n",
        "● job : type of job\n",
        "\n",
        "● marital : marital status\n",
        "\n",
        "● educational_qual : education status\n",
        "\n",
        "● call_type : contact communication type\n",
        "\n",
        "● day: last contact day of the month (numeric)\n",
        "\n",
        "● mon: last contact month of year\n",
        "\n",
        "● dur: last contact duration, in seconds (numeric)\n",
        "\n",
        "● num_calls: number of contacts performed during this\n",
        "campaign and for this client"
      ],
      "metadata": {
        "id": "54kjLriNNhcp"
      }
    },
    {
      "cell_type": "markdown",
      "source": [
        "Importing necessary libraries "
      ],
      "metadata": {
        "id": "pxGuZuYRO3dO"
      }
    },
    {
      "cell_type": "code",
      "source": [
        "#importing necessary libraries\n",
        "import numpy as np\n",
        "import pandas as pd\n",
        "import statistics as stat\n",
        "\n",
        "#To plot and visualize data\n",
        "import seaborn as sns\n",
        "import matplotlib.pyplot as plt\n",
        "%matplotlib inline\n",
        "\n",
        "#To split and fit the model and evaluate\n",
        "from sklearn.model_selection import train_test_split\n",
        "from sklearn.model_selection import cross_val_score\n",
        "from sklearn.preprocessing import StandardScaler"
      ],
      "metadata": {
        "id": "j7dzxJ7qOYoZ"
      },
      "execution_count": null,
      "outputs": []
    },
    {
      "cell_type": "markdown",
      "source": [
        "importing the dataset 📁\n",
        "\n",
        "dataset link -*https://docs.google.com/spreadsheets/d/17MbVyO-sasOk0KswkdgEgOYdVES9JZyaIxOVQ1MZkLs/edit#gid=60269093*"
      ],
      "metadata": {
        "id": "TpG4WcqIQ6en"
      }
    },
    {
      "cell_type": "code",
      "execution_count": null,
      "metadata": {
        "colab": {
          "base_uri": "https://localhost:8080/",
          "height": 206
        },
        "id": "nhEAQQLPIKbG",
        "outputId": "b9b27903-5fa0-4b13-d99e-a23d7512e4e7"
      },
      "outputs": [
        {
          "output_type": "execute_result",
          "data": {
            "text/plain": [
              "   age           job  marital education_qual call_type  day  mon  dur  \\\n",
              "0   58    management  married       tertiary   unknown    5  may  261   \n",
              "1   44    technician   single      secondary   unknown    5  may  151   \n",
              "2   33  entrepreneur  married      secondary   unknown    5  may   76   \n",
              "3   47   blue-collar  married        unknown   unknown    5  may   92   \n",
              "4   33       unknown   single        unknown   unknown    5  may  198   \n",
              "\n",
              "   num_calls prev_outcome   y  \n",
              "0          1      unknown  no  \n",
              "1          1      unknown  no  \n",
              "2          1      unknown  no  \n",
              "3          1      unknown  no  \n",
              "4          1      unknown  no  "
            ],
            "text/html": [
              "\n",
              "  <div id=\"df-230b1b8d-06f9-432d-b862-5a54f311b2f3\">\n",
              "    <div class=\"colab-df-container\">\n",
              "      <div>\n",
              "<style scoped>\n",
              "    .dataframe tbody tr th:only-of-type {\n",
              "        vertical-align: middle;\n",
              "    }\n",
              "\n",
              "    .dataframe tbody tr th {\n",
              "        vertical-align: top;\n",
              "    }\n",
              "\n",
              "    .dataframe thead th {\n",
              "        text-align: right;\n",
              "    }\n",
              "</style>\n",
              "<table border=\"1\" class=\"dataframe\">\n",
              "  <thead>\n",
              "    <tr style=\"text-align: right;\">\n",
              "      <th></th>\n",
              "      <th>age</th>\n",
              "      <th>job</th>\n",
              "      <th>marital</th>\n",
              "      <th>education_qual</th>\n",
              "      <th>call_type</th>\n",
              "      <th>day</th>\n",
              "      <th>mon</th>\n",
              "      <th>dur</th>\n",
              "      <th>num_calls</th>\n",
              "      <th>prev_outcome</th>\n",
              "      <th>y</th>\n",
              "    </tr>\n",
              "  </thead>\n",
              "  <tbody>\n",
              "    <tr>\n",
              "      <th>0</th>\n",
              "      <td>58</td>\n",
              "      <td>management</td>\n",
              "      <td>married</td>\n",
              "      <td>tertiary</td>\n",
              "      <td>unknown</td>\n",
              "      <td>5</td>\n",
              "      <td>may</td>\n",
              "      <td>261</td>\n",
              "      <td>1</td>\n",
              "      <td>unknown</td>\n",
              "      <td>no</td>\n",
              "    </tr>\n",
              "    <tr>\n",
              "      <th>1</th>\n",
              "      <td>44</td>\n",
              "      <td>technician</td>\n",
              "      <td>single</td>\n",
              "      <td>secondary</td>\n",
              "      <td>unknown</td>\n",
              "      <td>5</td>\n",
              "      <td>may</td>\n",
              "      <td>151</td>\n",
              "      <td>1</td>\n",
              "      <td>unknown</td>\n",
              "      <td>no</td>\n",
              "    </tr>\n",
              "    <tr>\n",
              "      <th>2</th>\n",
              "      <td>33</td>\n",
              "      <td>entrepreneur</td>\n",
              "      <td>married</td>\n",
              "      <td>secondary</td>\n",
              "      <td>unknown</td>\n",
              "      <td>5</td>\n",
              "      <td>may</td>\n",
              "      <td>76</td>\n",
              "      <td>1</td>\n",
              "      <td>unknown</td>\n",
              "      <td>no</td>\n",
              "    </tr>\n",
              "    <tr>\n",
              "      <th>3</th>\n",
              "      <td>47</td>\n",
              "      <td>blue-collar</td>\n",
              "      <td>married</td>\n",
              "      <td>unknown</td>\n",
              "      <td>unknown</td>\n",
              "      <td>5</td>\n",
              "      <td>may</td>\n",
              "      <td>92</td>\n",
              "      <td>1</td>\n",
              "      <td>unknown</td>\n",
              "      <td>no</td>\n",
              "    </tr>\n",
              "    <tr>\n",
              "      <th>4</th>\n",
              "      <td>33</td>\n",
              "      <td>unknown</td>\n",
              "      <td>single</td>\n",
              "      <td>unknown</td>\n",
              "      <td>unknown</td>\n",
              "      <td>5</td>\n",
              "      <td>may</td>\n",
              "      <td>198</td>\n",
              "      <td>1</td>\n",
              "      <td>unknown</td>\n",
              "      <td>no</td>\n",
              "    </tr>\n",
              "  </tbody>\n",
              "</table>\n",
              "</div>\n",
              "      <button class=\"colab-df-convert\" onclick=\"convertToInteractive('df-230b1b8d-06f9-432d-b862-5a54f311b2f3')\"\n",
              "              title=\"Convert this dataframe to an interactive table.\"\n",
              "              style=\"display:none;\">\n",
              "        \n",
              "  <svg xmlns=\"http://www.w3.org/2000/svg\" height=\"24px\"viewBox=\"0 0 24 24\"\n",
              "       width=\"24px\">\n",
              "    <path d=\"M0 0h24v24H0V0z\" fill=\"none\"/>\n",
              "    <path d=\"M18.56 5.44l.94 2.06.94-2.06 2.06-.94-2.06-.94-.94-2.06-.94 2.06-2.06.94zm-11 1L8.5 8.5l.94-2.06 2.06-.94-2.06-.94L8.5 2.5l-.94 2.06-2.06.94zm10 10l.94 2.06.94-2.06 2.06-.94-2.06-.94-.94-2.06-.94 2.06-2.06.94z\"/><path d=\"M17.41 7.96l-1.37-1.37c-.4-.4-.92-.59-1.43-.59-.52 0-1.04.2-1.43.59L10.3 9.45l-7.72 7.72c-.78.78-.78 2.05 0 2.83L4 21.41c.39.39.9.59 1.41.59.51 0 1.02-.2 1.41-.59l7.78-7.78 2.81-2.81c.8-.78.8-2.07 0-2.86zM5.41 20L4 18.59l7.72-7.72 1.47 1.35L5.41 20z\"/>\n",
              "  </svg>\n",
              "      </button>\n",
              "      \n",
              "  <style>\n",
              "    .colab-df-container {\n",
              "      display:flex;\n",
              "      flex-wrap:wrap;\n",
              "      gap: 12px;\n",
              "    }\n",
              "\n",
              "    .colab-df-convert {\n",
              "      background-color: #E8F0FE;\n",
              "      border: none;\n",
              "      border-radius: 50%;\n",
              "      cursor: pointer;\n",
              "      display: none;\n",
              "      fill: #1967D2;\n",
              "      height: 32px;\n",
              "      padding: 0 0 0 0;\n",
              "      width: 32px;\n",
              "    }\n",
              "\n",
              "    .colab-df-convert:hover {\n",
              "      background-color: #E2EBFA;\n",
              "      box-shadow: 0px 1px 2px rgba(60, 64, 67, 0.3), 0px 1px 3px 1px rgba(60, 64, 67, 0.15);\n",
              "      fill: #174EA6;\n",
              "    }\n",
              "\n",
              "    [theme=dark] .colab-df-convert {\n",
              "      background-color: #3B4455;\n",
              "      fill: #D2E3FC;\n",
              "    }\n",
              "\n",
              "    [theme=dark] .colab-df-convert:hover {\n",
              "      background-color: #434B5C;\n",
              "      box-shadow: 0px 1px 3px 1px rgba(0, 0, 0, 0.15);\n",
              "      filter: drop-shadow(0px 1px 2px rgba(0, 0, 0, 0.3));\n",
              "      fill: #FFFFFF;\n",
              "    }\n",
              "  </style>\n",
              "\n",
              "      <script>\n",
              "        const buttonEl =\n",
              "          document.querySelector('#df-230b1b8d-06f9-432d-b862-5a54f311b2f3 button.colab-df-convert');\n",
              "        buttonEl.style.display =\n",
              "          google.colab.kernel.accessAllowed ? 'block' : 'none';\n",
              "\n",
              "        async function convertToInteractive(key) {\n",
              "          const element = document.querySelector('#df-230b1b8d-06f9-432d-b862-5a54f311b2f3');\n",
              "          const dataTable =\n",
              "            await google.colab.kernel.invokeFunction('convertToInteractive',\n",
              "                                                     [key], {});\n",
              "          if (!dataTable) return;\n",
              "\n",
              "          const docLinkHtml = 'Like what you see? Visit the ' +\n",
              "            '<a target=\"_blank\" href=https://colab.research.google.com/notebooks/data_table.ipynb>data table notebook</a>'\n",
              "            + ' to learn more about interactive tables.';\n",
              "          element.innerHTML = '';\n",
              "          dataTable['output_type'] = 'display_data';\n",
              "          await google.colab.output.renderOutput(dataTable, element);\n",
              "          const docLink = document.createElement('div');\n",
              "          docLink.innerHTML = docLinkHtml;\n",
              "          element.appendChild(docLink);\n",
              "        }\n",
              "      </script>\n",
              "    </div>\n",
              "  </div>\n",
              "  "
            ]
          },
          "metadata": {},
          "execution_count": 3
        }
      ],
      "source": [
        "df=pd.read_csv(\"/content/Customer Conversion Prediction - Customer Conversion Prediction.csv\")\n",
        "df.head()"
      ]
    },
    {
      "cell_type": "code",
      "source": [
        "df.shape"
      ],
      "metadata": {
        "colab": {
          "base_uri": "https://localhost:8080/"
        },
        "id": "RbNfgHb5OnCJ",
        "outputId": "32f9f4bd-f3f7-4e16-e63a-d36189ab14b7"
      },
      "execution_count": null,
      "outputs": [
        {
          "output_type": "execute_result",
          "data": {
            "text/plain": [
              "(45211, 11)"
            ]
          },
          "metadata": {},
          "execution_count": 4
        }
      ]
    },
    {
      "cell_type": "markdown",
      "source": [
        "Well !... we have 45211 rows and 11 columns"
      ],
      "metadata": {
        "id": "FBemDhECRotb"
      }
    },
    {
      "cell_type": "code",
      "source": [
        "df.columns"
      ],
      "metadata": {
        "colab": {
          "base_uri": "https://localhost:8080/"
        },
        "id": "RHim6krgRuVL",
        "outputId": "5823b90d-41dc-4431-f004-4b7e97c399e3"
      },
      "execution_count": null,
      "outputs": [
        {
          "output_type": "execute_result",
          "data": {
            "text/plain": [
              "Index(['age', 'job', 'marital', 'education_qual', 'call_type', 'day', 'mon',\n",
              "       'dur', 'num_calls', 'prev_outcome', 'y'],\n",
              "      dtype='object')"
            ]
          },
          "metadata": {},
          "execution_count": 12
        }
      ]
    },
    {
      "cell_type": "markdown",
      "source": [
        "our column names looks pretty straight forward and in lower case. So, We can proceed with this. No modification is necessary."
      ],
      "metadata": {
        "id": "iHkkbp6hR2sL"
      }
    },
    {
      "cell_type": "markdown",
      "source": [
        "Checking for missing values..."
      ],
      "metadata": {
        "id": "xdBNIxZ2StNJ"
      }
    },
    {
      "cell_type": "code",
      "source": [
        "#check for null values in respective columns\n",
        "df.isna().sum()"
      ],
      "metadata": {
        "colab": {
          "base_uri": "https://localhost:8080/"
        },
        "id": "N5YBw0lHR-Z3",
        "outputId": "40e256eb-6ecd-43b6-d5df-e3b195149112"
      },
      "execution_count": null,
      "outputs": [
        {
          "output_type": "execute_result",
          "data": {
            "text/plain": [
              "age               0\n",
              "job               0\n",
              "marital           0\n",
              "education_qual    0\n",
              "call_type         0\n",
              "day               0\n",
              "mon               0\n",
              "dur               0\n",
              "num_calls         0\n",
              "prev_outcome      0\n",
              "y                 0\n",
              "dtype: int64"
            ]
          },
          "metadata": {},
          "execution_count": 15
        }
      ]
    },
    {
      "cell_type": "markdown",
      "source": [
        "Wow !.. Our data looks pretty much good, since there's no missing values."
      ],
      "metadata": {
        "id": "Dxe9MLgZTA18"
      }
    },
    {
      "cell_type": "markdown",
      "source": [
        "Checking for data types of columns\n"
      ],
      "metadata": {
        "id": "Z2SWZLEdTqU_"
      }
    },
    {
      "cell_type": "code",
      "source": [
        "df.info()"
      ],
      "metadata": {
        "colab": {
          "base_uri": "https://localhost:8080/"
        },
        "id": "-gV2z7lITNjX",
        "outputId": "d0d139b5-1cd4-45f3-c39e-18d08e2a05b3"
      },
      "execution_count": null,
      "outputs": [
        {
          "output_type": "stream",
          "name": "stdout",
          "text": [
            "<class 'pandas.core.frame.DataFrame'>\n",
            "RangeIndex: 45211 entries, 0 to 45210\n",
            "Data columns (total 11 columns):\n",
            " #   Column          Non-Null Count  Dtype \n",
            "---  ------          --------------  ----- \n",
            " 0   age             45211 non-null  int64 \n",
            " 1   job             45211 non-null  object\n",
            " 2   marital         45211 non-null  object\n",
            " 3   education_qual  45211 non-null  object\n",
            " 4   call_type       45211 non-null  object\n",
            " 5   day             45211 non-null  int64 \n",
            " 6   mon             45211 non-null  object\n",
            " 7   dur             45211 non-null  int64 \n",
            " 8   num_calls       45211 non-null  int64 \n",
            " 9   prev_outcome    45211 non-null  object\n",
            " 10  y               45211 non-null  object\n",
            "dtypes: int64(4), object(7)\n",
            "memory usage: 3.8+ MB\n"
          ]
        }
      ]
    },
    {
      "cell_type": "markdown",
      "source": [
        "Let's focus on the object/category type datatypes and get to know the counts and uniformity of values. "
      ],
      "metadata": {
        "id": "D2w60uZUVkDq"
      }
    },
    {
      "cell_type": "code",
      "source": [
        "object_cols = [col for col in df.columns if df[col].dtype == 'object']\n",
        "for col in object_cols:\n",
        "  print(\"'{}' column has divided into {} categories\".format(col,len(df[col].value_counts())))"
      ],
      "metadata": {
        "colab": {
          "base_uri": "https://localhost:8080/"
        },
        "id": "YZYIcT-lV2kR",
        "outputId": "b5d61aff-542c-458d-b929-e3a45c2e5395"
      },
      "execution_count": null,
      "outputs": [
        {
          "output_type": "stream",
          "name": "stdout",
          "text": [
            "'job' column has divided into 12 categories\n",
            "'marital' column has divided into 3 categories\n",
            "'education_qual' column has divided into 4 categories\n",
            "'call_type' column has divided into 3 categories\n",
            "'mon' column has divided into 12 categories\n",
            "'prev_outcome' column has divided into 4 categories\n",
            "'y' column has divided into 2 categories\n"
          ]
        }
      ]
    },
    {
      "cell_type": "markdown",
      "source": [
        "As we get to know the category counts, we'll further investigate what are all those values."
      ],
      "metadata": {
        "id": "MHrkHorSWzKA"
      }
    },
    {
      "cell_type": "code",
      "source": [
        "for col in object_cols:\n",
        "  print(\"{} :\".format(col))\n",
        "  print(df[col].value_counts())\n",
        "  print(\"**_________________________________________________**\")"
      ],
      "metadata": {
        "colab": {
          "base_uri": "https://localhost:8080/"
        },
        "id": "FeHCWBqQRBgw",
        "outputId": "e9e19488-b2d3-4b8c-f138-54d4c6bc024a"
      },
      "execution_count": null,
      "outputs": [
        {
          "output_type": "stream",
          "name": "stdout",
          "text": [
            "job :\n",
            "blue-collar      9732\n",
            "management       9458\n",
            "technician       7597\n",
            "admin.           5171\n",
            "services         4154\n",
            "retired          2264\n",
            "self-employed    1579\n",
            "entrepreneur     1487\n",
            "unemployed       1303\n",
            "housemaid        1240\n",
            "student           938\n",
            "unknown           288\n",
            "Name: job, dtype: int64\n",
            "**_________________________________________________**\n",
            "marital :\n",
            "married     27214\n",
            "single      12790\n",
            "divorced     5207\n",
            "Name: marital, dtype: int64\n",
            "**_________________________________________________**\n",
            "education_qual :\n",
            "secondary    23202\n",
            "tertiary     13301\n",
            "primary       6851\n",
            "unknown       1857\n",
            "Name: education_qual, dtype: int64\n",
            "**_________________________________________________**\n",
            "call_type :\n",
            "cellular     29285\n",
            "unknown      13020\n",
            "telephone     2906\n",
            "Name: call_type, dtype: int64\n",
            "**_________________________________________________**\n",
            "mon :\n",
            "may    13766\n",
            "jul     6895\n",
            "aug     6247\n",
            "jun     5341\n",
            "nov     3970\n",
            "apr     2932\n",
            "feb     2649\n",
            "jan     1403\n",
            "oct      738\n",
            "sep      579\n",
            "mar      477\n",
            "dec      214\n",
            "Name: mon, dtype: int64\n",
            "**_________________________________________________**\n",
            "prev_outcome :\n",
            "unknown    36959\n",
            "failure     4901\n",
            "other       1840\n",
            "success     1511\n",
            "Name: prev_outcome, dtype: int64\n",
            "**_________________________________________________**\n",
            "y :\n",
            "no     39922\n",
            "yes     5289\n",
            "Name: y, dtype: int64\n",
            "**_________________________________________________**\n"
          ]
        }
      ]
    },
    {
      "cell_type": "markdown",
      "source": [
        "We have observed that in the column \"JOB\" for one category the value has full-stop to it's end. So we don't need and will remove.\n",
        "\n",
        "Column - JOB\n",
        "\n",
        "*value \"admin.\" to \"admin\"*"
      ],
      "metadata": {
        "id": "UDjt9THDUjW7"
      }
    },
    {
      "cell_type": "code",
      "source": [
        "df['job']=df['job'].replace({'admin.':'admin'})"
      ],
      "metadata": {
        "id": "zFGgxinJUhne"
      },
      "execution_count": null,
      "outputs": []
    },
    {
      "cell_type": "markdown",
      "source": [
        "We'll confirm whether the change is reflecting."
      ],
      "metadata": {
        "id": "WgAfMeOtXaWW"
      }
    },
    {
      "cell_type": "code",
      "source": [
        "df['job'].value_counts()"
      ],
      "metadata": {
        "colab": {
          "base_uri": "https://localhost:8080/"
        },
        "id": "BAskWg-KXdqa",
        "outputId": "c65d1360-8f3e-4f9e-8957-b5f5dd32ed24"
      },
      "execution_count": null,
      "outputs": [
        {
          "output_type": "execute_result",
          "data": {
            "text/plain": [
              "blue-collar      9732\n",
              "management       9458\n",
              "technician       7597\n",
              "admin            5171\n",
              "services         4154\n",
              "retired          2264\n",
              "self-employed    1579\n",
              "entrepreneur     1487\n",
              "unemployed       1303\n",
              "housemaid        1240\n",
              "student           938\n",
              "unknown           288\n",
              "Name: job, dtype: int64"
            ]
          },
          "metadata": {},
          "execution_count": 5
        }
      ]
    },
    {
      "cell_type": "markdown",
      "source": [
        "Let's drop all the duplicate values."
      ],
      "metadata": {
        "id": "kZo0HemBXyUm"
      }
    },
    {
      "cell_type": "code",
      "source": [
        "df=df.drop_duplicates()"
      ],
      "metadata": {
        "id": "PF9BU1ReXx6d"
      },
      "execution_count": null,
      "outputs": []
    },
    {
      "cell_type": "code",
      "source": [
        "df.shape"
      ],
      "metadata": {
        "colab": {
          "base_uri": "https://localhost:8080/"
        },
        "id": "Oss5wcACX7lF",
        "outputId": "af412a77-7e0f-4015-dda1-d2bc904e3c01"
      },
      "execution_count": null,
      "outputs": [
        {
          "output_type": "execute_result",
          "data": {
            "text/plain": [
              "(45205, 11)"
            ]
          },
          "metadata": {},
          "execution_count": 7
        }
      ]
    },
    {
      "cell_type": "markdown",
      "source": [
        "Before we had 45211 rows and after dropping duplicates we got 45205, which is considerably less but still it will mess up the model, if not taken care.\n"
      ],
      "metadata": {
        "id": "wn6wPbIaYC3X"
      }
    },
    {
      "cell_type": "markdown",
      "source": [
        "## Visualizing data 📊"
      ],
      "metadata": {
        "id": "EmgfOl9LYXdj"
      }
    },
    {
      "cell_type": "markdown",
      "source": [
        "We will plot all the categorical columns in a countplot and check the data distribution."
      ],
      "metadata": {
        "id": "mT1Rs38MJLBc"
      }
    },
    {
      "cell_type": "code",
      "source": [
        "object_cols"
      ],
      "metadata": {
        "colab": {
          "base_uri": "https://localhost:8080/"
        },
        "id": "GnVOrCE6J9ea",
        "outputId": "e858a40f-0819-4476-ed8b-2497759a60be"
      },
      "execution_count": null,
      "outputs": [
        {
          "output_type": "execute_result",
          "data": {
            "text/plain": [
              "['job', 'marital', 'education_qual', 'call_type', 'mon', 'prev_outcome', 'y']"
            ]
          },
          "metadata": {},
          "execution_count": 7
        }
      ]
    },
    {
      "cell_type": "code",
      "source": [
        "sns.set_theme(style='darkgrid',palette='pastel')\n",
        "\n",
        "plt.figure(figsize=(22,25))\n",
        "plt.subplot(321)\n",
        "sns.countplot(df['job'],order=df['job'].value_counts().index[::-1],hue=df['y']) #note when we do apply \".value_counts\" to column it will display result in descending order, so we are getting its index and reversing to get ascending sequence of values to be displayed.\n",
        "plt.xticks(rotation=22)\n",
        "plt.xlabel('job')\n",
        "plt.ylabel('count')\n",
        "plt.title(\"Customer subscription based on job\")\n",
        "\n",
        "plt.subplot(322)\n",
        "sns.countplot(df['job'],order=df['job'].value_counts().index[::-1]) \n",
        "plt.xticks(rotation=22)\n",
        "plt.xlabel('job')\n",
        "plt.ylabel('count')\n",
        "plt.title(\"Customer subscription based on job\")\n",
        "\n",
        "plt.subplot(323)\n",
        "sns.countplot(df['marital'],order=df['marital'].value_counts().index[::-1],hue=df['y']) \n",
        "plt.xticks(rotation=22)\n",
        "plt.xlabel('marital')\n",
        "plt.ylabel('count')\n",
        "plt.title(\"Customer subscription based on marital status\")\n",
        "\n",
        "plt.subplot(324)\n",
        "sns.countplot(df['marital'],order=df['marital'].value_counts().index[::-1]) \n",
        "plt.xticks(rotation=22)\n",
        "plt.xlabel('marital')\n",
        "plt.ylabel('count')\n",
        "plt.title(\"Customer subscription based on marital status\")\n",
        "\n",
        "plt.subplot(325)\n",
        "sns.countplot(df['education_qual'],order=df['education_qual'].value_counts().index[::-1],hue=df['y']) \n",
        "plt.xticks(rotation=22)\n",
        "plt.xlabel('educational_qual')\n",
        "plt.ylabel('count')\n",
        "plt.title(\"Customer subscription based on educational qualification\")\n",
        "\n",
        "plt.subplot(326)\n",
        "sns.countplot(df['education_qual'],order=df['education_qual'].value_counts().index[::-1]) \n",
        "plt.xticks(rotation=22)\n",
        "plt.xlabel('educational_qual')\n",
        "plt.ylabel('count')\n",
        "plt.title(\"Customer subscription based on educational qualification\")\n",
        "\n",
        "\n",
        "\n"
      ],
      "metadata": {
        "id": "3gc8eXArYTzb",
        "colab": {
          "base_uri": "https://localhost:8080/",
          "height": 1000
        },
        "outputId": "7778728f-7210-4d98-ee70-b4d5f3ac4e88"
      },
      "execution_count": null,
      "outputs": [
        {
          "output_type": "stream",
          "name": "stderr",
          "text": [
            "/usr/local/lib/python3.9/dist-packages/seaborn/_decorators.py:36: FutureWarning: Pass the following variable as a keyword arg: x. From version 0.12, the only valid positional argument will be `data`, and passing other arguments without an explicit keyword will result in an error or misinterpretation.\n",
            "  warnings.warn(\n",
            "/usr/local/lib/python3.9/dist-packages/seaborn/_decorators.py:36: FutureWarning: Pass the following variable as a keyword arg: x. From version 0.12, the only valid positional argument will be `data`, and passing other arguments without an explicit keyword will result in an error or misinterpretation.\n",
            "  warnings.warn(\n",
            "/usr/local/lib/python3.9/dist-packages/seaborn/_decorators.py:36: FutureWarning: Pass the following variable as a keyword arg: x. From version 0.12, the only valid positional argument will be `data`, and passing other arguments without an explicit keyword will result in an error or misinterpretation.\n",
            "  warnings.warn(\n",
            "/usr/local/lib/python3.9/dist-packages/seaborn/_decorators.py:36: FutureWarning: Pass the following variable as a keyword arg: x. From version 0.12, the only valid positional argument will be `data`, and passing other arguments without an explicit keyword will result in an error or misinterpretation.\n",
            "  warnings.warn(\n",
            "/usr/local/lib/python3.9/dist-packages/seaborn/_decorators.py:36: FutureWarning: Pass the following variable as a keyword arg: x. From version 0.12, the only valid positional argument will be `data`, and passing other arguments without an explicit keyword will result in an error or misinterpretation.\n",
            "  warnings.warn(\n",
            "/usr/local/lib/python3.9/dist-packages/seaborn/_decorators.py:36: FutureWarning: Pass the following variable as a keyword arg: x. From version 0.12, the only valid positional argument will be `data`, and passing other arguments without an explicit keyword will result in an error or misinterpretation.\n",
            "  warnings.warn(\n"
          ]
        },
        {
          "output_type": "execute_result",
          "data": {
            "text/plain": [
              "Text(0.5, 1.0, 'Customer subscription based on educational qualification')"
            ]
          },
          "metadata": {},
          "execution_count": 15
        },
        {
          "output_type": "display_data",
          "data": {
            "text/plain": [
              "<Figure size 1584x1800 with 6 Axes>"
            ],
            "image/png": "[encoded data removed]"
          },
          "metadata": {}
        }
      ]
    },
    {
      "cell_type": "markdown",
      "source": [
        "Inferences from the above plots: 💡\n",
        "\n",
        "1. The most number of peoples who has bluecollar jobs contributed to the data, whereas high no of subscriptions came from managemnet category peoples followed by technician.\n",
        "2. People who were married contributed more towards subscriptions followed by single and divorced.\n",
        "3. People with secondary education background had more engagements with campaign then rest and also more subscriptions comparitively higher than tertiary."
      ],
      "metadata": {
        "id": "tkXVLhQBLrWv"
      }
    },
    {
      "cell_type": "code",
      "source": [
        "plt.figure(figsize=(22,25))\n",
        "plt.subplot(321)\n",
        "sns.countplot(df['call_type'],order=df['call_type'].value_counts().index[::-1],hue=df['y']) \n",
        "plt.xticks(rotation=22)\n",
        "plt.xlabel('call_type')\n",
        "plt.ylabel('count')\n",
        "plt.title(\"Customer subscription based on  call type\")\n",
        "\n",
        "plt.subplot(322)\n",
        "sns.countplot(df['call_type'],order=df['call_type'].value_counts().index[::-1]) \n",
        "plt.xticks(rotation=22)\n",
        "plt.xlabel('call_type')\n",
        "plt.ylabel('count')\n",
        "plt.title(\"Customer subscription based on  call type\")\n",
        "\n",
        "plt.subplot(323)\n",
        "sns.countplot(df['mon'],order=df['mon'].value_counts().index[::-1],hue=df['y']) \n",
        "plt.xticks(rotation=22)\n",
        "plt.xlabel('month')\n",
        "plt.ylabel('count')\n",
        "plt.title(\"Customer subscription based on month\")\n",
        "\n",
        "plt.subplot(324)\n",
        "sns.countplot(df['mon'],order=df['mon'].value_counts().index[::-1]) \n",
        "plt.xticks(rotation=22)\n",
        "plt.xlabel('month')\n",
        "plt.ylabel('count')\n",
        "plt.title(\"Customer subscription based on month\")\n",
        "\n",
        "plt.subplot(325)\n",
        "sns.countplot(df['prev_outcome'],order=df['prev_outcome'].value_counts().index[::-1],hue=df['y']) \n",
        "plt.xticks(rotation=22)\n",
        "plt.xlabel('Previous outcome')\n",
        "plt.ylabel('count')\n",
        "plt.title(\"Customer subscription based on previous campaign outcome\")\n",
        "\n",
        "plt.subplot(326)\n",
        "sns.countplot(df['prev_outcome'],order=df['prev_outcome'].value_counts().index[::-1]) \n",
        "plt.xticks(rotation=22)\n",
        "plt.xlabel('Previous outcome')\n",
        "plt.ylabel('count')\n",
        "plt.title(\"Customer subscription based on previous campaign outcome\")"
      ],
      "metadata": {
        "colab": {
          "base_uri": "https://localhost:8080/",
          "height": 1000
        },
        "id": "EJFv-fflKkoL",
        "outputId": "d9944101-cb99-40c8-9889-141f062fc4a7"
      },
      "execution_count": null,
      "outputs": [
        {
          "output_type": "stream",
          "name": "stderr",
          "text": [
            "/usr/local/lib/python3.9/dist-packages/seaborn/_decorators.py:36: FutureWarning: Pass the following variable as a keyword arg: x. From version 0.12, the only valid positional argument will be `data`, and passing other arguments without an explicit keyword will result in an error or misinterpretation.\n",
            "  warnings.warn(\n",
            "/usr/local/lib/python3.9/dist-packages/seaborn/_decorators.py:36: FutureWarning: Pass the following variable as a keyword arg: x. From version 0.12, the only valid positional argument will be `data`, and passing other arguments without an explicit keyword will result in an error or misinterpretation.\n",
            "  warnings.warn(\n",
            "/usr/local/lib/python3.9/dist-packages/seaborn/_decorators.py:36: FutureWarning: Pass the following variable as a keyword arg: x. From version 0.12, the only valid positional argument will be `data`, and passing other arguments without an explicit keyword will result in an error or misinterpretation.\n",
            "  warnings.warn(\n",
            "/usr/local/lib/python3.9/dist-packages/seaborn/_decorators.py:36: FutureWarning: Pass the following variable as a keyword arg: x. From version 0.12, the only valid positional argument will be `data`, and passing other arguments without an explicit keyword will result in an error or misinterpretation.\n",
            "  warnings.warn(\n",
            "/usr/local/lib/python3.9/dist-packages/seaborn/_decorators.py:36: FutureWarning: Pass the following variable as a keyword arg: x. From version 0.12, the only valid positional argument will be `data`, and passing other arguments without an explicit keyword will result in an error or misinterpretation.\n",
            "  warnings.warn(\n",
            "/usr/local/lib/python3.9/dist-packages/seaborn/_decorators.py:36: FutureWarning: Pass the following variable as a keyword arg: x. From version 0.12, the only valid positional argument will be `data`, and passing other arguments without an explicit keyword will result in an error or misinterpretation.\n",
            "  warnings.warn(\n"
          ]
        },
        {
          "output_type": "execute_result",
          "data": {
            "text/plain": [
              "Text(0.5, 1.0, 'Customer subscription based on previous campaign outcome')"
            ]
          },
          "metadata": {},
          "execution_count": 19
        },
        {
          "output_type": "display_data",
          "data": {
            "text/plain": [
              "<Figure size 1584x1800 with 6 Axes>"
            ],
            "image/png": "[encoded data removed]"
          },
          "metadata": {}
        }
      ]
    },
    {
      "cell_type": "markdown",
      "source": [
        "Inferences from the above plots: 💡\n",
        "\n",
        "4. cellular mode of communication plays major role in customer subscription.\n",
        "5. Out of all, May month tops the chart for the number of interactions and subscriptions as well.\n",
        "6. From the previous outcome column we can see that \"unknown\" category tops the chart and significantly covers more than 75% of data.\n",
        "\n"
      ],
      "metadata": {
        "id": "Oa9Id4XlPnOv"
      }
    },
    {
      "cell_type": "code",
      "source": [
        "#checking the propotion of previous_outcome column\n",
        "plt.figure(figsize=(10,12))\n",
        "plt.pie(df['prev_outcome'].value_counts(),\n",
        "        labels=df['prev_outcome'].value_counts().index,\n",
        "        colors=sns.color_palette('bright'),\n",
        "        explode = (0.05, 0.05, 0.05, 0.05),\n",
        "        autopct='%.0f%%')"
      ],
      "metadata": {
        "colab": {
          "base_uri": "https://localhost:8080/",
          "height": 797
        },
        "id": "0auZp-FBShxU",
        "outputId": "8aab94ca-d97c-4959-d3b8-15c0c8982bd1"
      },
      "execution_count": null,
      "outputs": [
        {
          "output_type": "execute_result",
          "data": {
            "text/plain": [
              "([<matplotlib.patches.Wedge at 0x7fd099e52970>,\n",
              "  <matplotlib.patches.Wedge at 0x7fd099e5f0a0>,\n",
              "  <matplotlib.patches.Wedge at 0x7fd099e5f6d0>,\n",
              "  <matplotlib.patches.Wedge at 0x7fd099e5fdf0>],\n",
              " [Text(-0.9660170395616267, 0.6239479780210775, 'unknown'),\n",
              "  Text(0.7959424404754246, -0.8300455598640507, 'failure'),\n",
              "  Text(1.0849737202649876, -0.38122437793818076, 'other'),\n",
              "  Text(1.1436653091101239, -0.12053904238065394, 'success')],\n",
              " [Text(-0.5460096310565715, 0.35266624844669586, '82%'),\n",
              "  Text(0.4498805098339356, -0.46915618601011555, '11%'),\n",
              "  Text(0.6132460158019495, -0.21547464839984132, '4%'),\n",
              "  Text(0.6464195225405047, -0.06813076308471744, '3%')])"
            ]
          },
          "metadata": {},
          "execution_count": 11
        },
        {
          "output_type": "display_data",
          "data": {
            "text/plain": [
              "<Figure size 720x864 with 1 Axes>"
            ],
            "image/png": "[encoded data removed]"
          },
          "metadata": {}
        }
      ]
    },
    {
      "cell_type": "markdown",
      "source": [
        "We can see that 82% of data is unknown for the previous campaign outcome."
      ],
      "metadata": {
        "id": "N9kCzZDiU_Xz"
      }
    },
    {
      "cell_type": "code",
      "source": [
        "plt.figure(figsize=(20,22))\n",
        "plt.subplot(321)\n",
        "sns.boxplot(x=df['y'],y=df['age'])\n",
        "\n",
        "plt.subplot(322)\n",
        "sns.boxplot(x=df['y'],y=df['dur'])\n",
        "\n",
        "plt.subplot(323)\n",
        "sns.boxplot(x=df['y'],y=df['day'])\n",
        "\n",
        "plt.subplot(324)\n",
        "sns.boxplot(x=df['y'],y=df['num_calls'])"
      ],
      "metadata": {
        "colab": {
          "base_uri": "https://localhost:8080/",
          "height": 853
        },
        "id": "yMPxWtAY3pQM",
        "outputId": "93dc2541-7ebd-4516-8ffa-90f7d09aacfe"
      },
      "execution_count": null,
      "outputs": [
        {
          "output_type": "execute_result",
          "data": {
            "text/plain": [
              "<AxesSubplot:xlabel='y', ylabel='num_calls'>"
            ]
          },
          "metadata": {},
          "execution_count": 19
        },
        {
          "output_type": "display_data",
          "data": {
            "text/plain": [
              "<Figure size 1440x1584 with 4 Axes>"
            ],
            "image/png": "[encoded data removed]"
          },
          "metadata": {
            "needs_background": "light"
          }
        }
      ]
    },
    {
      "cell_type": "markdown",
      "source": [
        "# **Encoding categorical varibales: 🔢**"
      ],
      "metadata": {
        "id": "iIRqGY8DM-Fa"
      }
    },
    {
      "cell_type": "markdown",
      "source": [
        "Note that the count distribution of the JOB category is somewhat linear, so in places where it took jump i have skipped one variable."
      ],
      "metadata": {
        "id": "KsmAZuamSznJ"
      }
    },
    {
      "cell_type": "code",
      "source": [
        "df['job']=df['job'].map({'unknown':0,'student':2,'housemaid':3,'unemployed':4,'entrepreneur':5,'self-employed':6,'retired':7,'services':10,'admin':12,\n",
        "                         'technician':15,'management':18,'blue-collar':19})"
      ],
      "metadata": {
        "id": "UZVLcaNoRymC"
      },
      "execution_count": null,
      "outputs": []
    },
    {
      "cell_type": "code",
      "source": [
        "df['marital']=df['marital'].map({'divorced':0,'single':1,'married':2})"
      ],
      "metadata": {
        "id": "b_vUWqZxSuYe"
      },
      "execution_count": null,
      "outputs": []
    },
    {
      "cell_type": "code",
      "source": [
        "df['education_qual']=df['education_qual'].map({'unknown':0,'primary':2,'tertiary':4,'secondary':6})"
      ],
      "metadata": {
        "id": "Gns5oMO1ULv7"
      },
      "execution_count": null,
      "outputs": []
    },
    {
      "cell_type": "markdown",
      "source": [
        "call type is nominal data and has less category, so for this we can go with one-hot encoding. "
      ],
      "metadata": {
        "id": "DTfr7RaoV9Fu"
      }
    },
    {
      "cell_type": "code",
      "source": [
        "df = pd.get_dummies(df, columns = ['call_type'])"
      ],
      "metadata": {
        "id": "xpDIZnFjWQhC"
      },
      "execution_count": null,
      "outputs": []
    },
    {
      "cell_type": "markdown",
      "source": [
        "Even though the month column does not follows a linear pattern, still we will go for label encoder since the no of categories are significantly higher. So we'll skip variables accordingly the raise in data."
      ],
      "metadata": {
        "id": "DTEaNwKIXmij"
      }
    },
    {
      "cell_type": "code",
      "source": [
        "df['mon']=df['mon'].map({'dec':0,'mar':1,'sep':2,'oct':3,'jan':5,'feb':7,\n",
        "                         'apr':8,'nov':10,'jun':12,'aug':13,'jul':14,'may':20})"
      ],
      "metadata": {
        "id": "47eE4oBDWolF"
      },
      "execution_count": null,
      "outputs": []
    },
    {
      "cell_type": "code",
      "source": [
        "df['prev_outcome']=df['prev_outcome'].map({'success':0,'other':1,'failure':5,'unknown':9}) "
      ],
      "metadata": {
        "id": "_VhROgLNX7Ki"
      },
      "execution_count": null,
      "outputs": []
    },
    {
      "cell_type": "code",
      "source": [
        "df.head()"
      ],
      "metadata": {
        "colab": {
          "base_uri": "https://localhost:8080/",
          "height": 206
        },
        "id": "fAnItC2OYdLA",
        "outputId": "347cdd24-69b1-4d04-d9fd-278f489e3b34"
      },
      "execution_count": null,
      "outputs": [
        {
          "output_type": "execute_result",
          "data": {
            "text/plain": [
              "   age  job  marital  education_qual  day  mon  dur  num_calls  prev_outcome  \\\n",
              "0   58   18        2               4    5   20  261          1             9   \n",
              "1   44   15        1               6    5   20  151          1             9   \n",
              "2   33    5        2               6    5   20   76          1             9   \n",
              "3   47   19        2               0    5   20   92          1             9   \n",
              "4   33    0        1               0    5   20  198          1             9   \n",
              "\n",
              "    y  call_type_cellular  call_type_telephone  call_type_unknown  \n",
              "0  no                   0                    0                  1  \n",
              "1  no                   0                    0                  1  \n",
              "2  no                   0                    0                  1  \n",
              "3  no                   0                    0                  1  \n",
              "4  no                   0                    0                  1  "
            ],
            "text/html": [
              "\n",
              "  <div id=\"df-077eb223-7ee2-4c67-b216-e1aa95a73527\">\n",
              "    <div class=\"colab-df-container\">\n",
              "      <div>\n",
              "<style scoped>\n",
              "    .dataframe tbody tr th:only-of-type {\n",
              "        vertical-align: middle;\n",
              "    }\n",
              "\n",
              "    .dataframe tbody tr th {\n",
              "        vertical-align: top;\n",
              "    }\n",
              "\n",
              "    .dataframe thead th {\n",
              "        text-align: right;\n",
              "    }\n",
              "</style>\n",
              "<table border=\"1\" class=\"dataframe\">\n",
              "  <thead>\n",
              "    <tr style=\"text-align: right;\">\n",
              "      <th></th>\n",
              "      <th>age</th>\n",
              "      <th>job</th>\n",
              "      <th>marital</th>\n",
              "      <th>education_qual</th>\n",
              "      <th>day</th>\n",
              "      <th>mon</th>\n",
              "      <th>dur</th>\n",
              "      <th>num_calls</th>\n",
              "      <th>prev_outcome</th>\n",
              "      <th>y</th>\n",
              "      <th>call_type_cellular</th>\n",
              "      <th>call_type_telephone</th>\n",
              "      <th>call_type_unknown</th>\n",
              "    </tr>\n",
              "  </thead>\n",
              "  <tbody>\n",
              "    <tr>\n",
              "      <th>0</th>\n",
              "      <td>58</td>\n",
              "      <td>18</td>\n",
              "      <td>2</td>\n",
              "      <td>4</td>\n",
              "      <td>5</td>\n",
              "      <td>20</td>\n",
              "      <td>261</td>\n",
              "      <td>1</td>\n",
              "      <td>9</td>\n",
              "      <td>no</td>\n",
              "      <td>0</td>\n",
              "      <td>0</td>\n",
              "      <td>1</td>\n",
              "    </tr>\n",
              "    <tr>\n",
              "      <th>1</th>\n",
              "      <td>44</td>\n",
              "      <td>15</td>\n",
              "      <td>1</td>\n",
              "      <td>6</td>\n",
              "      <td>5</td>\n",
              "      <td>20</td>\n",
              "      <td>151</td>\n",
              "      <td>1</td>\n",
              "      <td>9</td>\n",
              "      <td>no</td>\n",
              "      <td>0</td>\n",
              "      <td>0</td>\n",
              "      <td>1</td>\n",
              "    </tr>\n",
              "    <tr>\n",
              "      <th>2</th>\n",
              "      <td>33</td>\n",
              "      <td>5</td>\n",
              "      <td>2</td>\n",
              "      <td>6</td>\n",
              "      <td>5</td>\n",
              "      <td>20</td>\n",
              "      <td>76</td>\n",
              "      <td>1</td>\n",
              "      <td>9</td>\n",
              "      <td>no</td>\n",
              "      <td>0</td>\n",
              "      <td>0</td>\n",
              "      <td>1</td>\n",
              "    </tr>\n",
              "    <tr>\n",
              "      <th>3</th>\n",
              "      <td>47</td>\n",
              "      <td>19</td>\n",
              "      <td>2</td>\n",
              "      <td>0</td>\n",
              "      <td>5</td>\n",
              "      <td>20</td>\n",
              "      <td>92</td>\n",
              "      <td>1</td>\n",
              "      <td>9</td>\n",
              "      <td>no</td>\n",
              "      <td>0</td>\n",
              "      <td>0</td>\n",
              "      <td>1</td>\n",
              "    </tr>\n",
              "    <tr>\n",
              "      <th>4</th>\n",
              "      <td>33</td>\n",
              "      <td>0</td>\n",
              "      <td>1</td>\n",
              "      <td>0</td>\n",
              "      <td>5</td>\n",
              "      <td>20</td>\n",
              "      <td>198</td>\n",
              "      <td>1</td>\n",
              "      <td>9</td>\n",
              "      <td>no</td>\n",
              "      <td>0</td>\n",
              "      <td>0</td>\n",
              "      <td>1</td>\n",
              "    </tr>\n",
              "  </tbody>\n",
              "</table>\n",
              "</div>\n",
              "      <button class=\"colab-df-convert\" onclick=\"convertToInteractive('df-077eb223-7ee2-4c67-b216-e1aa95a73527')\"\n",
              "              title=\"Convert this dataframe to an interactive table.\"\n",
              "              style=\"display:none;\">\n",
              "        \n",
              "  <svg xmlns=\"http://www.w3.org/2000/svg\" height=\"24px\"viewBox=\"0 0 24 24\"\n",
              "       width=\"24px\">\n",
              "    <path d=\"M0 0h24v24H0V0z\" fill=\"none\"/>\n",
              "    <path d=\"M18.56 5.44l.94 2.06.94-2.06 2.06-.94-2.06-.94-.94-2.06-.94 2.06-2.06.94zm-11 1L8.5 8.5l.94-2.06 2.06-.94-2.06-.94L8.5 2.5l-.94 2.06-2.06.94zm10 10l.94 2.06.94-2.06 2.06-.94-2.06-.94-.94-2.06-.94 2.06-2.06.94z\"/><path d=\"M17.41 7.96l-1.37-1.37c-.4-.4-.92-.59-1.43-.59-.52 0-1.04.2-1.43.59L10.3 9.45l-7.72 7.72c-.78.78-.78 2.05 0 2.83L4 21.41c.39.39.9.59 1.41.59.51 0 1.02-.2 1.41-.59l7.78-7.78 2.81-2.81c.8-.78.8-2.07 0-2.86zM5.41 20L4 18.59l7.72-7.72 1.47 1.35L5.41 20z\"/>\n",
              "  </svg>\n",
              "      </button>\n",
              "      \n",
              "  <style>\n",
              "    .colab-df-container {\n",
              "      display:flex;\n",
              "      flex-wrap:wrap;\n",
              "      gap: 12px;\n",
              "    }\n",
              "\n",
              "    .colab-df-convert {\n",
              "      background-color: #E8F0FE;\n",
              "      border: none;\n",
              "      border-radius: 50%;\n",
              "      cursor: pointer;\n",
              "      display: none;\n",
              "      fill: #1967D2;\n",
              "      height: 32px;\n",
              "      padding: 0 0 0 0;\n",
              "      width: 32px;\n",
              "    }\n",
              "\n",
              "    .colab-df-convert:hover {\n",
              "      background-color: #E2EBFA;\n",
              "      box-shadow: 0px 1px 2px rgba(60, 64, 67, 0.3), 0px 1px 3px 1px rgba(60, 64, 67, 0.15);\n",
              "      fill: #174EA6;\n",
              "    }\n",
              "\n",
              "    [theme=dark] .colab-df-convert {\n",
              "      background-color: #3B4455;\n",
              "      fill: #D2E3FC;\n",
              "    }\n",
              "\n",
              "    [theme=dark] .colab-df-convert:hover {\n",
              "      background-color: #434B5C;\n",
              "      box-shadow: 0px 1px 3px 1px rgba(0, 0, 0, 0.15);\n",
              "      filter: drop-shadow(0px 1px 2px rgba(0, 0, 0, 0.3));\n",
              "      fill: #FFFFFF;\n",
              "    }\n",
              "  </style>\n",
              "\n",
              "      <script>\n",
              "        const buttonEl =\n",
              "          document.querySelector('#df-077eb223-7ee2-4c67-b216-e1aa95a73527 button.colab-df-convert');\n",
              "        buttonEl.style.display =\n",
              "          google.colab.kernel.accessAllowed ? 'block' : 'none';\n",
              "\n",
              "        async function convertToInteractive(key) {\n",
              "          const element = document.querySelector('#df-077eb223-7ee2-4c67-b216-e1aa95a73527');\n",
              "          const dataTable =\n",
              "            await google.colab.kernel.invokeFunction('convertToInteractive',\n",
              "                                                     [key], {});\n",
              "          if (!dataTable) return;\n",
              "\n",
              "          const docLinkHtml = 'Like what you see? Visit the ' +\n",
              "            '<a target=\"_blank\" href=https://colab.research.google.com/notebooks/data_table.ipynb>data table notebook</a>'\n",
              "            + ' to learn more about interactive tables.';\n",
              "          element.innerHTML = '';\n",
              "          dataTable['output_type'] = 'display_data';\n",
              "          await google.colab.output.renderOutput(dataTable, element);\n",
              "          const docLink = document.createElement('div');\n",
              "          docLink.innerHTML = docLinkHtml;\n",
              "          element.appendChild(docLink);\n",
              "        }\n",
              "      </script>\n",
              "    </div>\n",
              "  </div>\n",
              "  "
            ]
          },
          "metadata": {},
          "execution_count": 14
        }
      ]
    },
    {
      "cell_type": "code",
      "source": [
        "df.tail()"
      ],
      "metadata": {
        "colab": {
          "base_uri": "https://localhost:8080/",
          "height": 206
        },
        "id": "sRfMKii5Zqs8",
        "outputId": "5ac45ab4-d5ac-4450-d73b-bd375a806b9e"
      },
      "execution_count": null,
      "outputs": [
        {
          "output_type": "execute_result",
          "data": {
            "text/plain": [
              "       age  job  marital  education_qual  day  mon   dur  num_calls  \\\n",
              "45206   51   15        2               4   17   10   977          3   \n",
              "45207   71    7        0               2   17   10   456          2   \n",
              "45208   72    7        2               6   17   10  1127          5   \n",
              "45209   57   19        2               6   17   10   508          4   \n",
              "45210   37    5        2               6   17   10   361          2   \n",
              "\n",
              "       prev_outcome    y  call_type_cellular  call_type_telephone  \\\n",
              "45206             9  yes                   1                    0   \n",
              "45207             9  yes                   1                    0   \n",
              "45208             0  yes                   1                    0   \n",
              "45209             9   no                   0                    1   \n",
              "45210             1   no                   1                    0   \n",
              "\n",
              "       call_type_unknown  \n",
              "45206                  0  \n",
              "45207                  0  \n",
              "45208                  0  \n",
              "45209                  0  \n",
              "45210                  0  "
            ],
            "text/html": [
              "\n",
              "  <div id=\"df-27a85818-89a6-4e27-9c11-e75bf4afee5d\">\n",
              "    <div class=\"colab-df-container\">\n",
              "      <div>\n",
              "<style scoped>\n",
              "    .dataframe tbody tr th:only-of-type {\n",
              "        vertical-align: middle;\n",
              "    }\n",
              "\n",
              "    .dataframe tbody tr th {\n",
              "        vertical-align: top;\n",
              "    }\n",
              "\n",
              "    .dataframe thead th {\n",
              "        text-align: right;\n",
              "    }\n",
              "</style>\n",
              "<table border=\"1\" class=\"dataframe\">\n",
              "  <thead>\n",
              "    <tr style=\"text-align: right;\">\n",
              "      <th></th>\n",
              "      <th>age</th>\n",
              "      <th>job</th>\n",
              "      <th>marital</th>\n",
              "      <th>education_qual</th>\n",
              "      <th>day</th>\n",
              "      <th>mon</th>\n",
              "      <th>dur</th>\n",
              "      <th>num_calls</th>\n",
              "      <th>prev_outcome</th>\n",
              "      <th>y</th>\n",
              "      <th>call_type_cellular</th>\n",
              "      <th>call_type_telephone</th>\n",
              "      <th>call_type_unknown</th>\n",
              "    </tr>\n",
              "  </thead>\n",
              "  <tbody>\n",
              "    <tr>\n",
              "      <th>45206</th>\n",
              "      <td>51</td>\n",
              "      <td>15</td>\n",
              "      <td>2</td>\n",
              "      <td>4</td>\n",
              "      <td>17</td>\n",
              "      <td>10</td>\n",
              "      <td>977</td>\n",
              "      <td>3</td>\n",
              "      <td>9</td>\n",
              "      <td>yes</td>\n",
              "      <td>1</td>\n",
              "      <td>0</td>\n",
              "      <td>0</td>\n",
              "    </tr>\n",
              "    <tr>\n",
              "      <th>45207</th>\n",
              "      <td>71</td>\n",
              "      <td>7</td>\n",
              "      <td>0</td>\n",
              "      <td>2</td>\n",
              "      <td>17</td>\n",
              "      <td>10</td>\n",
              "      <td>456</td>\n",
              "      <td>2</td>\n",
              "      <td>9</td>\n",
              "      <td>yes</td>\n",
              "      <td>1</td>\n",
              "      <td>0</td>\n",
              "      <td>0</td>\n",
              "    </tr>\n",
              "    <tr>\n",
              "      <th>45208</th>\n",
              "      <td>72</td>\n",
              "      <td>7</td>\n",
              "      <td>2</td>\n",
              "      <td>6</td>\n",
              "      <td>17</td>\n",
              "      <td>10</td>\n",
              "      <td>1127</td>\n",
              "      <td>5</td>\n",
              "      <td>0</td>\n",
              "      <td>yes</td>\n",
              "      <td>1</td>\n",
              "      <td>0</td>\n",
              "      <td>0</td>\n",
              "    </tr>\n",
              "    <tr>\n",
              "      <th>45209</th>\n",
              "      <td>57</td>\n",
              "      <td>19</td>\n",
              "      <td>2</td>\n",
              "      <td>6</td>\n",
              "      <td>17</td>\n",
              "      <td>10</td>\n",
              "      <td>508</td>\n",
              "      <td>4</td>\n",
              "      <td>9</td>\n",
              "      <td>no</td>\n",
              "      <td>0</td>\n",
              "      <td>1</td>\n",
              "      <td>0</td>\n",
              "    </tr>\n",
              "    <tr>\n",
              "      <th>45210</th>\n",
              "      <td>37</td>\n",
              "      <td>5</td>\n",
              "      <td>2</td>\n",
              "      <td>6</td>\n",
              "      <td>17</td>\n",
              "      <td>10</td>\n",
              "      <td>361</td>\n",
              "      <td>2</td>\n",
              "      <td>1</td>\n",
              "      <td>no</td>\n",
              "      <td>1</td>\n",
              "      <td>0</td>\n",
              "      <td>0</td>\n",
              "    </tr>\n",
              "  </tbody>\n",
              "</table>\n",
              "</div>\n",
              "      <button class=\"colab-df-convert\" onclick=\"convertToInteractive('df-27a85818-89a6-4e27-9c11-e75bf4afee5d')\"\n",
              "              title=\"Convert this dataframe to an interactive table.\"\n",
              "              style=\"display:none;\">\n",
              "        \n",
              "  <svg xmlns=\"http://www.w3.org/2000/svg\" height=\"24px\"viewBox=\"0 0 24 24\"\n",
              "       width=\"24px\">\n",
              "    <path d=\"M0 0h24v24H0V0z\" fill=\"none\"/>\n",
              "    <path d=\"M18.56 5.44l.94 2.06.94-2.06 2.06-.94-2.06-.94-.94-2.06-.94 2.06-2.06.94zm-11 1L8.5 8.5l.94-2.06 2.06-.94-2.06-.94L8.5 2.5l-.94 2.06-2.06.94zm10 10l.94 2.06.94-2.06 2.06-.94-2.06-.94-.94-2.06-.94 2.06-2.06.94z\"/><path d=\"M17.41 7.96l-1.37-1.37c-.4-.4-.92-.59-1.43-.59-.52 0-1.04.2-1.43.59L10.3 9.45l-7.72 7.72c-.78.78-.78 2.05 0 2.83L4 21.41c.39.39.9.59 1.41.59.51 0 1.02-.2 1.41-.59l7.78-7.78 2.81-2.81c.8-.78.8-2.07 0-2.86zM5.41 20L4 18.59l7.72-7.72 1.47 1.35L5.41 20z\"/>\n",
              "  </svg>\n",
              "      </button>\n",
              "      \n",
              "  <style>\n",
              "    .colab-df-container {\n",
              "      display:flex;\n",
              "      flex-wrap:wrap;\n",
              "      gap: 12px;\n",
              "    }\n",
              "\n",
              "    .colab-df-convert {\n",
              "      background-color: #E8F0FE;\n",
              "      border: none;\n",
              "      border-radius: 50%;\n",
              "      cursor: pointer;\n",
              "      display: none;\n",
              "      fill: #1967D2;\n",
              "      height: 32px;\n",
              "      padding: 0 0 0 0;\n",
              "      width: 32px;\n",
              "    }\n",
              "\n",
              "    .colab-df-convert:hover {\n",
              "      background-color: #E2EBFA;\n",
              "      box-shadow: 0px 1px 2px rgba(60, 64, 67, 0.3), 0px 1px 3px 1px rgba(60, 64, 67, 0.15);\n",
              "      fill: #174EA6;\n",
              "    }\n",
              "\n",
              "    [theme=dark] .colab-df-convert {\n",
              "      background-color: #3B4455;\n",
              "      fill: #D2E3FC;\n",
              "    }\n",
              "\n",
              "    [theme=dark] .colab-df-convert:hover {\n",
              "      background-color: #434B5C;\n",
              "      box-shadow: 0px 1px 3px 1px rgba(0, 0, 0, 0.15);\n",
              "      filter: drop-shadow(0px 1px 2px rgba(0, 0, 0, 0.3));\n",
              "      fill: #FFFFFF;\n",
              "    }\n",
              "  </style>\n",
              "\n",
              "      <script>\n",
              "        const buttonEl =\n",
              "          document.querySelector('#df-27a85818-89a6-4e27-9c11-e75bf4afee5d button.colab-df-convert');\n",
              "        buttonEl.style.display =\n",
              "          google.colab.kernel.accessAllowed ? 'block' : 'none';\n",
              "\n",
              "        async function convertToInteractive(key) {\n",
              "          const element = document.querySelector('#df-27a85818-89a6-4e27-9c11-e75bf4afee5d');\n",
              "          const dataTable =\n",
              "            await google.colab.kernel.invokeFunction('convertToInteractive',\n",
              "                                                     [key], {});\n",
              "          if (!dataTable) return;\n",
              "\n",
              "          const docLinkHtml = 'Like what you see? Visit the ' +\n",
              "            '<a target=\"_blank\" href=https://colab.research.google.com/notebooks/data_table.ipynb>data table notebook</a>'\n",
              "            + ' to learn more about interactive tables.';\n",
              "          element.innerHTML = '';\n",
              "          dataTable['output_type'] = 'display_data';\n",
              "          await google.colab.output.renderOutput(dataTable, element);\n",
              "          const docLink = document.createElement('div');\n",
              "          docLink.innerHTML = docLinkHtml;\n",
              "          element.appendChild(docLink);\n",
              "        }\n",
              "      </script>\n",
              "    </div>\n",
              "  </div>\n",
              "  "
            ]
          },
          "metadata": {},
          "execution_count": 15
        }
      ]
    },
    {
      "cell_type": "code",
      "source": [
        "df.info()"
      ],
      "metadata": {
        "colab": {
          "base_uri": "https://localhost:8080/"
        },
        "id": "mIFfCHvxZUHK",
        "outputId": "0863dd9b-fc0d-4532-9c2e-27bc72486de2"
      },
      "execution_count": null,
      "outputs": [
        {
          "output_type": "stream",
          "name": "stdout",
          "text": [
            "<class 'pandas.core.frame.DataFrame'>\n",
            "Int64Index: 45205 entries, 0 to 45210\n",
            "Data columns (total 13 columns):\n",
            " #   Column               Non-Null Count  Dtype \n",
            "---  ------               --------------  ----- \n",
            " 0   age                  45205 non-null  int64 \n",
            " 1   job                  45205 non-null  int64 \n",
            " 2   marital              45205 non-null  int64 \n",
            " 3   education_qual       45205 non-null  int64 \n",
            " 4   day                  45205 non-null  int64 \n",
            " 5   mon                  45205 non-null  int64 \n",
            " 6   dur                  45205 non-null  int64 \n",
            " 7   num_calls            45205 non-null  int64 \n",
            " 8   prev_outcome         45205 non-null  int64 \n",
            " 9   y                    45205 non-null  object\n",
            " 10  call_type_cellular   45205 non-null  uint8 \n",
            " 11  call_type_telephone  45205 non-null  uint8 \n",
            " 12  call_type_unknown    45205 non-null  uint8 \n",
            "dtypes: int64(9), object(1), uint8(3)\n",
            "memory usage: 3.9+ MB\n"
          ]
        }
      ]
    },
    {
      "cell_type": "markdown",
      "source": [
        "Our data looks good and clean ✅.\n",
        "\n",
        "Now we can proceed with splitting of data and fitting the model to predict the outcome."
      ],
      "metadata": {
        "id": "BUilef-HZm5H"
      }
    },
    {
      "cell_type": "code",
      "source": [
        "x=df.drop('y',axis=1)\n",
        "y=df['y']"
      ],
      "metadata": {
        "id": "-dxsbZPeaEFY"
      },
      "execution_count": null,
      "outputs": []
    },
    {
      "cell_type": "code",
      "source": [
        "x"
      ],
      "metadata": {
        "colab": {
          "base_uri": "https://localhost:8080/",
          "height": 423
        },
        "id": "blXsA8Vnaflj",
        "outputId": "bf8984c9-25c0-441e-c703-e46d7e608183"
      },
      "execution_count": null,
      "outputs": [
        {
          "output_type": "execute_result",
          "data": {
            "text/plain": [
              "       age  job  marital  education_qual  day  mon   dur  num_calls  \\\n",
              "0       58   18        2               4    5   20   261          1   \n",
              "1       44   15        1               6    5   20   151          1   \n",
              "2       33    5        2               6    5   20    76          1   \n",
              "3       47   19        2               0    5   20    92          1   \n",
              "4       33    0        1               0    5   20   198          1   \n",
              "...    ...  ...      ...             ...  ...  ...   ...        ...   \n",
              "45206   51   15        2               4   17   10   977          3   \n",
              "45207   71    7        0               2   17   10   456          2   \n",
              "45208   72    7        2               6   17   10  1127          5   \n",
              "45209   57   19        2               6   17   10   508          4   \n",
              "45210   37    5        2               6   17   10   361          2   \n",
              "\n",
              "       prev_outcome  call_type_cellular  call_type_telephone  \\\n",
              "0                 9                   0                    0   \n",
              "1                 9                   0                    0   \n",
              "2                 9                   0                    0   \n",
              "3                 9                   0                    0   \n",
              "4                 9                   0                    0   \n",
              "...             ...                 ...                  ...   \n",
              "45206             9                   1                    0   \n",
              "45207             9                   1                    0   \n",
              "45208             0                   1                    0   \n",
              "45209             9                   0                    1   \n",
              "45210             1                   1                    0   \n",
              "\n",
              "       call_type_unknown  \n",
              "0                      1  \n",
              "1                      1  \n",
              "2                      1  \n",
              "3                      1  \n",
              "4                      1  \n",
              "...                  ...  \n",
              "45206                  0  \n",
              "45207                  0  \n",
              "45208                  0  \n",
              "45209                  0  \n",
              "45210                  0  \n",
              "\n",
              "[45205 rows x 12 columns]"
            ],
            "text/html": [
              "\n",
              "  <div id=\"df-ed05c1ec-1ba3-484e-b7d4-4767763adc81\">\n",
              "    <div class=\"colab-df-container\">\n",
              "      <div>\n",
              "<style scoped>\n",
              "    .dataframe tbody tr th:only-of-type {\n",
              "        vertical-align: middle;\n",
              "    }\n",
              "\n",
              "    .dataframe tbody tr th {\n",
              "        vertical-align: top;\n",
              "    }\n",
              "\n",
              "    .dataframe thead th {\n",
              "        text-align: right;\n",
              "    }\n",
              "</style>\n",
              "<table border=\"1\" class=\"dataframe\">\n",
              "  <thead>\n",
              "    <tr style=\"text-align: right;\">\n",
              "      <th></th>\n",
              "      <th>age</th>\n",
              "      <th>job</th>\n",
              "      <th>marital</th>\n",
              "      <th>education_qual</th>\n",
              "      <th>day</th>\n",
              "      <th>mon</th>\n",
              "      <th>dur</th>\n",
              "      <th>num_calls</th>\n",
              "      <th>prev_outcome</th>\n",
              "      <th>call_type_cellular</th>\n",
              "      <th>call_type_telephone</th>\n",
              "      <th>call_type_unknown</th>\n",
              "    </tr>\n",
              "  </thead>\n",
              "  <tbody>\n",
              "    <tr>\n",
              "      <th>0</th>\n",
              "      <td>58</td>\n",
              "      <td>18</td>\n",
              "      <td>2</td>\n",
              "      <td>4</td>\n",
              "      <td>5</td>\n",
              "      <td>20</td>\n",
              "      <td>261</td>\n",
              "      <td>1</td>\n",
              "      <td>9</td>\n",
              "      <td>0</td>\n",
              "      <td>0</td>\n",
              "      <td>1</td>\n",
              "    </tr>\n",
              "    <tr>\n",
              "      <th>1</th>\n",
              "      <td>44</td>\n",
              "      <td>15</td>\n",
              "      <td>1</td>\n",
              "      <td>6</td>\n",
              "      <td>5</td>\n",
              "      <td>20</td>\n",
              "      <td>151</td>\n",
              "      <td>1</td>\n",
              "      <td>9</td>\n",
              "      <td>0</td>\n",
              "      <td>0</td>\n",
              "      <td>1</td>\n",
              "    </tr>\n",
              "    <tr>\n",
              "      <th>2</th>\n",
              "      <td>33</td>\n",
              "      <td>5</td>\n",
              "      <td>2</td>\n",
              "      <td>6</td>\n",
              "      <td>5</td>\n",
              "      <td>20</td>\n",
              "      <td>76</td>\n",
              "      <td>1</td>\n",
              "      <td>9</td>\n",
              "      <td>0</td>\n",
              "      <td>0</td>\n",
              "      <td>1</td>\n",
              "    </tr>\n",
              "    <tr>\n",
              "      <th>3</th>\n",
              "      <td>47</td>\n",
              "      <td>19</td>\n",
              "      <td>2</td>\n",
              "      <td>0</td>\n",
              "      <td>5</td>\n",
              "      <td>20</td>\n",
              "      <td>92</td>\n",
              "      <td>1</td>\n",
              "      <td>9</td>\n",
              "      <td>0</td>\n",
              "      <td>0</td>\n",
              "      <td>1</td>\n",
              "    </tr>\n",
              "    <tr>\n",
              "      <th>4</th>\n",
              "      <td>33</td>\n",
              "      <td>0</td>\n",
              "      <td>1</td>\n",
              "      <td>0</td>\n",
              "      <td>5</td>\n",
              "      <td>20</td>\n",
              "      <td>198</td>\n",
              "      <td>1</td>\n",
              "      <td>9</td>\n",
              "      <td>0</td>\n",
              "      <td>0</td>\n",
              "      <td>1</td>\n",
              "    </tr>\n",
              "    <tr>\n",
              "      <th>...</th>\n",
              "      <td>...</td>\n",
              "      <td>...</td>\n",
              "      <td>...</td>\n",
              "      <td>...</td>\n",
              "      <td>...</td>\n",
              "      <td>...</td>\n",
              "      <td>...</td>\n",
              "      <td>...</td>\n",
              "      <td>...</td>\n",
              "      <td>...</td>\n",
              "      <td>...</td>\n",
              "      <td>...</td>\n",
              "    </tr>\n",
              "    <tr>\n",
              "      <th>45206</th>\n",
              "      <td>51</td>\n",
              "      <td>15</td>\n",
              "      <td>2</td>\n",
              "      <td>4</td>\n",
              "      <td>17</td>\n",
              "      <td>10</td>\n",
              "      <td>977</td>\n",
              "      <td>3</td>\n",
              "      <td>9</td>\n",
              "      <td>1</td>\n",
              "      <td>0</td>\n",
              "      <td>0</td>\n",
              "    </tr>\n",
              "    <tr>\n",
              "      <th>45207</th>\n",
              "      <td>71</td>\n",
              "      <td>7</td>\n",
              "      <td>0</td>\n",
              "      <td>2</td>\n",
              "      <td>17</td>\n",
              "      <td>10</td>\n",
              "      <td>456</td>\n",
              "      <td>2</td>\n",
              "      <td>9</td>\n",
              "      <td>1</td>\n",
              "      <td>0</td>\n",
              "      <td>0</td>\n",
              "    </tr>\n",
              "    <tr>\n",
              "      <th>45208</th>\n",
              "      <td>72</td>\n",
              "      <td>7</td>\n",
              "      <td>2</td>\n",
              "      <td>6</td>\n",
              "      <td>17</td>\n",
              "      <td>10</td>\n",
              "      <td>1127</td>\n",
              "      <td>5</td>\n",
              "      <td>0</td>\n",
              "      <td>1</td>\n",
              "      <td>0</td>\n",
              "      <td>0</td>\n",
              "    </tr>\n",
              "    <tr>\n",
              "      <th>45209</th>\n",
              "      <td>57</td>\n",
              "      <td>19</td>\n",
              "      <td>2</td>\n",
              "      <td>6</td>\n",
              "      <td>17</td>\n",
              "      <td>10</td>\n",
              "      <td>508</td>\n",
              "      <td>4</td>\n",
              "      <td>9</td>\n",
              "      <td>0</td>\n",
              "      <td>1</td>\n",
              "      <td>0</td>\n",
              "    </tr>\n",
              "    <tr>\n",
              "      <th>45210</th>\n",
              "      <td>37</td>\n",
              "      <td>5</td>\n",
              "      <td>2</td>\n",
              "      <td>6</td>\n",
              "      <td>17</td>\n",
              "      <td>10</td>\n",
              "      <td>361</td>\n",
              "      <td>2</td>\n",
              "      <td>1</td>\n",
              "      <td>1</td>\n",
              "      <td>0</td>\n",
              "      <td>0</td>\n",
              "    </tr>\n",
              "  </tbody>\n",
              "</table>\n",
              "<p>45205 rows × 12 columns</p>\n",
              "</div>\n",
              "      <button class=\"colab-df-convert\" onclick=\"convertToInteractive('df-ed05c1ec-1ba3-484e-b7d4-4767763adc81')\"\n",
              "              title=\"Convert this dataframe to an interactive table.\"\n",
              "              style=\"display:none;\">\n",
              "        \n",
              "  <svg xmlns=\"http://www.w3.org/2000/svg\" height=\"24px\"viewBox=\"0 0 24 24\"\n",
              "       width=\"24px\">\n",
              "    <path d=\"M0 0h24v24H0V0z\" fill=\"none\"/>\n",
              "    <path d=\"M18.56 5.44l.94 2.06.94-2.06 2.06-.94-2.06-.94-.94-2.06-.94 2.06-2.06.94zm-11 1L8.5 8.5l.94-2.06 2.06-.94-2.06-.94L8.5 2.5l-.94 2.06-2.06.94zm10 10l.94 2.06.94-2.06 2.06-.94-2.06-.94-.94-2.06-.94 2.06-2.06.94z\"/><path d=\"M17.41 7.96l-1.37-1.37c-.4-.4-.92-.59-1.43-.59-.52 0-1.04.2-1.43.59L10.3 9.45l-7.72 7.72c-.78.78-.78 2.05 0 2.83L4 21.41c.39.39.9.59 1.41.59.51 0 1.02-.2 1.41-.59l7.78-7.78 2.81-2.81c.8-.78.8-2.07 0-2.86zM5.41 20L4 18.59l7.72-7.72 1.47 1.35L5.41 20z\"/>\n",
              "  </svg>\n",
              "      </button>\n",
              "      \n",
              "  <style>\n",
              "    .colab-df-container {\n",
              "      display:flex;\n",
              "      flex-wrap:wrap;\n",
              "      gap: 12px;\n",
              "    }\n",
              "\n",
              "    .colab-df-convert {\n",
              "      background-color: #E8F0FE;\n",
              "      border: none;\n",
              "      border-radius: 50%;\n",
              "      cursor: pointer;\n",
              "      display: none;\n",
              "      fill: #1967D2;\n",
              "      height: 32px;\n",
              "      padding: 0 0 0 0;\n",
              "      width: 32px;\n",
              "    }\n",
              "\n",
              "    .colab-df-convert:hover {\n",
              "      background-color: #E2EBFA;\n",
              "      box-shadow: 0px 1px 2px rgba(60, 64, 67, 0.3), 0px 1px 3px 1px rgba(60, 64, 67, 0.15);\n",
              "      fill: #174EA6;\n",
              "    }\n",
              "\n",
              "    [theme=dark] .colab-df-convert {\n",
              "      background-color: #3B4455;\n",
              "      fill: #D2E3FC;\n",
              "    }\n",
              "\n",
              "    [theme=dark] .colab-df-convert:hover {\n",
              "      background-color: #434B5C;\n",
              "      box-shadow: 0px 1px 3px 1px rgba(0, 0, 0, 0.15);\n",
              "      filter: drop-shadow(0px 1px 2px rgba(0, 0, 0, 0.3));\n",
              "      fill: #FFFFFF;\n",
              "    }\n",
              "  </style>\n",
              "\n",
              "      <script>\n",
              "        const buttonEl =\n",
              "          document.querySelector('#df-ed05c1ec-1ba3-484e-b7d4-4767763adc81 button.colab-df-convert');\n",
              "        buttonEl.style.display =\n",
              "          google.colab.kernel.accessAllowed ? 'block' : 'none';\n",
              "\n",
              "        async function convertToInteractive(key) {\n",
              "          const element = document.querySelector('#df-ed05c1ec-1ba3-484e-b7d4-4767763adc81');\n",
              "          const dataTable =\n",
              "            await google.colab.kernel.invokeFunction('convertToInteractive',\n",
              "                                                     [key], {});\n",
              "          if (!dataTable) return;\n",
              "\n",
              "          const docLinkHtml = 'Like what you see? Visit the ' +\n",
              "            '<a target=\"_blank\" href=https://colab.research.google.com/notebooks/data_table.ipynb>data table notebook</a>'\n",
              "            + ' to learn more about interactive tables.';\n",
              "          element.innerHTML = '';\n",
              "          dataTable['output_type'] = 'display_data';\n",
              "          await google.colab.output.renderOutput(dataTable, element);\n",
              "          const docLink = document.createElement('div');\n",
              "          docLink.innerHTML = docLinkHtml;\n",
              "          element.appendChild(docLink);\n",
              "        }\n",
              "      </script>\n",
              "    </div>\n",
              "  </div>\n",
              "  "
            ]
          },
          "metadata": {},
          "execution_count": 18
        }
      ]
    },
    {
      "cell_type": "code",
      "source": [
        "y"
      ],
      "metadata": {
        "colab": {
          "base_uri": "https://localhost:8080/"
        },
        "id": "olla-xeCaka_",
        "outputId": "1028081a-8743-4ea0-a19b-078d1de4d882"
      },
      "execution_count": null,
      "outputs": [
        {
          "output_type": "execute_result",
          "data": {
            "text/plain": [
              "0         no\n",
              "1         no\n",
              "2         no\n",
              "3         no\n",
              "4         no\n",
              "        ... \n",
              "45206    yes\n",
              "45207    yes\n",
              "45208    yes\n",
              "45209     no\n",
              "45210     no\n",
              "Name: y, Length: 45205, dtype: object"
            ]
          },
          "metadata": {},
          "execution_count": 23
        }
      ]
    },
    {
      "cell_type": "code",
      "source": [
        "#splitting the dataset for train and test in the ratio  of 7:3\n",
        "x_train,x_test,y_train,y_test=train_test_split(x,y,test_size=0.2,random_state=4000)"
      ],
      "metadata": {
        "id": "mWbrRfRda0RY"
      },
      "execution_count": null,
      "outputs": []
    },
    {
      "cell_type": "code",
      "source": [
        "print(x_train.shape,x_test.shape,y_train.shape,y_test.shape)"
      ],
      "metadata": {
        "colab": {
          "base_uri": "https://localhost:8080/"
        },
        "id": "YkCuYoNJbGwP",
        "outputId": "92fd418a-d525-4a9a-a8ae-86f3a430335c"
      },
      "execution_count": null,
      "outputs": [
        {
          "output_type": "stream",
          "name": "stdout",
          "text": [
            "(36164, 12) (9041, 12) (36164,) (9041,)\n"
          ]
        }
      ]
    },
    {
      "cell_type": "markdown",
      "source": [
        "#**Building a ML classification model**"
      ],
      "metadata": {
        "id": "hjRH4lGQbRE-"
      }
    },
    {
      "cell_type": "code",
      "source": [
        "from sklearn.linear_model import LogisticRegression\n",
        "from sklearn.tree import DecisionTreeClassifier\n",
        "from sklearn.neighbors import KNeighborsClassifier\n",
        "from sklearn.ensemble import RandomForestClassifier\n",
        "import xgboost as xgb\n",
        "from xgboost.sklearn import XGBClassifier\n",
        "from sklearn.preprocessing import StandardScaler\n",
        "from sklearn.metrics import confusion_matrix,classification_report,ConfusionMatrixDisplay"
      ],
      "metadata": {
        "id": "_vAKS62dbXmr"
      },
      "execution_count": null,
      "outputs": []
    },
    {
      "cell_type": "markdown",
      "source": [
        "## 1) Logistic regression model"
      ],
      "metadata": {
        "id": "2REOaW2Ul61t"
      }
    },
    {
      "cell_type": "code",
      "source": [
        "lr=LogisticRegression()\n",
        "lr.fit(x_train,y_train)\n",
        "lr_predict_test=lr.predict(x_test)"
      ],
      "metadata": {
        "colab": {
          "base_uri": "https://localhost:8080/"
        },
        "id": "wxXfDvm7llda",
        "outputId": "042cdbe2-829f-45ff-fef4-ef831480281c"
      },
      "execution_count": null,
      "outputs": [
        {
          "output_type": "stream",
          "name": "stderr",
          "text": [
            "/usr/local/lib/python3.9/dist-packages/sklearn/linear_model/_logistic.py:458: ConvergenceWarning: lbfgs failed to converge (status=1):\n",
            "STOP: TOTAL NO. of ITERATIONS REACHED LIMIT.\n",
            "\n",
            "Increase the number of iterations (max_iter) or scale the data as shown in:\n",
            "    https://scikit-learn.org/stable/modules/preprocessing.html\n",
            "Please also refer to the documentation for alternative solver options:\n",
            "    https://scikit-learn.org/stable/modules/linear_model.html#logistic-regression\n",
            "  n_iter_i = _check_optimize_result(\n"
          ]
        }
      ]
    },
    {
      "cell_type": "code",
      "source": [
        "cross_val_log_model=cross_val_score(lr,x_train,y_train,cv=10).mean()\n",
        "cross_val_log_model"
      ],
      "metadata": {
        "colab": {
          "base_uri": "https://localhost:8080/"
        },
        "id": "tnxMG5qcmTzB",
        "outputId": "f33b0ae9-d43a-4e15-b974-60909e33c062"
      },
      "execution_count": null,
      "outputs": [
        {
          "output_type": "stream",
          "name": "stderr",
          "text": [
            "/usr/local/lib/python3.9/dist-packages/sklearn/linear_model/_logistic.py:458: ConvergenceWarning: lbfgs failed to converge (status=1):\n",
            "STOP: TOTAL NO. of ITERATIONS REACHED LIMIT.\n",
            "\n",
            "Increase the number of iterations (max_iter) or scale the data as shown in:\n",
            "    https://scikit-learn.org/stable/modules/preprocessing.html\n",
            "Please also refer to the documentation for alternative solver options:\n",
            "    https://scikit-learn.org/stable/modules/linear_model.html#logistic-regression\n",
            "  n_iter_i = _check_optimize_result(\n",
            "/usr/local/lib/python3.9/dist-packages/sklearn/linear_model/_logistic.py:458: ConvergenceWarning: lbfgs failed to converge (status=1):\n",
            "STOP: TOTAL NO. of ITERATIONS REACHED LIMIT.\n",
            "\n",
            "Increase the number of iterations (max_iter) or scale the data as shown in:\n",
            "    https://scikit-learn.org/stable/modules/preprocessing.html\n",
            "Please also refer to the documentation for alternative solver options:\n",
            "    https://scikit-learn.org/stable/modules/linear_model.html#logistic-regression\n",
            "  n_iter_i = _check_optimize_result(\n",
            "/usr/local/lib/python3.9/dist-packages/sklearn/linear_model/_logistic.py:458: ConvergenceWarning: lbfgs failed to converge (status=1):\n",
            "STOP: TOTAL NO. of ITERATIONS REACHED LIMIT.\n",
            "\n",
            "Increase the number of iterations (max_iter) or scale the data as shown in:\n",
            "    https://scikit-learn.org/stable/modules/preprocessing.html\n",
            "Please also refer to the documentation for alternative solver options:\n",
            "    https://scikit-learn.org/stable/modules/linear_model.html#logistic-regression\n",
            "  n_iter_i = _check_optimize_result(\n",
            "/usr/local/lib/python3.9/dist-packages/sklearn/linear_model/_logistic.py:458: ConvergenceWarning: lbfgs failed to converge (status=1):\n",
            "STOP: TOTAL NO. of ITERATIONS REACHED LIMIT.\n",
            "\n",
            "Increase the number of iterations (max_iter) or scale the data as shown in:\n",
            "    https://scikit-learn.org/stable/modules/preprocessing.html\n",
            "Please also refer to the documentation for alternative solver options:\n",
            "    https://scikit-learn.org/stable/modules/linear_model.html#logistic-regression\n",
            "  n_iter_i = _check_optimize_result(\n",
            "/usr/local/lib/python3.9/dist-packages/sklearn/linear_model/_logistic.py:458: ConvergenceWarning: lbfgs failed to converge (status=1):\n",
            "STOP: TOTAL NO. of ITERATIONS REACHED LIMIT.\n",
            "\n",
            "Increase the number of iterations (max_iter) or scale the data as shown in:\n",
            "    https://scikit-learn.org/stable/modules/preprocessing.html\n",
            "Please also refer to the documentation for alternative solver options:\n",
            "    https://scikit-learn.org/stable/modules/linear_model.html#logistic-regression\n",
            "  n_iter_i = _check_optimize_result(\n",
            "/usr/local/lib/python3.9/dist-packages/sklearn/linear_model/_logistic.py:458: ConvergenceWarning: lbfgs failed to converge (status=1):\n",
            "STOP: TOTAL NO. of ITERATIONS REACHED LIMIT.\n",
            "\n",
            "Increase the number of iterations (max_iter) or scale the data as shown in:\n",
            "    https://scikit-learn.org/stable/modules/preprocessing.html\n",
            "Please also refer to the documentation for alternative solver options:\n",
            "    https://scikit-learn.org/stable/modules/linear_model.html#logistic-regression\n",
            "  n_iter_i = _check_optimize_result(\n",
            "/usr/local/lib/python3.9/dist-packages/sklearn/linear_model/_logistic.py:458: ConvergenceWarning: lbfgs failed to converge (status=1):\n",
            "STOP: TOTAL NO. of ITERATIONS REACHED LIMIT.\n",
            "\n",
            "Increase the number of iterations (max_iter) or scale the data as shown in:\n",
            "    https://scikit-learn.org/stable/modules/preprocessing.html\n",
            "Please also refer to the documentation for alternative solver options:\n",
            "    https://scikit-learn.org/stable/modules/linear_model.html#logistic-regression\n",
            "  n_iter_i = _check_optimize_result(\n",
            "/usr/local/lib/python3.9/dist-packages/sklearn/linear_model/_logistic.py:458: ConvergenceWarning: lbfgs failed to converge (status=1):\n",
            "STOP: TOTAL NO. of ITERATIONS REACHED LIMIT.\n",
            "\n",
            "Increase the number of iterations (max_iter) or scale the data as shown in:\n",
            "    https://scikit-learn.org/stable/modules/preprocessing.html\n",
            "Please also refer to the documentation for alternative solver options:\n",
            "    https://scikit-learn.org/stable/modules/linear_model.html#logistic-regression\n",
            "  n_iter_i = _check_optimize_result(\n",
            "/usr/local/lib/python3.9/dist-packages/sklearn/linear_model/_logistic.py:458: ConvergenceWarning: lbfgs failed to converge (status=1):\n",
            "STOP: TOTAL NO. of ITERATIONS REACHED LIMIT.\n",
            "\n",
            "Increase the number of iterations (max_iter) or scale the data as shown in:\n",
            "    https://scikit-learn.org/stable/modules/preprocessing.html\n",
            "Please also refer to the documentation for alternative solver options:\n",
            "    https://scikit-learn.org/stable/modules/linear_model.html#logistic-regression\n",
            "  n_iter_i = _check_optimize_result(\n",
            "/usr/local/lib/python3.9/dist-packages/sklearn/linear_model/_logistic.py:458: ConvergenceWarning: lbfgs failed to converge (status=1):\n",
            "STOP: TOTAL NO. of ITERATIONS REACHED LIMIT.\n",
            "\n",
            "Increase the number of iterations (max_iter) or scale the data as shown in:\n",
            "    https://scikit-learn.org/stable/modules/preprocessing.html\n",
            "Please also refer to the documentation for alternative solver options:\n",
            "    https://scikit-learn.org/stable/modules/linear_model.html#logistic-regression\n",
            "  n_iter_i = _check_optimize_result(\n"
          ]
        },
        {
          "output_type": "execute_result",
          "data": {
            "text/plain": [
              "0.8944531003422872"
            ]
          },
          "metadata": {},
          "execution_count": 35
        }
      ]
    },
    {
      "cell_type": "code",
      "source": [
        "print(classification_report(y_test,lr_predict_test))"
      ],
      "metadata": {
        "colab": {
          "base_uri": "https://localhost:8080/"
        },
        "id": "tmrylcYxmp5v",
        "outputId": "3dc2dff9-40b7-4e90-c8bf-92da6231fdea"
      },
      "execution_count": null,
      "outputs": [
        {
          "output_type": "stream",
          "name": "stdout",
          "text": [
            "              precision    recall  f1-score   support\n",
            "\n",
            "          no       0.90      0.98      0.94      7963\n",
            "         yes       0.59      0.24      0.34      1078\n",
            "\n",
            "    accuracy                           0.89      9041\n",
            "   macro avg       0.75      0.61      0.64      9041\n",
            "weighted avg       0.87      0.89      0.87      9041\n",
            "\n"
          ]
        }
      ]
    },
    {
      "cell_type": "code",
      "source": [
        "cm1=confusion_matrix(y_test,lr_predict_test)\n",
        "cm1"
      ],
      "metadata": {
        "colab": {
          "base_uri": "https://localhost:8080/"
        },
        "id": "qaXny_Bbn9HX",
        "outputId": "5dbd65ca-796e-425a-826f-e57818d98a81"
      },
      "execution_count": null,
      "outputs": [
        {
          "output_type": "execute_result",
          "data": {
            "text/plain": [
              "array([[7781,  182],\n",
              "       [ 818,  260]])"
            ]
          },
          "metadata": {},
          "execution_count": 83
        }
      ]
    },
    {
      "cell_type": "code",
      "source": [
        "ConfusionMatrixDisplay(cm1).plot()"
      ],
      "metadata": {
        "colab": {
          "base_uri": "https://localhost:8080/",
          "height": 302
        },
        "id": "qXBKY9jHnxJH",
        "outputId": "a886e6e0-9bc7-4760-c117-1b51ef9a3080"
      },
      "execution_count": null,
      "outputs": [
        {
          "output_type": "execute_result",
          "data": {
            "text/plain": [
              "<sklearn.metrics._plot.confusion_matrix.ConfusionMatrixDisplay at 0x7fd092dec190>"
            ]
          },
          "metadata": {},
          "execution_count": 82
        },
        {
          "output_type": "display_data",
          "data": {
            "text/plain": [
              "<Figure size 432x288 with 2 Axes>"
            ],
            "image/png": "[encoded data removed]"
          },
          "metadata": {}
        }
      ]
    },
    {
      "cell_type": "markdown",
      "source": [
        "## 2) KNN classifier"
      ],
      "metadata": {
        "id": "d0Z5VJwjvnm9"
      }
    },
    {
      "cell_type": "markdown",
      "source": [
        "Choosing best K value for the model."
      ],
      "metadata": {
        "id": "0LgLKCm1vz1f"
      }
    },
    {
      "cell_type": "code",
      "source": [
        "#it is better to scale our training data with standard scaling for KNN\n",
        "scaled_xtrain=x_train.copy()\n",
        "scaled_xtest=x_test.copy()\n",
        "scaler = StandardScaler()\n",
        "for col in x_train.columns:\n",
        "  scaler.fit(x_train[[col]])\n",
        "  scaled_xtrain[col]=scaler.transform(x_train[[col]])\n",
        "  scaled_xtest[col]=scaler.transform(x_test[[col]])"
      ],
      "metadata": {
        "id": "NpwNCVXooAie"
      },
      "execution_count": null,
      "outputs": []
    },
    {
      "cell_type": "code",
      "source": [
        "scaled_xtrain.head(5)"
      ],
      "metadata": {
        "colab": {
          "base_uri": "https://localhost:8080/",
          "height": 206
        },
        "id": "3qp-bCFSzwUw",
        "outputId": "3f0fd11a-a5cd-4872-e990-314d6f0ded15"
      },
      "execution_count": null,
      "outputs": [
        {
          "output_type": "execute_result",
          "data": {
            "text/plain": [
              "            age       job   marital  education_qual       day       mon  \\\n",
              "33905 -1.218037  0.818934 -0.700263       -0.316610  1.708279 -1.058678   \n",
              "31746  0.948857  1.005885  0.740911        0.835869 -1.056659 -1.058678   \n",
              "244    0.760431  0.818934  0.740911       -0.316610 -1.297088  1.253502   \n",
              "32506  1.231495  1.005885  0.740911       -1.469089  0.145488 -1.058678   \n",
              "29519  0.666219 -0.302775  0.740911       -1.469089 -1.537517 -1.251360   \n",
              "\n",
              "            dur  num_calls  prev_outcome  call_type_cellular  \\\n",
              "33905 -0.072981  -0.568697      0.435550            0.736593   \n",
              "31746  2.487088  -0.568697      0.435550            0.736593   \n",
              "244   -0.100298   0.077069      0.435550           -1.357601   \n",
              "32506  0.340689  -0.568697      0.435550            0.736593   \n",
              "29519 -0.736413  -0.568697     -1.207855            0.736593   \n",
              "\n",
              "       call_type_telephone  call_type_unknown  \n",
              "33905            -0.261035          -0.635903  \n",
              "31746            -0.261035          -0.635903  \n",
              "244              -0.261035           1.572567  \n",
              "32506            -0.261035          -0.635903  \n",
              "29519            -0.261035          -0.635903  "
            ],
            "text/html": [
              "\n",
              "  <div id=\"df-0bcc55e5-3c7c-492e-aff4-ea457732eb4a\">\n",
              "    <div class=\"colab-df-container\">\n",
              "      <div>\n",
              "<style scoped>\n",
              "    .dataframe tbody tr th:only-of-type {\n",
              "        vertical-align: middle;\n",
              "    }\n",
              "\n",
              "    .dataframe tbody tr th {\n",
              "        vertical-align: top;\n",
              "    }\n",
              "\n",
              "    .dataframe thead th {\n",
              "        text-align: right;\n",
              "    }\n",
              "</style>\n",
              "<table border=\"1\" class=\"dataframe\">\n",
              "  <thead>\n",
              "    <tr style=\"text-align: right;\">\n",
              "      <th></th>\n",
              "      <th>age</th>\n",
              "      <th>job</th>\n",
              "      <th>marital</th>\n",
              "      <th>education_qual</th>\n",
              "      <th>day</th>\n",
              "      <th>mon</th>\n",
              "      <th>dur</th>\n",
              "      <th>num_calls</th>\n",
              "      <th>prev_outcome</th>\n",
              "      <th>call_type_cellular</th>\n",
              "      <th>call_type_telephone</th>\n",
              "      <th>call_type_unknown</th>\n",
              "    </tr>\n",
              "  </thead>\n",
              "  <tbody>\n",
              "    <tr>\n",
              "      <th>33905</th>\n",
              "      <td>-1.218037</td>\n",
              "      <td>0.818934</td>\n",
              "      <td>-0.700263</td>\n",
              "      <td>-0.316610</td>\n",
              "      <td>1.708279</td>\n",
              "      <td>-1.058678</td>\n",
              "      <td>-0.072981</td>\n",
              "      <td>-0.568697</td>\n",
              "      <td>0.435550</td>\n",
              "      <td>0.736593</td>\n",
              "      <td>-0.261035</td>\n",
              "      <td>-0.635903</td>\n",
              "    </tr>\n",
              "    <tr>\n",
              "      <th>31746</th>\n",
              "      <td>0.948857</td>\n",
              "      <td>1.005885</td>\n",
              "      <td>0.740911</td>\n",
              "      <td>0.835869</td>\n",
              "      <td>-1.056659</td>\n",
              "      <td>-1.058678</td>\n",
              "      <td>2.487088</td>\n",
              "      <td>-0.568697</td>\n",
              "      <td>0.435550</td>\n",
              "      <td>0.736593</td>\n",
              "      <td>-0.261035</td>\n",
              "      <td>-0.635903</td>\n",
              "    </tr>\n",
              "    <tr>\n",
              "      <th>244</th>\n",
              "      <td>0.760431</td>\n",
              "      <td>0.818934</td>\n",
              "      <td>0.740911</td>\n",
              "      <td>-0.316610</td>\n",
              "      <td>-1.297088</td>\n",
              "      <td>1.253502</td>\n",
              "      <td>-0.100298</td>\n",
              "      <td>0.077069</td>\n",
              "      <td>0.435550</td>\n",
              "      <td>-1.357601</td>\n",
              "      <td>-0.261035</td>\n",
              "      <td>1.572567</td>\n",
              "    </tr>\n",
              "    <tr>\n",
              "      <th>32506</th>\n",
              "      <td>1.231495</td>\n",
              "      <td>1.005885</td>\n",
              "      <td>0.740911</td>\n",
              "      <td>-1.469089</td>\n",
              "      <td>0.145488</td>\n",
              "      <td>-1.058678</td>\n",
              "      <td>0.340689</td>\n",
              "      <td>-0.568697</td>\n",
              "      <td>0.435550</td>\n",
              "      <td>0.736593</td>\n",
              "      <td>-0.261035</td>\n",
              "      <td>-0.635903</td>\n",
              "    </tr>\n",
              "    <tr>\n",
              "      <th>29519</th>\n",
              "      <td>0.666219</td>\n",
              "      <td>-0.302775</td>\n",
              "      <td>0.740911</td>\n",
              "      <td>-1.469089</td>\n",
              "      <td>-1.537517</td>\n",
              "      <td>-1.251360</td>\n",
              "      <td>-0.736413</td>\n",
              "      <td>-0.568697</td>\n",
              "      <td>-1.207855</td>\n",
              "      <td>0.736593</td>\n",
              "      <td>-0.261035</td>\n",
              "      <td>-0.635903</td>\n",
              "    </tr>\n",
              "  </tbody>\n",
              "</table>\n",
              "</div>\n",
              "      <button class=\"colab-df-convert\" onclick=\"convertToInteractive('df-0bcc55e5-3c7c-492e-aff4-ea457732eb4a')\"\n",
              "              title=\"Convert this dataframe to an interactive table.\"\n",
              "              style=\"display:none;\">\n",
              "        \n",
              "  <svg xmlns=\"http://www.w3.org/2000/svg\" height=\"24px\"viewBox=\"0 0 24 24\"\n",
              "       width=\"24px\">\n",
              "    <path d=\"M0 0h24v24H0V0z\" fill=\"none\"/>\n",
              "    <path d=\"M18.56 5.44l.94 2.06.94-2.06 2.06-.94-2.06-.94-.94-2.06-.94 2.06-2.06.94zm-11 1L8.5 8.5l.94-2.06 2.06-.94-2.06-.94L8.5 2.5l-.94 2.06-2.06.94zm10 10l.94 2.06.94-2.06 2.06-.94-2.06-.94-.94-2.06-.94 2.06-2.06.94z\"/><path d=\"M17.41 7.96l-1.37-1.37c-.4-.4-.92-.59-1.43-.59-.52 0-1.04.2-1.43.59L10.3 9.45l-7.72 7.72c-.78.78-.78 2.05 0 2.83L4 21.41c.39.39.9.59 1.41.59.51 0 1.02-.2 1.41-.59l7.78-7.78 2.81-2.81c.8-.78.8-2.07 0-2.86zM5.41 20L4 18.59l7.72-7.72 1.47 1.35L5.41 20z\"/>\n",
              "  </svg>\n",
              "      </button>\n",
              "      \n",
              "  <style>\n",
              "    .colab-df-container {\n",
              "      display:flex;\n",
              "      flex-wrap:wrap;\n",
              "      gap: 12px;\n",
              "    }\n",
              "\n",
              "    .colab-df-convert {\n",
              "      background-color: #E8F0FE;\n",
              "      border: none;\n",
              "      border-radius: 50%;\n",
              "      cursor: pointer;\n",
              "      display: none;\n",
              "      fill: #1967D2;\n",
              "      height: 32px;\n",
              "      padding: 0 0 0 0;\n",
              "      width: 32px;\n",
              "    }\n",
              "\n",
              "    .colab-df-convert:hover {\n",
              "      background-color: #E2EBFA;\n",
              "      box-shadow: 0px 1px 2px rgba(60, 64, 67, 0.3), 0px 1px 3px 1px rgba(60, 64, 67, 0.15);\n",
              "      fill: #174EA6;\n",
              "    }\n",
              "\n",
              "    [theme=dark] .colab-df-convert {\n",
              "      background-color: #3B4455;\n",
              "      fill: #D2E3FC;\n",
              "    }\n",
              "\n",
              "    [theme=dark] .colab-df-convert:hover {\n",
              "      background-color: #434B5C;\n",
              "      box-shadow: 0px 1px 3px 1px rgba(0, 0, 0, 0.15);\n",
              "      filter: drop-shadow(0px 1px 2px rgba(0, 0, 0, 0.3));\n",
              "      fill: #FFFFFF;\n",
              "    }\n",
              "  </style>\n",
              "\n",
              "      <script>\n",
              "        const buttonEl =\n",
              "          document.querySelector('#df-0bcc55e5-3c7c-492e-aff4-ea457732eb4a button.colab-df-convert');\n",
              "        buttonEl.style.display =\n",
              "          google.colab.kernel.accessAllowed ? 'block' : 'none';\n",
              "\n",
              "        async function convertToInteractive(key) {\n",
              "          const element = document.querySelector('#df-0bcc55e5-3c7c-492e-aff4-ea457732eb4a');\n",
              "          const dataTable =\n",
              "            await google.colab.kernel.invokeFunction('convertToInteractive',\n",
              "                                                     [key], {});\n",
              "          if (!dataTable) return;\n",
              "\n",
              "          const docLinkHtml = 'Like what you see? Visit the ' +\n",
              "            '<a target=\"_blank\" href=https://colab.research.google.com/notebooks/data_table.ipynb>data table notebook</a>'\n",
              "            + ' to learn more about interactive tables.';\n",
              "          element.innerHTML = '';\n",
              "          dataTable['output_type'] = 'display_data';\n",
              "          await google.colab.output.renderOutput(dataTable, element);\n",
              "          const docLink = document.createElement('div');\n",
              "          docLink.innerHTML = docLinkHtml;\n",
              "          element.appendChild(docLink);\n",
              "        }\n",
              "      </script>\n",
              "    </div>\n",
              "  </div>\n",
              "  "
            ]
          },
          "metadata": {},
          "execution_count": 28
        }
      ]
    },
    {
      "cell_type": "code",
      "source": [
        "scaled_xtest.head(5)"
      ],
      "metadata": {
        "colab": {
          "base_uri": "https://localhost:8080/",
          "height": 206
        },
        "id": "Yid-qQCC2U-t",
        "outputId": "44d3a5cc-7aaa-4720-ecb3-874bfabb1473"
      },
      "execution_count": null,
      "outputs": [
        {
          "output_type": "execute_result",
          "data": {
            "text/plain": [
              "            age       job   marital  education_qual       day       mon  \\\n",
              "5427  -0.181696 -0.302775 -2.141436        0.835869  0.866776  1.253502   \n",
              "8839   0.195155 -2.546193 -0.700263       -1.469089 -1.417303 -0.287952   \n",
              "13737 -1.218037  1.005885 -0.700263        0.835869 -0.696015  0.097412   \n",
              "38390 -1.123824 -0.302775 -0.700263        0.835869 -0.094941  1.253502   \n",
              "18788 -0.558548  0.258079  0.740911        0.835869  1.828494  0.097412   \n",
              "\n",
              "            dur  num_calls  prev_outcome  call_type_cellular  \\\n",
              "5427   2.159274  -0.568697       0.43555           -1.357601   \n",
              "8839  -0.830074  -0.568697       0.43555           -1.357601   \n",
              "13737 -0.888612  -0.245814       0.43555           -1.357601   \n",
              "38390 -0.677875  -0.568697      -2.85126            0.736593   \n",
              "18788 -0.783244  10.086440       0.43555            0.736593   \n",
              "\n",
              "       call_type_telephone  call_type_unknown  \n",
              "5427             -0.261035           1.572567  \n",
              "8839             -0.261035           1.572567  \n",
              "13737             3.830897          -0.635903  \n",
              "38390            -0.261035          -0.635903  \n",
              "18788            -0.261035          -0.635903  "
            ],
            "text/html": [
              "\n",
              "  <div id=\"df-ac4fc06f-e026-4345-aebc-31e116a0b321\">\n",
              "    <div class=\"colab-df-container\">\n",
              "      <div>\n",
              "<style scoped>\n",
              "    .dataframe tbody tr th:only-of-type {\n",
              "        vertical-align: middle;\n",
              "    }\n",
              "\n",
              "    .dataframe tbody tr th {\n",
              "        vertical-align: top;\n",
              "    }\n",
              "\n",
              "    .dataframe thead th {\n",
              "        text-align: right;\n",
              "    }\n",
              "</style>\n",
              "<table border=\"1\" class=\"dataframe\">\n",
              "  <thead>\n",
              "    <tr style=\"text-align: right;\">\n",
              "      <th></th>\n",
              "      <th>age</th>\n",
              "      <th>job</th>\n",
              "      <th>marital</th>\n",
              "      <th>education_qual</th>\n",
              "      <th>day</th>\n",
              "      <th>mon</th>\n",
              "      <th>dur</th>\n",
              "      <th>num_calls</th>\n",
              "      <th>prev_outcome</th>\n",
              "      <th>call_type_cellular</th>\n",
              "      <th>call_type_telephone</th>\n",
              "      <th>call_type_unknown</th>\n",
              "    </tr>\n",
              "  </thead>\n",
              "  <tbody>\n",
              "    <tr>\n",
              "      <th>5427</th>\n",
              "      <td>-0.181696</td>\n",
              "      <td>-0.302775</td>\n",
              "      <td>-2.141436</td>\n",
              "      <td>0.835869</td>\n",
              "      <td>0.866776</td>\n",
              "      <td>1.253502</td>\n",
              "      <td>2.159274</td>\n",
              "      <td>-0.568697</td>\n",
              "      <td>0.43555</td>\n",
              "      <td>-1.357601</td>\n",
              "      <td>-0.261035</td>\n",
              "      <td>1.572567</td>\n",
              "    </tr>\n",
              "    <tr>\n",
              "      <th>8839</th>\n",
              "      <td>0.195155</td>\n",
              "      <td>-2.546193</td>\n",
              "      <td>-0.700263</td>\n",
              "      <td>-1.469089</td>\n",
              "      <td>-1.417303</td>\n",
              "      <td>-0.287952</td>\n",
              "      <td>-0.830074</td>\n",
              "      <td>-0.568697</td>\n",
              "      <td>0.43555</td>\n",
              "      <td>-1.357601</td>\n",
              "      <td>-0.261035</td>\n",
              "      <td>1.572567</td>\n",
              "    </tr>\n",
              "    <tr>\n",
              "      <th>13737</th>\n",
              "      <td>-1.218037</td>\n",
              "      <td>1.005885</td>\n",
              "      <td>-0.700263</td>\n",
              "      <td>0.835869</td>\n",
              "      <td>-0.696015</td>\n",
              "      <td>0.097412</td>\n",
              "      <td>-0.888612</td>\n",
              "      <td>-0.245814</td>\n",
              "      <td>0.43555</td>\n",
              "      <td>-1.357601</td>\n",
              "      <td>3.830897</td>\n",
              "      <td>-0.635903</td>\n",
              "    </tr>\n",
              "    <tr>\n",
              "      <th>38390</th>\n",
              "      <td>-1.123824</td>\n",
              "      <td>-0.302775</td>\n",
              "      <td>-0.700263</td>\n",
              "      <td>0.835869</td>\n",
              "      <td>-0.094941</td>\n",
              "      <td>1.253502</td>\n",
              "      <td>-0.677875</td>\n",
              "      <td>-0.568697</td>\n",
              "      <td>-2.85126</td>\n",
              "      <td>0.736593</td>\n",
              "      <td>-0.261035</td>\n",
              "      <td>-0.635903</td>\n",
              "    </tr>\n",
              "    <tr>\n",
              "      <th>18788</th>\n",
              "      <td>-0.558548</td>\n",
              "      <td>0.258079</td>\n",
              "      <td>0.740911</td>\n",
              "      <td>0.835869</td>\n",
              "      <td>1.828494</td>\n",
              "      <td>0.097412</td>\n",
              "      <td>-0.783244</td>\n",
              "      <td>10.086440</td>\n",
              "      <td>0.43555</td>\n",
              "      <td>0.736593</td>\n",
              "      <td>-0.261035</td>\n",
              "      <td>-0.635903</td>\n",
              "    </tr>\n",
              "  </tbody>\n",
              "</table>\n",
              "</div>\n",
              "      <button class=\"colab-df-convert\" onclick=\"convertToInteractive('df-ac4fc06f-e026-4345-aebc-31e116a0b321')\"\n",
              "              title=\"Convert this dataframe to an interactive table.\"\n",
              "              style=\"display:none;\">\n",
              "        \n",
              "  <svg xmlns=\"http://www.w3.org/2000/svg\" height=\"24px\"viewBox=\"0 0 24 24\"\n",
              "       width=\"24px\">\n",
              "    <path d=\"M0 0h24v24H0V0z\" fill=\"none\"/>\n",
              "    <path d=\"M18.56 5.44l.94 2.06.94-2.06 2.06-.94-2.06-.94-.94-2.06-.94 2.06-2.06.94zm-11 1L8.5 8.5l.94-2.06 2.06-.94-2.06-.94L8.5 2.5l-.94 2.06-2.06.94zm10 10l.94 2.06.94-2.06 2.06-.94-2.06-.94-.94-2.06-.94 2.06-2.06.94z\"/><path d=\"M17.41 7.96l-1.37-1.37c-.4-.4-.92-.59-1.43-.59-.52 0-1.04.2-1.43.59L10.3 9.45l-7.72 7.72c-.78.78-.78 2.05 0 2.83L4 21.41c.39.39.9.59 1.41.59.51 0 1.02-.2 1.41-.59l7.78-7.78 2.81-2.81c.8-.78.8-2.07 0-2.86zM5.41 20L4 18.59l7.72-7.72 1.47 1.35L5.41 20z\"/>\n",
              "  </svg>\n",
              "      </button>\n",
              "      \n",
              "  <style>\n",
              "    .colab-df-container {\n",
              "      display:flex;\n",
              "      flex-wrap:wrap;\n",
              "      gap: 12px;\n",
              "    }\n",
              "\n",
              "    .colab-df-convert {\n",
              "      background-color: #E8F0FE;\n",
              "      border: none;\n",
              "      border-radius: 50%;\n",
              "      cursor: pointer;\n",
              "      display: none;\n",
              "      fill: #1967D2;\n",
              "      height: 32px;\n",
              "      padding: 0 0 0 0;\n",
              "      width: 32px;\n",
              "    }\n",
              "\n",
              "    .colab-df-convert:hover {\n",
              "      background-color: #E2EBFA;\n",
              "      box-shadow: 0px 1px 2px rgba(60, 64, 67, 0.3), 0px 1px 3px 1px rgba(60, 64, 67, 0.15);\n",
              "      fill: #174EA6;\n",
              "    }\n",
              "\n",
              "    [theme=dark] .colab-df-convert {\n",
              "      background-color: #3B4455;\n",
              "      fill: #D2E3FC;\n",
              "    }\n",
              "\n",
              "    [theme=dark] .colab-df-convert:hover {\n",
              "      background-color: #434B5C;\n",
              "      box-shadow: 0px 1px 3px 1px rgba(0, 0, 0, 0.15);\n",
              "      filter: drop-shadow(0px 1px 2px rgba(0, 0, 0, 0.3));\n",
              "      fill: #FFFFFF;\n",
              "    }\n",
              "  </style>\n",
              "\n",
              "      <script>\n",
              "        const buttonEl =\n",
              "          document.querySelector('#df-ac4fc06f-e026-4345-aebc-31e116a0b321 button.colab-df-convert');\n",
              "        buttonEl.style.display =\n",
              "          google.colab.kernel.accessAllowed ? 'block' : 'none';\n",
              "\n",
              "        async function convertToInteractive(key) {\n",
              "          const element = document.querySelector('#df-ac4fc06f-e026-4345-aebc-31e116a0b321');\n",
              "          const dataTable =\n",
              "            await google.colab.kernel.invokeFunction('convertToInteractive',\n",
              "                                                     [key], {});\n",
              "          if (!dataTable) return;\n",
              "\n",
              "          const docLinkHtml = 'Like what you see? Visit the ' +\n",
              "            '<a target=\"_blank\" href=https://colab.research.google.com/notebooks/data_table.ipynb>data table notebook</a>'\n",
              "            + ' to learn more about interactive tables.';\n",
              "          element.innerHTML = '';\n",
              "          dataTable['output_type'] = 'display_data';\n",
              "          await google.colab.output.renderOutput(dataTable, element);\n",
              "          const docLink = document.createElement('div');\n",
              "          docLink.innerHTML = docLinkHtml;\n",
              "          element.appendChild(docLink);\n",
              "        }\n",
              "      </script>\n",
              "    </div>\n",
              "  </div>\n",
              "  "
            ]
          },
          "metadata": {},
          "execution_count": 29
        }
      ]
    },
    {
      "cell_type": "code",
      "source": [
        "best_k=np.arange(1,20)\n",
        "cross_val_knn=[]\n",
        "for k in best_k:\n",
        "  knn=KNeighborsClassifier(n_neighbors=k)\n",
        "  knn.fit(scaled_xtrain,y_train)\n",
        "  cv_score=cross_val_score(knn,scaled_xtrain,y_train,cv=10).mean()\n",
        "  cross_val_knn.append(cv_score)\n",
        "  print(\"K value : {},model score : {}, cross validation score :{} \".format(k,knn.score(scaled_xtrain,y_train),cv_score))\n"
      ],
      "metadata": {
        "colab": {
          "base_uri": "https://localhost:8080/"
        },
        "id": "QBMWsEekwwZ3",
        "outputId": "96cf0989-0645-4ed6-a08e-d2118673d2c6"
      },
      "execution_count": null,
      "outputs": [
        {
          "output_type": "stream",
          "name": "stdout",
          "text": [
            "K value : 1,model score : 1.0, cross validation score :0.8761752057026676 \n",
            "K value : 2,model score : 0.9320871585001659, cross validation score :0.8886185808901427 \n",
            "K value : 3,model score : 0.9365114478486893, cross validation score :0.8883697788344616 \n",
            "K value : 4,model score : 0.9192843711978763, cross validation score :0.8920197702099963 \n",
            "K value : 5,model score : 0.9206946134277182, cross validation score :0.8927111189540053 \n",
            "K value : 6,model score : 0.9129797588762305, cross validation score :0.8932642851113595 \n",
            "K value : 7,model score : 0.9150259926999226, cross validation score :0.8940385449365215 \n",
            "K value : 8,model score : 0.9088872912288464, cross validation score :0.8940107600906242 \n",
            "K value : 9,model score : 0.9095232828226966, cross validation score :0.8952274442712754 \n",
            "K value : 10,model score : 0.9066474947461564, cross validation score :0.8952274136880659 \n",
            "K value : 11,model score : 0.9080024333591417, cross validation score :0.8965824333714195 \n",
            "K value : 12,model score : 0.9065092357040151, cross validation score :0.8957528638117443 \n",
            "K value : 13,model score : 0.9071175754894371, cross validation score :0.8964718139023929 \n",
            "K value : 14,model score : 0.9052372525163146, cross validation score :0.8955039700064347 \n",
            "K value : 15,model score : 0.9060391549607344, cross validation score :0.8969694638885695 \n",
            "K value : 16,model score : 0.9045736091140361, cross validation score :0.8961675262587437 \n",
            "K value : 17,model score : 0.905071341665745, cross validation score :0.8972184035686936 \n",
            "K value : 18,model score : 0.9030804114589094, cross validation score :0.8958633685937352 \n",
            "K value : 19,model score : 0.9041311801791837, cross validation score :0.8969417707923009 \n"
          ]
        }
      ]
    },
    {
      "cell_type": "markdown",
      "source": [
        "Usually we can select K with max value of cross validation score but we will also take the model score into consideration and K=7 seems optimal trade-off between model and cross validation scores.\n",
        "\n",
        "K value : 7 model score : 0.9150259926999226 cross validation score :0.8940385449365215 "
      ],
      "metadata": {
        "id": "NBDM-yHb9NED"
      }
    },
    {
      "cell_type": "code",
      "source": [
        "knn_model=KNeighborsClassifier(n_neighbors=7)\n",
        "knn_model.fit(scaled_xtrain,y_train)\n"
      ],
      "metadata": {
        "colab": {
          "base_uri": "https://localhost:8080/",
          "height": 74
        },
        "id": "GHdpL9rz7c_d",
        "outputId": "90706160-a43f-43d7-b871-2f18c9f239c4"
      },
      "execution_count": null,
      "outputs": [
        {
          "output_type": "execute_result",
          "data": {
            "text/plain": [
              "KNeighborsClassifier(n_neighbors=7)"
            ],
            "text/html": [
              "<style>#sk-container-id-2 {color: black;background-color: white;}#sk-container-id-2 pre{padding: 0;}#sk-container-id-2 div.sk-toggleable {background-color: white;}#sk-container-id-2 label.sk-toggleable__label {cursor: pointer;display: block;width: 100%;margin-bottom: 0;padding: 0.3em;box-sizing: border-box;text-align: center;}#sk-container-id-2 label.sk-toggleable__label-arrow:before {content: \"▸\";float: left;margin-right: 0.25em;color: #696969;}#sk-container-id-2 label.sk-toggleable__label-arrow:hover:before {color: black;}#sk-container-id-2 div.sk-estimator:hover label.sk-toggleable__label-arrow:before {color: black;}#sk-container-id-2 div.sk-toggleable__content {max-height: 0;max-width: 0;overflow: hidden;text-align: left;background-color: #f0f8ff;}#sk-container-id-2 div.sk-toggleable__content pre {margin: 0.2em;color: black;border-radius: 0.25em;background-color: #f0f8ff;}#sk-container-id-2 input.sk-toggleable__control:checked~div.sk-toggleable__content {max-height: 200px;max-width: 100%;overflow: auto;}#sk-container-id-2 input.sk-toggleable__control:checked~label.sk-toggleable__label-arrow:before {content: \"▾\";}#sk-container-id-2 div.sk-estimator input.sk-toggleable__control:checked~label.sk-toggleable__label {background-color: #d4ebff;}#sk-container-id-2 div.sk-label input.sk-toggleable__control:checked~label.sk-toggleable__label {background-color: #d4ebff;}#sk-container-id-2 input.sk-hidden--visually {border: 0;clip: rect(1px 1px 1px 1px);clip: rect(1px, 1px, 1px, 1px);height: 1px;margin: -1px;overflow: hidden;padding: 0;position: absolute;width: 1px;}#sk-container-id-2 div.sk-estimator {font-family: monospace;background-color: #f0f8ff;border: 1px dotted black;border-radius: 0.25em;box-sizing: border-box;margin-bottom: 0.5em;}#sk-container-id-2 div.sk-estimator:hover {background-color: #d4ebff;}#sk-container-id-2 div.sk-parallel-item::after {content: \"\";width: 100%;border-bottom: 1px solid gray;flex-grow: 1;}#sk-container-id-2 div.sk-label:hover label.sk-toggleable__label {background-color: #d4ebff;}#sk-container-id-2 div.sk-serial::before {content: \"\";position: absolute;border-left: 1px solid gray;box-sizing: border-box;top: 0;bottom: 0;left: 50%;z-index: 0;}#sk-container-id-2 div.sk-serial {display: flex;flex-direction: column;align-items: center;background-color: white;padding-right: 0.2em;padding-left: 0.2em;position: relative;}#sk-container-id-2 div.sk-item {position: relative;z-index: 1;}#sk-container-id-2 div.sk-parallel {display: flex;align-items: stretch;justify-content: center;background-color: white;position: relative;}#sk-container-id-2 div.sk-item::before, #sk-container-id-2 div.sk-parallel-item::before {content: \"\";position: absolute;border-left: 1px solid gray;box-sizing: border-box;top: 0;bottom: 0;left: 50%;z-index: -1;}#sk-container-id-2 div.sk-parallel-item {display: flex;flex-direction: column;z-index: 1;position: relative;background-color: white;}#sk-container-id-2 div.sk-parallel-item:first-child::after {align-self: flex-end;width: 50%;}#sk-container-id-2 div.sk-parallel-item:last-child::after {align-self: flex-start;width: 50%;}#sk-container-id-2 div.sk-parallel-item:only-child::after {width: 0;}#sk-container-id-2 div.sk-dashed-wrapped {border: 1px dashed gray;margin: 0 0.4em 0.5em 0.4em;box-sizing: border-box;padding-bottom: 0.4em;background-color: white;}#sk-container-id-2 div.sk-label label {font-family: monospace;font-weight: bold;display: inline-block;line-height: 1.2em;}#sk-container-id-2 div.sk-label-container {text-align: center;}#sk-container-id-2 div.sk-container {/* jupyter's `normalize.less` sets `[hidden] { display: none; }` but bootstrap.min.css set `[hidden] { display: none !important; }` so we also need the `!important` here to be able to override the default hidden behavior on the sphinx rendered scikit-learn.org. See: https://github.com/scikit-learn/scikit-learn/issues/21755 */display: inline-block !important;position: relative;}#sk-container-id-2 div.sk-text-repr-fallback {display: none;}</style><div id=\"sk-container-id-2\" class=\"sk-top-container\"><div class=\"sk-text-repr-fallback\"><pre>KNeighborsClassifier(n_neighbors=7)</pre><b>In a Jupyter environment, please rerun this cell to show the HTML representation or trust the notebook. <br />On GitHub, the HTML representation is unable to render, please try loading this page with nbviewer.org.</b></div><div class=\"sk-container\" hidden><div class=\"sk-item\"><div class=\"sk-estimator sk-toggleable\"><input class=\"sk-toggleable__control sk-hidden--visually\" id=\"sk-estimator-id-2\" type=\"checkbox\" checked><label for=\"sk-estimator-id-2\" class=\"sk-toggleable__label sk-toggleable__label-arrow\">KNeighborsClassifier</label><div class=\"sk-toggleable__content\"><pre>KNeighborsClassifier(n_neighbors=7)</pre></div></div></div></div></div>"
            ]
          },
          "metadata": {},
          "execution_count": 38
        }
      ]
    },
    {
      "cell_type": "code",
      "source": [
        "knn_predict_test=knn_model.predict(scaled_xtest)\n",
        "cross_val_knn_model=cross_val_score(knn_model,scaled_xtrain,y_train,cv=10).mean()\n",
        "cross_val_knn_model"
      ],
      "metadata": {
        "colab": {
          "base_uri": "https://localhost:8080/"
        },
        "id": "hXR0vTD_Dkne",
        "outputId": "69491cb1-743f-4146-bf30-8c6d6cf6f5a6"
      },
      "execution_count": null,
      "outputs": [
        {
          "output_type": "execute_result",
          "data": {
            "text/plain": [
              "0.8940385449365215"
            ]
          },
          "metadata": {},
          "execution_count": 39
        }
      ]
    },
    {
      "cell_type": "code",
      "source": [
        "print(classification_report(y_test,knn_predict_test))"
      ],
      "metadata": {
        "colab": {
          "base_uri": "https://localhost:8080/"
        },
        "id": "cHSdAZE4EX4K",
        "outputId": "79139b1e-c77e-4ccc-dcac-9804281fef4b"
      },
      "execution_count": null,
      "outputs": [
        {
          "output_type": "stream",
          "name": "stdout",
          "text": [
            "              precision    recall  f1-score   support\n",
            "\n",
            "          no       0.91      0.97      0.94      7963\n",
            "         yes       0.58      0.31      0.40      1078\n",
            "\n",
            "    accuracy                           0.89      9041\n",
            "   macro avg       0.75      0.64      0.67      9041\n",
            "weighted avg       0.87      0.89      0.88      9041\n",
            "\n"
          ]
        }
      ]
    },
    {
      "cell_type": "code",
      "source": [
        "cm2=confusion_matrix(y_test,knn_predict_test)\n",
        "cm2"
      ],
      "metadata": {
        "colab": {
          "base_uri": "https://localhost:8080/"
        },
        "id": "Sj74OsLcFCs6",
        "outputId": "1f86296b-e2ea-4bd8-a331-222aab595bc9"
      },
      "execution_count": null,
      "outputs": [
        {
          "output_type": "execute_result",
          "data": {
            "text/plain": [
              "array([[7724,  239],\n",
              "       [ 749,  329]])"
            ]
          },
          "metadata": {},
          "execution_count": 37
        }
      ]
    },
    {
      "cell_type": "code",
      "source": [
        "ConfusionMatrixDisplay(cm2).plot()"
      ],
      "metadata": {
        "colab": {
          "base_uri": "https://localhost:8080/",
          "height": 296
        },
        "id": "l4ZUZ3tgFChj",
        "outputId": "9d4313c8-361f-4920-a3c5-99308206ea62"
      },
      "execution_count": null,
      "outputs": [
        {
          "output_type": "execute_result",
          "data": {
            "text/plain": [
              "<sklearn.metrics._plot.confusion_matrix.ConfusionMatrixDisplay at 0x7f290f790f40>"
            ]
          },
          "metadata": {},
          "execution_count": 38
        },
        {
          "output_type": "display_data",
          "data": {
            "text/plain": [
              "<Figure size 432x288 with 2 Axes>"
            ],
            "image/png": "[encoded data removed]"
          },
          "metadata": {
            "needs_background": "light"
          }
        }
      ]
    },
    {
      "cell_type": "markdown",
      "source": [
        "## 3) Decision Tree classifier"
      ],
      "metadata": {
        "id": "iMrh9Lj2FbzJ"
      }
    },
    {
      "cell_type": "code",
      "source": [
        "max_depth=np.arange(1,20)\n",
        "cross_vals_dtc=[]\n",
        "for depth in max_depth:\n",
        "  dtc=DecisionTreeClassifier(max_depth=depth,random_state=0)\n",
        "  dtc.fit(x_train,y_train)\n",
        "  cv_score=cross_val_score(dtc,x_train,y_train,cv=15).mean()\n",
        "  cross_vals_dtc.append(cv_score)\n",
        "  print(\"max depth: {}, DTC model score: {}, Cross val score: {}\".format(depth,dtc.score(x_train,y_train),cv_score))\n"
      ],
      "metadata": {
        "colab": {
          "base_uri": "https://localhost:8080/"
        },
        "id": "CZ7jx4ulFaeX",
        "outputId": "2b82f7fc-c880-438b-eff7-9825e93450ec"
      },
      "execution_count": null,
      "outputs": [
        {
          "output_type": "stream",
          "name": "stdout",
          "text": [
            "max depth: 1, DTC model score: 0.88355823470855, Cross val score: 0.8835582418754979\n",
            "max depth: 2, DTC model score: 0.8972458798805442, Cross val score: 0.8971629340625866\n",
            "max depth: 3, DTC model score: 0.902527375290344, Cross val score: 0.9014213669138623\n",
            "max depth: 4, DTC model score: 0.9050436898573166, Cross val score: 0.9026103732718815\n",
            "max depth: 5, DTC model score: 0.9057626368764518, Cross val score: 0.9018914805527684\n",
            "max depth: 6, DTC model score: 0.9086107731445636, Cross val score: 0.901117239852153\n",
            "max depth: 7, DTC model score: 0.9116801238801018, Cross val score: 0.9007301596589629\n",
            "max depth: 8, DTC model score: 0.9149983408914943, Cross val score: 0.8999282334941339\n",
            "max depth: 9, DTC model score: 0.9195332374737308, Cross val score: 0.8993198531626311\n",
            "max depth: 10, DTC model score: 0.925671938944807, Cross val score: 0.8986286344342693\n",
            "max depth: 11, DTC model score: 0.932612542860303, Cross val score: 0.896720574728667\n",
            "max depth: 12, DTC model score: 0.9389448069903772, Cross val score: 0.8957528226151119\n",
            "max depth: 13, DTC model score: 0.9461066253732994, Cross val score: 0.893844797329896\n",
            "max depth: 14, DTC model score: 0.954623382369207, Cross val score: 0.8913561345447014\n",
            "max depth: 15, DTC model score: 0.9623382369206946, Cross val score: 0.8890887145305086\n",
            "max depth: 16, DTC model score: 0.9696383143457582, Cross val score: 0.8869041214397131\n",
            "max depth: 17, DTC model score: 0.9767448291118239, Cross val score: 0.8861022296952705\n",
            "max depth: 18, DTC model score: 0.9827452715407587, Cross val score: 0.8849683418495107\n",
            "max depth: 19, DTC model score: 0.9875013825904214, Cross val score: 0.8812354738798028\n"
          ]
        }
      ]
    },
    {
      "cell_type": "markdown",
      "source": [
        "Also here we can see after few values the cross validation score decreases with the increase in depth of tree.\n",
        "Here we will do a trade-off between model score and cross validation score and choose **max depth = 6** with values *DTC model score: 0.9086107731445636, Cross val score: 0.901117239852153*"
      ],
      "metadata": {
        "id": "tSM06BZzKGCy"
      }
    },
    {
      "cell_type": "code",
      "source": [
        "dtc_model=DecisionTreeClassifier(max_depth=6,random_state=0)\n",
        "dtc_model.fit(x_train,y_train)"
      ],
      "metadata": {
        "colab": {
          "base_uri": "https://localhost:8080/",
          "height": 74
        },
        "id": "xSb3B8cjKFaA",
        "outputId": "3c0cb28e-7587-4bdb-bd63-92ea629fbe6f"
      },
      "execution_count": null,
      "outputs": [
        {
          "output_type": "execute_result",
          "data": {
            "text/plain": [
              "DecisionTreeClassifier(max_depth=6, random_state=0)"
            ],
            "text/html": [
              "<style>#sk-container-id-3 {color: black;background-color: white;}#sk-container-id-3 pre{padding: 0;}#sk-container-id-3 div.sk-toggleable {background-color: white;}#sk-container-id-3 label.sk-toggleable__label {cursor: pointer;display: block;width: 100%;margin-bottom: 0;padding: 0.3em;box-sizing: border-box;text-align: center;}#sk-container-id-3 label.sk-toggleable__label-arrow:before {content: \"▸\";float: left;margin-right: 0.25em;color: #696969;}#sk-container-id-3 label.sk-toggleable__label-arrow:hover:before {color: black;}#sk-container-id-3 div.sk-estimator:hover label.sk-toggleable__label-arrow:before {color: black;}#sk-container-id-3 div.sk-toggleable__content {max-height: 0;max-width: 0;overflow: hidden;text-align: left;background-color: #f0f8ff;}#sk-container-id-3 div.sk-toggleable__content pre {margin: 0.2em;color: black;border-radius: 0.25em;background-color: #f0f8ff;}#sk-container-id-3 input.sk-toggleable__control:checked~div.sk-toggleable__content {max-height: 200px;max-width: 100%;overflow: auto;}#sk-container-id-3 input.sk-toggleable__control:checked~label.sk-toggleable__label-arrow:before {content: \"▾\";}#sk-container-id-3 div.sk-estimator input.sk-toggleable__control:checked~label.sk-toggleable__label {background-color: #d4ebff;}#sk-container-id-3 div.sk-label input.sk-toggleable__control:checked~label.sk-toggleable__label {background-color: #d4ebff;}#sk-container-id-3 input.sk-hidden--visually {border: 0;clip: rect(1px 1px 1px 1px);clip: rect(1px, 1px, 1px, 1px);height: 1px;margin: -1px;overflow: hidden;padding: 0;position: absolute;width: 1px;}#sk-container-id-3 div.sk-estimator {font-family: monospace;background-color: #f0f8ff;border: 1px dotted black;border-radius: 0.25em;box-sizing: border-box;margin-bottom: 0.5em;}#sk-container-id-3 div.sk-estimator:hover {background-color: #d4ebff;}#sk-container-id-3 div.sk-parallel-item::after {content: \"\";width: 100%;border-bottom: 1px solid gray;flex-grow: 1;}#sk-container-id-3 div.sk-label:hover label.sk-toggleable__label {background-color: #d4ebff;}#sk-container-id-3 div.sk-serial::before {content: \"\";position: absolute;border-left: 1px solid gray;box-sizing: border-box;top: 0;bottom: 0;left: 50%;z-index: 0;}#sk-container-id-3 div.sk-serial {display: flex;flex-direction: column;align-items: center;background-color: white;padding-right: 0.2em;padding-left: 0.2em;position: relative;}#sk-container-id-3 div.sk-item {position: relative;z-index: 1;}#sk-container-id-3 div.sk-parallel {display: flex;align-items: stretch;justify-content: center;background-color: white;position: relative;}#sk-container-id-3 div.sk-item::before, #sk-container-id-3 div.sk-parallel-item::before {content: \"\";position: absolute;border-left: 1px solid gray;box-sizing: border-box;top: 0;bottom: 0;left: 50%;z-index: -1;}#sk-container-id-3 div.sk-parallel-item {display: flex;flex-direction: column;z-index: 1;position: relative;background-color: white;}#sk-container-id-3 div.sk-parallel-item:first-child::after {align-self: flex-end;width: 50%;}#sk-container-id-3 div.sk-parallel-item:last-child::after {align-self: flex-start;width: 50%;}#sk-container-id-3 div.sk-parallel-item:only-child::after {width: 0;}#sk-container-id-3 div.sk-dashed-wrapped {border: 1px dashed gray;margin: 0 0.4em 0.5em 0.4em;box-sizing: border-box;padding-bottom: 0.4em;background-color: white;}#sk-container-id-3 div.sk-label label {font-family: monospace;font-weight: bold;display: inline-block;line-height: 1.2em;}#sk-container-id-3 div.sk-label-container {text-align: center;}#sk-container-id-3 div.sk-container {/* jupyter's `normalize.less` sets `[hidden] { display: none; }` but bootstrap.min.css set `[hidden] { display: none !important; }` so we also need the `!important` here to be able to override the default hidden behavior on the sphinx rendered scikit-learn.org. See: https://github.com/scikit-learn/scikit-learn/issues/21755 */display: inline-block !important;position: relative;}#sk-container-id-3 div.sk-text-repr-fallback {display: none;}</style><div id=\"sk-container-id-3\" class=\"sk-top-container\"><div class=\"sk-text-repr-fallback\"><pre>DecisionTreeClassifier(max_depth=6, random_state=0)</pre><b>In a Jupyter environment, please rerun this cell to show the HTML representation or trust the notebook. <br />On GitHub, the HTML representation is unable to render, please try loading this page with nbviewer.org.</b></div><div class=\"sk-container\" hidden><div class=\"sk-item\"><div class=\"sk-estimator sk-toggleable\"><input class=\"sk-toggleable__control sk-hidden--visually\" id=\"sk-estimator-id-3\" type=\"checkbox\" checked><label for=\"sk-estimator-id-3\" class=\"sk-toggleable__label sk-toggleable__label-arrow\">DecisionTreeClassifier</label><div class=\"sk-toggleable__content\"><pre>DecisionTreeClassifier(max_depth=6, random_state=0)</pre></div></div></div></div></div>"
            ]
          },
          "metadata": {},
          "execution_count": 40
        }
      ]
    },
    {
      "cell_type": "code",
      "source": [
        "dtc_predict_test=dtc_model.predict(x_test)\n",
        "cross_val_dtc_model=cross_val_score(dtc_model,x_train,y_train,cv=15).mean()\n",
        "cross_val_dtc_model"
      ],
      "metadata": {
        "colab": {
          "base_uri": "https://localhost:8080/"
        },
        "id": "0h4k8lQ0LbQs",
        "outputId": "36831344-801e-4ecc-b164-dcf2ab1e233d"
      },
      "execution_count": null,
      "outputs": [
        {
          "output_type": "execute_result",
          "data": {
            "text/plain": [
              "0.901117239852153"
            ]
          },
          "metadata": {},
          "execution_count": 41
        }
      ]
    },
    {
      "cell_type": "code",
      "source": [
        "print(classification_report(y_test,dtc_predict_test))"
      ],
      "metadata": {
        "colab": {
          "base_uri": "https://localhost:8080/"
        },
        "id": "6Sk2PxoGL1c0",
        "outputId": "e00dbf3c-521e-4756-df96-3225e6852e2a"
      },
      "execution_count": null,
      "outputs": [
        {
          "output_type": "stream",
          "name": "stdout",
          "text": [
            "              precision    recall  f1-score   support\n",
            "\n",
            "          no       0.93      0.96      0.94      7963\n",
            "         yes       0.60      0.43      0.50      1078\n",
            "\n",
            "    accuracy                           0.90      9041\n",
            "   macro avg       0.76      0.70      0.72      9041\n",
            "weighted avg       0.89      0.90      0.89      9041\n",
            "\n"
          ]
        }
      ]
    },
    {
      "cell_type": "code",
      "source": [
        "cm3=confusion_matrix(y_test,dtc_predict_test)\n",
        "cm3"
      ],
      "metadata": {
        "colab": {
          "base_uri": "https://localhost:8080/"
        },
        "id": "yNkmCzLfSKKV",
        "outputId": "bcbf94f7-263a-4d1c-911b-586b310079e8"
      },
      "execution_count": null,
      "outputs": [
        {
          "output_type": "execute_result",
          "data": {
            "text/plain": [
              "array([[7658,  305],\n",
              "       [ 613,  465]])"
            ]
          },
          "metadata": {},
          "execution_count": 49
        }
      ]
    },
    {
      "cell_type": "code",
      "source": [
        "ConfusionMatrixDisplay(cm3).plot()"
      ],
      "metadata": {
        "colab": {
          "base_uri": "https://localhost:8080/",
          "height": 296
        },
        "id": "BPLdBGpYSmVG",
        "outputId": "db9dd1ee-ea88-4966-83c1-c43317f29984"
      },
      "execution_count": null,
      "outputs": [
        {
          "output_type": "execute_result",
          "data": {
            "text/plain": [
              "<sklearn.metrics._plot.confusion_matrix.ConfusionMatrixDisplay at 0x7f290f59a6a0>"
            ]
          },
          "metadata": {},
          "execution_count": 50
        },
        {
          "output_type": "display_data",
          "data": {
            "text/plain": [
              "<Figure size 432x288 with 2 Axes>"
            ],
            "image/png": "[encoded data removed]"
          },
          "metadata": {
            "needs_background": "light"
          }
        }
      ]
    },
    {
      "cell_type": "code",
      "source": [
        "#now we will visualize our decision tree\n",
        "import graphviz as gp\n",
        "from sklearn import tree"
      ],
      "metadata": {
        "id": "RnauhGSbZ4wh"
      },
      "execution_count": null,
      "outputs": []
    },
    {
      "cell_type": "code",
      "source": [
        "plt.figure(figsize=(20,25))\n",
        "data=tree.export_graphviz(dtc_model,filled=True)\n",
        "gp.Source(data, format=\"png\") "
      ],
      "metadata": {
        "colab": {
          "base_uri": "https://localhost:8080/",
          "height": 972
        },
        "id": "Ue8SEcRjZ7rR",
        "outputId": "c57cf284-26e5-42d5-b248-a0da4a8b2a17"
      },
      "execution_count": null,
      "outputs": [
        {
          "output_type": "execute_result",
          "data": {
            "text/plain": [
              "<graphviz.files.Source at 0x7f290f389640>"
            ],
            "image/svg+xml": "<?xml version=\"1.0\" encoding=\"UTF-8\" standalone=\"no\"?>\n<!DOCTYPE svg PUBLIC \"-//W3C//DTD SVG 1.1//EN\"\n \"http://www.w3.org/Graphics/SVG/1.1/DTD/svg11.dtd\">\n<!-- Generated by graphviz version 2.43.0 (0)\n -->\n<!-- Title: Tree Pages: 1 -->\n<svg width=\"7852pt\" height=\"685pt\"\n viewBox=\"0.00 0.00 7851.50 685.00\" xmlns=\"http://www.w3.org/2000/svg\" xmlns:xlink=\"http://www.w3.org/1999/xlink\">\n<g id=\"graph0\" class=\"graph\" transform=\"scale(1 1) rotate(0) translate(4 681)\">\n<title>Tree</title>\n<polygon fill=\"white\" stroke=\"transparent\" points=\"-4,4 -4,-681 7847.5,-681 7847.5,4 -4,4\"/>\n<!-- 0 -->\n<g id=\"node1\" class=\"node\">\n<title>0</title>\n<polygon fill=\"#e89253\" stroke=\"black\" points=\"4290.5,-677 4143.5,-677 4143.5,-609 4290.5,-609 4290.5,-677\"/>\n<text text-anchor=\"middle\" x=\"4217\" y=\"-661.8\" font-family=\"Helvetica,sans-Serif\" font-size=\"14.00\">x[6] &lt;= 522.5</text>\n<text text-anchor=\"middle\" x=\"4217\" y=\"-646.8\" font-family=\"Helvetica,sans-Serif\" font-size=\"14.00\">gini = 0.206</text>\n<text text-anchor=\"middle\" x=\"4217\" y=\"-631.8\" font-family=\"Helvetica,sans-Serif\" font-size=\"14.00\">samples = 36164</text>\n<text text-anchor=\"middle\" x=\"4217\" y=\"-616.8\" font-family=\"Helvetica,sans-Serif\" font-size=\"14.00\">value = [31953, 4211]</text>\n</g>\n<!-- 1 -->\n<g id=\"node2\" class=\"node\">\n<title>1</title>\n<polygon fill=\"#e78b49\" stroke=\"black\" points=\"2915.5,-573 2768.5,-573 2768.5,-505 2915.5,-505 2915.5,-573\"/>\n<text text-anchor=\"middle\" x=\"2842\" y=\"-557.8\" font-family=\"Helvetica,sans-Serif\" font-size=\"14.00\">x[8] &lt;= 0.5</text>\n<text text-anchor=\"middle\" x=\"2842\" y=\"-542.8\" font-family=\"Helvetica,sans-Serif\" font-size=\"14.00\">gini = 0.142</text>\n<text text-anchor=\"middle\" x=\"2842\" y=\"-527.8\" font-family=\"Helvetica,sans-Serif\" font-size=\"14.00\">samples = 32187</text>\n<text text-anchor=\"middle\" x=\"2842\" y=\"-512.8\" font-family=\"Helvetica,sans-Serif\" font-size=\"14.00\">value = [29718, 2469]</text>\n</g>\n<!-- 0&#45;&gt;1 -->\n<g id=\"edge1\" class=\"edge\">\n<title>0&#45;&gt;1</title>\n<path fill=\"none\" stroke=\"black\" d=\"M4143.07,-636.52C3907.46,-619.04 3175.08,-564.71 2925.95,-546.23\"/>\n<polygon fill=\"black\" stroke=\"black\" points=\"2926.1,-542.73 2915.87,-545.48 2925.59,-549.71 2926.1,-542.73\"/>\n<text text-anchor=\"middle\" x=\"2932.19\" y=\"-560.72\" font-family=\"Helvetica,sans-Serif\" font-size=\"14.00\">True</text>\n</g>\n<!-- 62 -->\n<g id=\"node63\" class=\"node\">\n<title>62</title>\n<polygon fill=\"#f9e3d3\" stroke=\"black\" points=\"4838,-573 4698,-573 4698,-505 4838,-505 4838,-573\"/>\n<text text-anchor=\"middle\" x=\"4768\" y=\"-557.8\" font-family=\"Helvetica,sans-Serif\" font-size=\"14.00\">x[6] &lt;= 807.5</text>\n<text text-anchor=\"middle\" x=\"4768\" y=\"-542.8\" font-family=\"Helvetica,sans-Serif\" font-size=\"14.00\">gini = 0.492</text>\n<text text-anchor=\"middle\" x=\"4768\" y=\"-527.8\" font-family=\"Helvetica,sans-Serif\" font-size=\"14.00\">samples = 3977</text>\n<text text-anchor=\"middle\" x=\"4768\" y=\"-512.8\" font-family=\"Helvetica,sans-Serif\" font-size=\"14.00\">value = [2235, 1742]</text>\n</g>\n<!-- 0&#45;&gt;62 -->\n<g id=\"edge62\" class=\"edge\">\n<title>0&#45;&gt;62</title>\n<path fill=\"none\" stroke=\"black\" d=\"M4290.74,-628.35C4394,-609.23 4580.98,-574.62 4687.68,-554.87\"/>\n<polygon fill=\"black\" stroke=\"black\" points=\"4688.55,-558.27 4697.75,-553.01 4687.27,-551.38 4688.55,-558.27\"/>\n<text text-anchor=\"middle\" x=\"4683.58\" y=\"-569.91\" font-family=\"Helvetica,sans-Serif\" font-size=\"14.00\">False</text>\n</g>\n<!-- 2 -->\n<g id=\"node3\" class=\"node\">\n<title>2</title>\n<polygon fill=\"#add7f4\" stroke=\"black\" points=\"1243.5,-469 1118.5,-469 1118.5,-401 1243.5,-401 1243.5,-469\"/>\n<text text-anchor=\"middle\" x=\"1181\" y=\"-453.8\" font-family=\"Helvetica,sans-Serif\" font-size=\"14.00\">x[6] &lt;= 132.0</text>\n<text text-anchor=\"middle\" x=\"1181\" y=\"-438.8\" font-family=\"Helvetica,sans-Serif\" font-size=\"14.00\">gini = 0.466</text>\n<text text-anchor=\"middle\" x=\"1181\" y=\"-423.8\" font-family=\"Helvetica,sans-Serif\" font-size=\"14.00\">samples = 1035</text>\n<text text-anchor=\"middle\" x=\"1181\" y=\"-408.8\" font-family=\"Helvetica,sans-Serif\" font-size=\"14.00\">value = [383, 652]</text>\n</g>\n<!-- 1&#45;&gt;2 -->\n<g id=\"edge2\" class=\"edge\">\n<title>1&#45;&gt;2</title>\n<path fill=\"none\" stroke=\"black\" d=\"M2768.49,-533.49C2493.57,-516.6 1527.81,-457.3 1253.91,-440.48\"/>\n<polygon fill=\"black\" stroke=\"black\" points=\"1253.89,-436.97 1243.69,-439.85 1253.46,-443.96 1253.89,-436.97\"/>\n</g>\n<!-- 31 -->\n<g id=\"node32\" class=\"node\">\n<title>31</title>\n<polygon fill=\"#e78945\" stroke=\"black\" points=\"2915.5,-469 2768.5,-469 2768.5,-401 2915.5,-401 2915.5,-469\"/>\n<text text-anchor=\"middle\" x=\"2842\" y=\"-453.8\" font-family=\"Helvetica,sans-Serif\" font-size=\"14.00\">x[5] &lt;= 4.0</text>\n<text text-anchor=\"middle\" x=\"2842\" y=\"-438.8\" font-family=\"Helvetica,sans-Serif\" font-size=\"14.00\">gini = 0.11</text>\n<text text-anchor=\"middle\" x=\"2842\" y=\"-423.8\" font-family=\"Helvetica,sans-Serif\" font-size=\"14.00\">samples = 31152</text>\n<text text-anchor=\"middle\" x=\"2842\" y=\"-408.8\" font-family=\"Helvetica,sans-Serif\" font-size=\"14.00\">value = [29335, 1817]</text>\n</g>\n<!-- 1&#45;&gt;31 -->\n<g id=\"edge31\" class=\"edge\">\n<title>1&#45;&gt;31</title>\n<path fill=\"none\" stroke=\"black\" d=\"M2842,-504.88C2842,-496.78 2842,-487.98 2842,-479.47\"/>\n<polygon fill=\"black\" stroke=\"black\" points=\"2845.5,-479.3 2842,-469.3 2838.5,-479.3 2845.5,-479.3\"/>\n</g>\n<!-- 3 -->\n<g id=\"node4\" class=\"node\">\n<title>3</title>\n<polygon fill=\"#eda775\" stroke=\"black\" points=\"695.5,-365 578.5,-365 578.5,-297 695.5,-297 695.5,-365\"/>\n<text text-anchor=\"middle\" x=\"637\" y=\"-349.8\" font-family=\"Helvetica,sans-Serif\" font-size=\"14.00\">x[5] &lt;= 13.5</text>\n<text text-anchor=\"middle\" x=\"637\" y=\"-334.8\" font-family=\"Helvetica,sans-Serif\" font-size=\"14.00\">gini = 0.357</text>\n<text text-anchor=\"middle\" x=\"637\" y=\"-319.8\" font-family=\"Helvetica,sans-Serif\" font-size=\"14.00\">samples = 189</text>\n<text text-anchor=\"middle\" x=\"637\" y=\"-304.8\" font-family=\"Helvetica,sans-Serif\" font-size=\"14.00\">value = [145, 44]</text>\n</g>\n<!-- 2&#45;&gt;3 -->\n<g id=\"edge3\" class=\"edge\">\n<title>2&#45;&gt;3</title>\n<path fill=\"none\" stroke=\"black\" d=\"M1118.33,-422.25C1015.62,-402.99 812.24,-364.86 705.72,-344.88\"/>\n<polygon fill=\"black\" stroke=\"black\" points=\"706.19,-341.41 695.72,-343.01 704.9,-348.29 706.19,-341.41\"/>\n</g>\n<!-- 16 -->\n<g id=\"node17\" class=\"node\">\n<title>16</title>\n<polygon fill=\"#87c3ef\" stroke=\"black\" points=\"1243.5,-365 1118.5,-365 1118.5,-297 1243.5,-297 1243.5,-365\"/>\n<text text-anchor=\"middle\" x=\"1181\" y=\"-349.8\" font-family=\"Helvetica,sans-Serif\" font-size=\"14.00\">x[6] &lt;= 162.5</text>\n<text text-anchor=\"middle\" x=\"1181\" y=\"-334.8\" font-family=\"Helvetica,sans-Serif\" font-size=\"14.00\">gini = 0.404</text>\n<text text-anchor=\"middle\" x=\"1181\" y=\"-319.8\" font-family=\"Helvetica,sans-Serif\" font-size=\"14.00\">samples = 846</text>\n<text text-anchor=\"middle\" x=\"1181\" y=\"-304.8\" font-family=\"Helvetica,sans-Serif\" font-size=\"14.00\">value = [238, 608]</text>\n</g>\n<!-- 2&#45;&gt;16 -->\n<g id=\"edge16\" class=\"edge\">\n<title>2&#45;&gt;16</title>\n<path fill=\"none\" stroke=\"black\" d=\"M1181,-400.88C1181,-392.78 1181,-383.98 1181,-375.47\"/>\n<polygon fill=\"black\" stroke=\"black\" points=\"1184.5,-375.3 1181,-365.3 1177.5,-375.3 1184.5,-375.3\"/>\n</g>\n<!-- 4 -->\n<g id=\"node5\" class=\"node\">\n<title>4</title>\n<polygon fill=\"#efb387\" stroke=\"black\" points=\"452.5,-261 335.5,-261 335.5,-193 452.5,-193 452.5,-261\"/>\n<text text-anchor=\"middle\" x=\"394\" y=\"-245.8\" font-family=\"Helvetica,sans-Serif\" font-size=\"14.00\">x[2] &lt;= 1.5</text>\n<text text-anchor=\"middle\" x=\"394\" y=\"-230.8\" font-family=\"Helvetica,sans-Serif\" font-size=\"14.00\">gini = 0.407</text>\n<text text-anchor=\"middle\" x=\"394\" y=\"-215.8\" font-family=\"Helvetica,sans-Serif\" font-size=\"14.00\">samples = 148</text>\n<text text-anchor=\"middle\" x=\"394\" y=\"-200.8\" font-family=\"Helvetica,sans-Serif\" font-size=\"14.00\">value = [106, 42]</text>\n</g>\n<!-- 3&#45;&gt;4 -->\n<g id=\"edge4\" class=\"edge\">\n<title>3&#45;&gt;4</title>\n<path fill=\"none\" stroke=\"black\" d=\"M578.49,-305.44C543.55,-290.77 499.01,-272.08 462.45,-256.73\"/>\n<polygon fill=\"black\" stroke=\"black\" points=\"463.42,-253.34 452.85,-252.7 460.71,-259.8 463.42,-253.34\"/>\n</g>\n<!-- 11 -->\n<g id=\"node12\" class=\"node\">\n<title>11</title>\n<polygon fill=\"#e68743\" stroke=\"black\" points=\"688,-261 586,-261 586,-193 688,-193 688,-261\"/>\n<text text-anchor=\"middle\" x=\"637\" y=\"-245.8\" font-family=\"Helvetica,sans-Serif\" font-size=\"14.00\">x[11] &lt;= 0.5</text>\n<text text-anchor=\"middle\" x=\"637\" y=\"-230.8\" font-family=\"Helvetica,sans-Serif\" font-size=\"14.00\">gini = 0.093</text>\n<text text-anchor=\"middle\" x=\"637\" y=\"-215.8\" font-family=\"Helvetica,sans-Serif\" font-size=\"14.00\">samples = 41</text>\n<text text-anchor=\"middle\" x=\"637\" y=\"-200.8\" font-family=\"Helvetica,sans-Serif\" font-size=\"14.00\">value = [39, 2]</text>\n</g>\n<!-- 3&#45;&gt;11 -->\n<g id=\"edge11\" class=\"edge\">\n<title>3&#45;&gt;11</title>\n<path fill=\"none\" stroke=\"black\" d=\"M637,-296.88C637,-288.78 637,-279.98 637,-271.47\"/>\n<polygon fill=\"black\" stroke=\"black\" points=\"640.5,-271.3 637,-261.3 633.5,-271.3 640.5,-271.3\"/>\n</g>\n<!-- 5 -->\n<g id=\"node6\" class=\"node\">\n<title>5</title>\n<polygon fill=\"#f4caab\" stroke=\"black\" points=\"234,-157 124,-157 124,-89 234,-89 234,-157\"/>\n<text text-anchor=\"middle\" x=\"179\" y=\"-141.8\" font-family=\"Helvetica,sans-Serif\" font-size=\"14.00\">x[7] &lt;= 2.5</text>\n<text text-anchor=\"middle\" x=\"179\" y=\"-126.8\" font-family=\"Helvetica,sans-Serif\" font-size=\"14.00\">gini = 0.464</text>\n<text text-anchor=\"middle\" x=\"179\" y=\"-111.8\" font-family=\"Helvetica,sans-Serif\" font-size=\"14.00\">samples = 71</text>\n<text text-anchor=\"middle\" x=\"179\" y=\"-96.8\" font-family=\"Helvetica,sans-Serif\" font-size=\"14.00\">value = [45, 26]</text>\n</g>\n<!-- 4&#45;&gt;5 -->\n<g id=\"edge5\" class=\"edge\">\n<title>4&#45;&gt;5</title>\n<path fill=\"none\" stroke=\"black\" d=\"M335.25,-198.13C306.87,-184.66 272.73,-168.47 243.61,-154.65\"/>\n<polygon fill=\"black\" stroke=\"black\" points=\"244.89,-151.38 234.35,-150.26 241.88,-157.71 244.89,-151.38\"/>\n</g>\n<!-- 8 -->\n<g id=\"node9\" class=\"node\">\n<title>8</title>\n<polygon fill=\"#eca26d\" stroke=\"black\" points=\"449,-157 339,-157 339,-89 449,-89 449,-157\"/>\n<text text-anchor=\"middle\" x=\"394\" y=\"-141.8\" font-family=\"Helvetica,sans-Serif\" font-size=\"14.00\">x[5] &lt;= 2.5</text>\n<text text-anchor=\"middle\" x=\"394\" y=\"-126.8\" font-family=\"Helvetica,sans-Serif\" font-size=\"14.00\">gini = 0.329</text>\n<text text-anchor=\"middle\" x=\"394\" y=\"-111.8\" font-family=\"Helvetica,sans-Serif\" font-size=\"14.00\">samples = 77</text>\n<text text-anchor=\"middle\" x=\"394\" y=\"-96.8\" font-family=\"Helvetica,sans-Serif\" font-size=\"14.00\">value = [61, 16]</text>\n</g>\n<!-- 4&#45;&gt;8 -->\n<g id=\"edge8\" class=\"edge\">\n<title>4&#45;&gt;8</title>\n<path fill=\"none\" stroke=\"black\" d=\"M394,-192.88C394,-184.78 394,-175.98 394,-167.47\"/>\n<polygon fill=\"black\" stroke=\"black\" points=\"397.5,-167.3 394,-157.3 390.5,-167.3 397.5,-167.3\"/>\n</g>\n<!-- 6 -->\n<g id=\"node7\" class=\"node\">\n<title>6</title>\n<polygon fill=\"#fae7d9\" stroke=\"black\" points=\"110,-53 0,-53 0,0 110,0 110,-53\"/>\n<text text-anchor=\"middle\" x=\"55\" y=\"-37.8\" font-family=\"Helvetica,sans-Serif\" font-size=\"14.00\">gini = 0.494</text>\n<text text-anchor=\"middle\" x=\"55\" y=\"-22.8\" font-family=\"Helvetica,sans-Serif\" font-size=\"14.00\">samples = 56</text>\n<text text-anchor=\"middle\" x=\"55\" y=\"-7.8\" font-family=\"Helvetica,sans-Serif\" font-size=\"14.00\">value = [31, 25]</text>\n</g>\n<!-- 5&#45;&gt;6 -->\n<g id=\"edge6\" class=\"edge\">\n<title>5&#45;&gt;6</title>\n<path fill=\"none\" stroke=\"black\" d=\"M135.63,-88.95C123.03,-79.34 109.29,-68.87 96.79,-59.34\"/>\n<polygon fill=\"black\" stroke=\"black\" points=\"98.85,-56.51 88.77,-53.24 94.6,-62.08 98.85,-56.51\"/>\n</g>\n<!-- 7 -->\n<g id=\"node8\" class=\"node\">\n<title>7</title>\n<polygon fill=\"#e78a47\" stroke=\"black\" points=\"230,-53 128,-53 128,0 230,0 230,-53\"/>\n<text text-anchor=\"middle\" x=\"179\" y=\"-37.8\" font-family=\"Helvetica,sans-Serif\" font-size=\"14.00\">gini = 0.124</text>\n<text text-anchor=\"middle\" x=\"179\" y=\"-22.8\" font-family=\"Helvetica,sans-Serif\" font-size=\"14.00\">samples = 15</text>\n<text text-anchor=\"middle\" x=\"179\" y=\"-7.8\" font-family=\"Helvetica,sans-Serif\" font-size=\"14.00\">value = [14, 1]</text>\n</g>\n<!-- 5&#45;&gt;7 -->\n<g id=\"edge7\" class=\"edge\">\n<title>5&#45;&gt;7</title>\n<path fill=\"none\" stroke=\"black\" d=\"M179,-88.95C179,-80.72 179,-71.85 179,-63.48\"/>\n<polygon fill=\"black\" stroke=\"black\" points=\"182.5,-63.24 179,-53.24 175.5,-63.24 182.5,-63.24\"/>\n</g>\n<!-- 9 -->\n<g id=\"node10\" class=\"node\">\n<title>9</title>\n<polygon fill=\"#f5cdb0\" stroke=\"black\" points=\"350,-53 248,-53 248,0 350,0 350,-53\"/>\n<text text-anchor=\"middle\" x=\"299\" y=\"-37.8\" font-family=\"Helvetica,sans-Serif\" font-size=\"14.00\">gini = 0.469</text>\n<text text-anchor=\"middle\" x=\"299\" y=\"-22.8\" font-family=\"Helvetica,sans-Serif\" font-size=\"14.00\">samples = 16</text>\n<text text-anchor=\"middle\" x=\"299\" y=\"-7.8\" font-family=\"Helvetica,sans-Serif\" font-size=\"14.00\">value = [10, 6]</text>\n</g>\n<!-- 8&#45;&gt;9 -->\n<g id=\"edge9\" class=\"edge\">\n<title>8&#45;&gt;9</title>\n<path fill=\"none\" stroke=\"black\" d=\"M360.77,-88.95C351.49,-79.71 341.39,-69.67 332.11,-60.44\"/>\n<polygon fill=\"black\" stroke=\"black\" points=\"334.43,-57.81 324.87,-53.24 329.49,-62.77 334.43,-57.81\"/>\n</g>\n<!-- 10 -->\n<g id=\"node11\" class=\"node\">\n<title>10</title>\n<polygon fill=\"#ea9a60\" stroke=\"black\" points=\"478,-53 368,-53 368,0 478,0 478,-53\"/>\n<text text-anchor=\"middle\" x=\"423\" y=\"-37.8\" font-family=\"Helvetica,sans-Serif\" font-size=\"14.00\">gini = 0.274</text>\n<text text-anchor=\"middle\" x=\"423\" y=\"-22.8\" font-family=\"Helvetica,sans-Serif\" font-size=\"14.00\">samples = 61</text>\n<text text-anchor=\"middle\" x=\"423\" y=\"-7.8\" font-family=\"Helvetica,sans-Serif\" font-size=\"14.00\">value = [51, 10]</text>\n</g>\n<!-- 8&#45;&gt;10 -->\n<g id=\"edge10\" class=\"edge\">\n<title>8&#45;&gt;10</title>\n<path fill=\"none\" stroke=\"black\" d=\"M404.14,-88.95C406.73,-80.53 409.51,-71.45 412.13,-62.92\"/>\n<polygon fill=\"black\" stroke=\"black\" points=\"415.51,-63.82 415.1,-53.24 408.82,-61.77 415.51,-63.82\"/>\n</g>\n<!-- 12 -->\n<g id=\"node13\" class=\"node\">\n<title>12</title>\n<polygon fill=\"#e6843e\" stroke=\"black\" points=\"627,-157 525,-157 525,-89 627,-89 627,-157\"/>\n<text text-anchor=\"middle\" x=\"576\" y=\"-141.8\" font-family=\"Helvetica,sans-Serif\" font-size=\"14.00\">x[4] &lt;= 26.5</text>\n<text text-anchor=\"middle\" x=\"576\" y=\"-126.8\" font-family=\"Helvetica,sans-Serif\" font-size=\"14.00\">gini = 0.049</text>\n<text text-anchor=\"middle\" x=\"576\" y=\"-111.8\" font-family=\"Helvetica,sans-Serif\" font-size=\"14.00\">samples = 40</text>\n<text text-anchor=\"middle\" x=\"576\" y=\"-96.8\" font-family=\"Helvetica,sans-Serif\" font-size=\"14.00\">value = [39, 1]</text>\n</g>\n<!-- 11&#45;&gt;12 -->\n<g id=\"edge12\" class=\"edge\">\n<title>11&#45;&gt;12</title>\n<path fill=\"none\" stroke=\"black\" d=\"M617.2,-192.88C612.08,-184.33 606.51,-175.01 601.16,-166.07\"/>\n<polygon fill=\"black\" stroke=\"black\" points=\"604.05,-164.09 595.91,-157.3 598.04,-167.68 604.05,-164.09\"/>\n</g>\n<!-- 15 -->\n<g id=\"node16\" class=\"node\">\n<title>15</title>\n<polygon fill=\"#399de5\" stroke=\"black\" points=\"740.5,-149.5 645.5,-149.5 645.5,-96.5 740.5,-96.5 740.5,-149.5\"/>\n<text text-anchor=\"middle\" x=\"693\" y=\"-134.3\" font-family=\"Helvetica,sans-Serif\" font-size=\"14.00\">gini = 0.0</text>\n<text text-anchor=\"middle\" x=\"693\" y=\"-119.3\" font-family=\"Helvetica,sans-Serif\" font-size=\"14.00\">samples = 1</text>\n<text text-anchor=\"middle\" x=\"693\" y=\"-104.3\" font-family=\"Helvetica,sans-Serif\" font-size=\"14.00\">value = [0, 1]</text>\n</g>\n<!-- 11&#45;&gt;15 -->\n<g id=\"edge15\" class=\"edge\">\n<title>11&#45;&gt;15</title>\n<path fill=\"none\" stroke=\"black\" d=\"M655.18,-192.88C661.22,-181.89 667.96,-169.62 674.05,-158.52\"/>\n<polygon fill=\"black\" stroke=\"black\" points=\"677.24,-159.97 678.99,-149.52 671.11,-156.6 677.24,-159.97\"/>\n</g>\n<!-- 13 -->\n<g id=\"node14\" class=\"node\">\n<title>13</title>\n<polygon fill=\"#e58139\" stroke=\"black\" points=\"598,-53 496,-53 496,0 598,0 598,-53\"/>\n<text text-anchor=\"middle\" x=\"547\" y=\"-37.8\" font-family=\"Helvetica,sans-Serif\" font-size=\"14.00\">gini = 0.0</text>\n<text text-anchor=\"middle\" x=\"547\" y=\"-22.8\" font-family=\"Helvetica,sans-Serif\" font-size=\"14.00\">samples = 37</text>\n<text text-anchor=\"middle\" x=\"547\" y=\"-7.8\" font-family=\"Helvetica,sans-Serif\" font-size=\"14.00\">value = [37, 0]</text>\n</g>\n<!-- 12&#45;&gt;13 -->\n<g id=\"edge13\" class=\"edge\">\n<title>12&#45;&gt;13</title>\n<path fill=\"none\" stroke=\"black\" d=\"M565.86,-88.95C563.27,-80.53 560.49,-71.45 557.87,-62.92\"/>\n<polygon fill=\"black\" stroke=\"black\" points=\"561.18,-61.77 554.9,-53.24 554.49,-63.82 561.18,-61.77\"/>\n</g>\n<!-- 14 -->\n<g id=\"node15\" class=\"node\">\n<title>14</title>\n<polygon fill=\"#f2c09c\" stroke=\"black\" points=\"711.5,-53 616.5,-53 616.5,0 711.5,0 711.5,-53\"/>\n<text text-anchor=\"middle\" x=\"664\" y=\"-37.8\" font-family=\"Helvetica,sans-Serif\" font-size=\"14.00\">gini = 0.444</text>\n<text text-anchor=\"middle\" x=\"664\" y=\"-22.8\" font-family=\"Helvetica,sans-Serif\" font-size=\"14.00\">samples = 3</text>\n<text text-anchor=\"middle\" x=\"664\" y=\"-7.8\" font-family=\"Helvetica,sans-Serif\" font-size=\"14.00\">value = [2, 1]</text>\n</g>\n<!-- 12&#45;&gt;14 -->\n<g id=\"edge14\" class=\"edge\">\n<title>12&#45;&gt;14</title>\n<path fill=\"none\" stroke=\"black\" d=\"M606.78,-88.95C615.3,-79.8 624.54,-69.87 633.07,-60.71\"/>\n<polygon fill=\"black\" stroke=\"black\" points=\"635.78,-62.94 640.03,-53.24 630.66,-58.17 635.78,-62.94\"/>\n</g>\n<!-- 17 -->\n<g id=\"node18\" class=\"node\">\n<title>17</title>\n<polygon fill=\"#f3f9fd\" stroke=\"black\" points=\"1142,-261 1032,-261 1032,-193 1142,-193 1142,-261\"/>\n<text text-anchor=\"middle\" x=\"1087\" y=\"-245.8\" font-family=\"Helvetica,sans-Serif\" font-size=\"14.00\">x[6] &lt;= 155.5</text>\n<text text-anchor=\"middle\" x=\"1087\" y=\"-230.8\" font-family=\"Helvetica,sans-Serif\" font-size=\"14.00\">gini = 0.5</text>\n<text text-anchor=\"middle\" x=\"1087\" y=\"-215.8\" font-family=\"Helvetica,sans-Serif\" font-size=\"14.00\">samples = 99</text>\n<text text-anchor=\"middle\" x=\"1087\" y=\"-200.8\" font-family=\"Helvetica,sans-Serif\" font-size=\"14.00\">value = [48, 51]</text>\n</g>\n<!-- 16&#45;&gt;17 -->\n<g id=\"edge17\" class=\"edge\">\n<title>16&#45;&gt;17</title>\n<path fill=\"none\" stroke=\"black\" d=\"M1150.48,-296.88C1142.19,-287.89 1133.12,-278.04 1124.49,-268.68\"/>\n<polygon fill=\"black\" stroke=\"black\" points=\"1127.04,-266.28 1117.69,-261.3 1121.89,-271.02 1127.04,-266.28\"/>\n</g>\n<!-- 24 -->\n<g id=\"node25\" class=\"node\">\n<title>24</title>\n<polygon fill=\"#7dbeee\" stroke=\"black\" points=\"1401.5,-261 1276.5,-261 1276.5,-193 1401.5,-193 1401.5,-261\"/>\n<text text-anchor=\"middle\" x=\"1339\" y=\"-245.8\" font-family=\"Helvetica,sans-Serif\" font-size=\"14.00\">x[5] &lt;= 17.0</text>\n<text text-anchor=\"middle\" x=\"1339\" y=\"-230.8\" font-family=\"Helvetica,sans-Serif\" font-size=\"14.00\">gini = 0.379</text>\n<text text-anchor=\"middle\" x=\"1339\" y=\"-215.8\" font-family=\"Helvetica,sans-Serif\" font-size=\"14.00\">samples = 747</text>\n<text text-anchor=\"middle\" x=\"1339\" y=\"-200.8\" font-family=\"Helvetica,sans-Serif\" font-size=\"14.00\">value = [190, 557]</text>\n</g>\n<!-- 16&#45;&gt;24 -->\n<g id=\"edge24\" class=\"edge\">\n<title>16&#45;&gt;24</title>\n<path fill=\"none\" stroke=\"black\" d=\"M1232.3,-296.88C1247.28,-287.21 1263.77,-276.56 1279.23,-266.59\"/>\n<polygon fill=\"black\" stroke=\"black\" points=\"1281.19,-269.49 1287.69,-261.12 1277.39,-263.61 1281.19,-269.49\"/>\n</g>\n<!-- 18 -->\n<g id=\"node19\" class=\"node\">\n<title>18</title>\n<polygon fill=\"#baddf6\" stroke=\"black\" points=\"960,-157 850,-157 850,-89 960,-89 960,-157\"/>\n<text text-anchor=\"middle\" x=\"905\" y=\"-141.8\" font-family=\"Helvetica,sans-Serif\" font-size=\"14.00\">x[5] &lt;= 4.0</text>\n<text text-anchor=\"middle\" x=\"905\" y=\"-126.8\" font-family=\"Helvetica,sans-Serif\" font-size=\"14.00\">gini = 0.478</text>\n<text text-anchor=\"middle\" x=\"905\" y=\"-111.8\" font-family=\"Helvetica,sans-Serif\" font-size=\"14.00\">samples = 76</text>\n<text text-anchor=\"middle\" x=\"905\" y=\"-96.8\" font-family=\"Helvetica,sans-Serif\" font-size=\"14.00\">value = [30, 46]</text>\n</g>\n<!-- 17&#45;&gt;18 -->\n<g id=\"edge18\" class=\"edge\">\n<title>17&#45;&gt;18</title>\n<path fill=\"none\" stroke=\"black\" d=\"M1031.9,-195.12C1012.12,-184.04 989.65,-171.44 969.17,-159.96\"/>\n<polygon fill=\"black\" stroke=\"black\" points=\"970.66,-156.79 960.23,-154.95 967.24,-162.89 970.66,-156.79\"/>\n</g>\n<!-- 21 -->\n<g id=\"node22\" class=\"node\">\n<title>21</title>\n<polygon fill=\"#eca470\" stroke=\"black\" points=\"1138,-157 1036,-157 1036,-89 1138,-89 1138,-157\"/>\n<text text-anchor=\"middle\" x=\"1087\" y=\"-141.8\" font-family=\"Helvetica,sans-Serif\" font-size=\"14.00\">x[5] &lt;= 10.0</text>\n<text text-anchor=\"middle\" x=\"1087\" y=\"-126.8\" font-family=\"Helvetica,sans-Serif\" font-size=\"14.00\">gini = 0.34</text>\n<text text-anchor=\"middle\" x=\"1087\" y=\"-111.8\" font-family=\"Helvetica,sans-Serif\" font-size=\"14.00\">samples = 23</text>\n<text text-anchor=\"middle\" x=\"1087\" y=\"-96.8\" font-family=\"Helvetica,sans-Serif\" font-size=\"14.00\">value = [18, 5]</text>\n</g>\n<!-- 17&#45;&gt;21 -->\n<g id=\"edge21\" class=\"edge\">\n<title>17&#45;&gt;21</title>\n<path fill=\"none\" stroke=\"black\" d=\"M1087,-192.88C1087,-184.78 1087,-175.98 1087,-167.47\"/>\n<polygon fill=\"black\" stroke=\"black\" points=\"1090.5,-167.3 1087,-157.3 1083.5,-167.3 1090.5,-167.3\"/>\n</g>\n<!-- 19 -->\n<g id=\"node20\" class=\"node\">\n<title>19</title>\n<polygon fill=\"#53aae8\" stroke=\"black\" points=\"832,-53 730,-53 730,0 832,0 832,-53\"/>\n<text text-anchor=\"middle\" x=\"781\" y=\"-37.8\" font-family=\"Helvetica,sans-Serif\" font-size=\"14.00\">gini = 0.208</text>\n<text text-anchor=\"middle\" x=\"781\" y=\"-22.8\" font-family=\"Helvetica,sans-Serif\" font-size=\"14.00\">samples = 17</text>\n<text text-anchor=\"middle\" x=\"781\" y=\"-7.8\" font-family=\"Helvetica,sans-Serif\" font-size=\"14.00\">value = [2, 15]</text>\n</g>\n<!-- 18&#45;&gt;19 -->\n<g id=\"edge19\" class=\"edge\">\n<title>18&#45;&gt;19</title>\n<path fill=\"none\" stroke=\"black\" d=\"M861.63,-88.95C849.03,-79.34 835.29,-68.87 822.79,-59.34\"/>\n<polygon fill=\"black\" stroke=\"black\" points=\"824.85,-56.51 814.77,-53.24 820.6,-62.08 824.85,-56.51\"/>\n</g>\n<!-- 20 -->\n<g id=\"node21\" class=\"node\">\n<title>20</title>\n<polygon fill=\"#ecf6fc\" stroke=\"black\" points=\"960,-53 850,-53 850,0 960,0 960,-53\"/>\n<text text-anchor=\"middle\" x=\"905\" y=\"-37.8\" font-family=\"Helvetica,sans-Serif\" font-size=\"14.00\">gini = 0.499</text>\n<text text-anchor=\"middle\" x=\"905\" y=\"-22.8\" font-family=\"Helvetica,sans-Serif\" font-size=\"14.00\">samples = 59</text>\n<text text-anchor=\"middle\" x=\"905\" y=\"-7.8\" font-family=\"Helvetica,sans-Serif\" font-size=\"14.00\">value = [28, 31]</text>\n</g>\n<!-- 18&#45;&gt;20 -->\n<g id=\"edge20\" class=\"edge\">\n<title>18&#45;&gt;20</title>\n<path fill=\"none\" stroke=\"black\" d=\"M905,-88.95C905,-80.72 905,-71.85 905,-63.48\"/>\n<polygon fill=\"black\" stroke=\"black\" points=\"908.5,-63.24 905,-53.24 901.5,-63.24 908.5,-63.24\"/>\n</g>\n<!-- 22 -->\n<g id=\"node23\" class=\"node\">\n<title>22</title>\n<polygon fill=\"#f4c9aa\" stroke=\"black\" points=\"1076,-53 978,-53 978,0 1076,0 1076,-53\"/>\n<text text-anchor=\"middle\" x=\"1027\" y=\"-37.8\" font-family=\"Helvetica,sans-Serif\" font-size=\"14.00\">gini = 0.463</text>\n<text text-anchor=\"middle\" x=\"1027\" y=\"-22.8\" font-family=\"Helvetica,sans-Serif\" font-size=\"14.00\">samples = 11</text>\n<text text-anchor=\"middle\" x=\"1027\" y=\"-7.8\" font-family=\"Helvetica,sans-Serif\" font-size=\"14.00\">value = [7, 4]</text>\n</g>\n<!-- 21&#45;&gt;22 -->\n<g id=\"edge22\" class=\"edge\">\n<title>21&#45;&gt;22</title>\n<path fill=\"none\" stroke=\"black\" d=\"M1066.01,-88.95C1060.44,-80.17 1054.41,-70.66 1048.79,-61.82\"/>\n<polygon fill=\"black\" stroke=\"black\" points=\"1051.66,-59.8 1043.34,-53.24 1045.75,-63.55 1051.66,-59.8\"/>\n</g>\n<!-- 23 -->\n<g id=\"node24\" class=\"node\">\n<title>23</title>\n<polygon fill=\"#e78c4b\" stroke=\"black\" points=\"1196,-53 1094,-53 1094,0 1196,0 1196,-53\"/>\n<text text-anchor=\"middle\" x=\"1145\" y=\"-37.8\" font-family=\"Helvetica,sans-Serif\" font-size=\"14.00\">gini = 0.153</text>\n<text text-anchor=\"middle\" x=\"1145\" y=\"-22.8\" font-family=\"Helvetica,sans-Serif\" font-size=\"14.00\">samples = 12</text>\n<text text-anchor=\"middle\" x=\"1145\" y=\"-7.8\" font-family=\"Helvetica,sans-Serif\" font-size=\"14.00\">value = [11, 1]</text>\n</g>\n<!-- 21&#45;&gt;23 -->\n<g id=\"edge23\" class=\"edge\">\n<title>21&#45;&gt;23</title>\n<path fill=\"none\" stroke=\"black\" d=\"M1107.29,-88.95C1112.68,-80.17 1118.51,-70.66 1123.94,-61.82\"/>\n<polygon fill=\"black\" stroke=\"black\" points=\"1126.96,-63.59 1129.2,-53.24 1120.99,-59.93 1126.96,-63.59\"/>\n</g>\n<!-- 25 -->\n<g id=\"node26\" class=\"node\">\n<title>25</title>\n<polygon fill=\"#73baed\" stroke=\"black\" points=\"1401.5,-157 1276.5,-157 1276.5,-89 1401.5,-89 1401.5,-157\"/>\n<text text-anchor=\"middle\" x=\"1339\" y=\"-141.8\" font-family=\"Helvetica,sans-Serif\" font-size=\"14.00\">x[6] &lt;= 251.5</text>\n<text text-anchor=\"middle\" x=\"1339\" y=\"-126.8\" font-family=\"Helvetica,sans-Serif\" font-size=\"14.00\">gini = 0.349</text>\n<text text-anchor=\"middle\" x=\"1339\" y=\"-111.8\" font-family=\"Helvetica,sans-Serif\" font-size=\"14.00\">samples = 647</text>\n<text text-anchor=\"middle\" x=\"1339\" y=\"-96.8\" font-family=\"Helvetica,sans-Serif\" font-size=\"14.00\">value = [146, 501]</text>\n</g>\n<!-- 24&#45;&gt;25 -->\n<g id=\"edge25\" class=\"edge\">\n<title>24&#45;&gt;25</title>\n<path fill=\"none\" stroke=\"black\" d=\"M1339,-192.88C1339,-184.78 1339,-175.98 1339,-167.47\"/>\n<polygon fill=\"black\" stroke=\"black\" points=\"1342.5,-167.3 1339,-157.3 1335.5,-167.3 1342.5,-167.3\"/>\n</g>\n<!-- 28 -->\n<g id=\"node29\" class=\"node\">\n<title>28</title>\n<polygon fill=\"#d5eaf9\" stroke=\"black\" points=\"1595,-157 1485,-157 1485,-89 1595,-89 1595,-157\"/>\n<text text-anchor=\"middle\" x=\"1540\" y=\"-141.8\" font-family=\"Helvetica,sans-Serif\" font-size=\"14.00\">x[0] &lt;= 59.5</text>\n<text text-anchor=\"middle\" x=\"1540\" y=\"-126.8\" font-family=\"Helvetica,sans-Serif\" font-size=\"14.00\">gini = 0.493</text>\n<text text-anchor=\"middle\" x=\"1540\" y=\"-111.8\" font-family=\"Helvetica,sans-Serif\" font-size=\"14.00\">samples = 100</text>\n<text text-anchor=\"middle\" x=\"1540\" y=\"-96.8\" font-family=\"Helvetica,sans-Serif\" font-size=\"14.00\">value = [44, 56]</text>\n</g>\n<!-- 24&#45;&gt;28 -->\n<g id=\"edge28\" class=\"edge\">\n<title>24&#45;&gt;28</title>\n<path fill=\"none\" stroke=\"black\" d=\"M1401.77,-194.15C1425.36,-182.17 1452.2,-168.55 1475.92,-156.52\"/>\n<polygon fill=\"black\" stroke=\"black\" points=\"1477.5,-159.64 1484.84,-151.99 1474.34,-153.4 1477.5,-159.64\"/>\n</g>\n<!-- 26 -->\n<g id=\"node27\" class=\"node\">\n<title>26</title>\n<polygon fill=\"#89c5ef\" stroke=\"black\" points=\"1331.5,-53 1214.5,-53 1214.5,0 1331.5,0 1331.5,-53\"/>\n<text text-anchor=\"middle\" x=\"1273\" y=\"-37.8\" font-family=\"Helvetica,sans-Serif\" font-size=\"14.00\">gini = 0.41</text>\n<text text-anchor=\"middle\" x=\"1273\" y=\"-22.8\" font-family=\"Helvetica,sans-Serif\" font-size=\"14.00\">samples = 268</text>\n<text text-anchor=\"middle\" x=\"1273\" y=\"-7.8\" font-family=\"Helvetica,sans-Serif\" font-size=\"14.00\">value = [77, 191]</text>\n</g>\n<!-- 25&#45;&gt;26 -->\n<g id=\"edge26\" class=\"edge\">\n<title>25&#45;&gt;26</title>\n<path fill=\"none\" stroke=\"black\" d=\"M1315.92,-88.95C1309.72,-80.07 1303.01,-70.46 1296.77,-61.54\"/>\n<polygon fill=\"black\" stroke=\"black\" points=\"1299.57,-59.43 1290.97,-53.24 1293.83,-63.44 1299.57,-59.43\"/>\n</g>\n<!-- 27 -->\n<g id=\"node28\" class=\"node\">\n<title>27</title>\n<polygon fill=\"#65b3eb\" stroke=\"black\" points=\"1466.5,-53 1349.5,-53 1349.5,0 1466.5,0 1466.5,-53\"/>\n<text text-anchor=\"middle\" x=\"1408\" y=\"-37.8\" font-family=\"Helvetica,sans-Serif\" font-size=\"14.00\">gini = 0.298</text>\n<text text-anchor=\"middle\" x=\"1408\" y=\"-22.8\" font-family=\"Helvetica,sans-Serif\" font-size=\"14.00\">samples = 379</text>\n<text text-anchor=\"middle\" x=\"1408\" y=\"-7.8\" font-family=\"Helvetica,sans-Serif\" font-size=\"14.00\">value = [69, 310]</text>\n</g>\n<!-- 25&#45;&gt;27 -->\n<g id=\"edge27\" class=\"edge\">\n<title>25&#45;&gt;27</title>\n<path fill=\"none\" stroke=\"black\" d=\"M1363.13,-88.95C1369.61,-80.07 1376.63,-70.46 1383.15,-61.54\"/>\n<polygon fill=\"black\" stroke=\"black\" points=\"1386.14,-63.38 1389.21,-53.24 1380.48,-59.25 1386.14,-63.38\"/>\n</g>\n<!-- 29 -->\n<g id=\"node30\" class=\"node\">\n<title>29</title>\n<polygon fill=\"#f2f9fd\" stroke=\"black\" points=\"1595,-53 1485,-53 1485,0 1595,0 1595,-53\"/>\n<text text-anchor=\"middle\" x=\"1540\" y=\"-37.8\" font-family=\"Helvetica,sans-Serif\" font-size=\"14.00\">gini = 0.499</text>\n<text text-anchor=\"middle\" x=\"1540\" y=\"-22.8\" font-family=\"Helvetica,sans-Serif\" font-size=\"14.00\">samples = 91</text>\n<text text-anchor=\"middle\" x=\"1540\" y=\"-7.8\" font-family=\"Helvetica,sans-Serif\" font-size=\"14.00\">value = [44, 47]</text>\n</g>\n<!-- 28&#45;&gt;29 -->\n<g id=\"edge29\" class=\"edge\">\n<title>28&#45;&gt;29</title>\n<path fill=\"none\" stroke=\"black\" d=\"M1540,-88.95C1540,-80.72 1540,-71.85 1540,-63.48\"/>\n<polygon fill=\"black\" stroke=\"black\" points=\"1543.5,-63.24 1540,-53.24 1536.5,-63.24 1543.5,-63.24\"/>\n</g>\n<!-- 30 -->\n<g id=\"node31\" class=\"node\">\n<title>30</title>\n<polygon fill=\"#399de5\" stroke=\"black\" points=\"1708.5,-53 1613.5,-53 1613.5,0 1708.5,0 1708.5,-53\"/>\n<text text-anchor=\"middle\" x=\"1661\" y=\"-37.8\" font-family=\"Helvetica,sans-Serif\" font-size=\"14.00\">gini = 0.0</text>\n<text text-anchor=\"middle\" x=\"1661\" y=\"-22.8\" font-family=\"Helvetica,sans-Serif\" font-size=\"14.00\">samples = 9</text>\n<text text-anchor=\"middle\" x=\"1661\" y=\"-7.8\" font-family=\"Helvetica,sans-Serif\" font-size=\"14.00\">value = [0, 9]</text>\n</g>\n<!-- 28&#45;&gt;30 -->\n<g id=\"edge30\" class=\"edge\">\n<title>28&#45;&gt;30</title>\n<path fill=\"none\" stroke=\"black\" d=\"M1582.32,-88.95C1594.5,-79.43 1607.77,-69.07 1619.88,-59.62\"/>\n<polygon fill=\"black\" stroke=\"black\" points=\"1622.32,-62.15 1628.05,-53.24 1618.01,-56.63 1622.32,-62.15\"/>\n</g>\n<!-- 32 -->\n<g id=\"node33\" class=\"node\">\n<title>32</title>\n<polygon fill=\"#f6d3bb\" stroke=\"black\" points=\"2552.5,-365 2427.5,-365 2427.5,-297 2552.5,-297 2552.5,-365\"/>\n<text text-anchor=\"middle\" x=\"2490\" y=\"-349.8\" font-family=\"Helvetica,sans-Serif\" font-size=\"14.00\">x[6] &lt;= 170.5</text>\n<text text-anchor=\"middle\" x=\"2490\" y=\"-334.8\" font-family=\"Helvetica,sans-Serif\" font-size=\"14.00\">gini = 0.478</text>\n<text text-anchor=\"middle\" x=\"2490\" y=\"-319.8\" font-family=\"Helvetica,sans-Serif\" font-size=\"14.00\">samples = 1135</text>\n<text text-anchor=\"middle\" x=\"2490\" y=\"-304.8\" font-family=\"Helvetica,sans-Serif\" font-size=\"14.00\">value = [686, 449]</text>\n</g>\n<!-- 31&#45;&gt;32 -->\n<g id=\"edge32\" class=\"edge\">\n<title>31&#45;&gt;32</title>\n<path fill=\"none\" stroke=\"black\" d=\"M2768.21,-412.62C2707.67,-395.08 2622.45,-370.38 2562.32,-352.96\"/>\n<polygon fill=\"black\" stroke=\"black\" points=\"2563.1,-349.54 2552.52,-350.12 2561.15,-356.26 2563.1,-349.54\"/>\n</g>\n<!-- 47 -->\n<g id=\"node48\" class=\"node\">\n<title>47</title>\n<polygon fill=\"#e68742\" stroke=\"black\" points=\"3112.5,-365 2965.5,-365 2965.5,-297 3112.5,-297 3112.5,-365\"/>\n<text text-anchor=\"middle\" x=\"3039\" y=\"-349.8\" font-family=\"Helvetica,sans-Serif\" font-size=\"14.00\">x[6] &lt;= 225.5</text>\n<text text-anchor=\"middle\" x=\"3039\" y=\"-334.8\" font-family=\"Helvetica,sans-Serif\" font-size=\"14.00\">gini = 0.087</text>\n<text text-anchor=\"middle\" x=\"3039\" y=\"-319.8\" font-family=\"Helvetica,sans-Serif\" font-size=\"14.00\">samples = 30017</text>\n<text text-anchor=\"middle\" x=\"3039\" y=\"-304.8\" font-family=\"Helvetica,sans-Serif\" font-size=\"14.00\">value = [28649, 1368]</text>\n</g>\n<!-- 31&#45;&gt;47 -->\n<g id=\"edge47\" class=\"edge\">\n<title>31&#45;&gt;47</title>\n<path fill=\"none\" stroke=\"black\" d=\"M2905.96,-400.88C2925.15,-390.95 2946.35,-379.97 2966.08,-369.76\"/>\n<polygon fill=\"black\" stroke=\"black\" points=\"2967.75,-372.83 2975.02,-365.12 2964.53,-366.61 2967.75,-372.83\"/>\n</g>\n<!-- 33 -->\n<g id=\"node34\" class=\"node\">\n<title>33</title>\n<polygon fill=\"#eca26d\" stroke=\"black\" points=\"2167.5,-261 2042.5,-261 2042.5,-193 2167.5,-193 2167.5,-261\"/>\n<text text-anchor=\"middle\" x=\"2105\" y=\"-245.8\" font-family=\"Helvetica,sans-Serif\" font-size=\"14.00\">x[6] &lt;= 94.5</text>\n<text text-anchor=\"middle\" x=\"2105\" y=\"-230.8\" font-family=\"Helvetica,sans-Serif\" font-size=\"14.00\">gini = 0.331</text>\n<text text-anchor=\"middle\" x=\"2105\" y=\"-215.8\" font-family=\"Helvetica,sans-Serif\" font-size=\"14.00\">samples = 544</text>\n<text text-anchor=\"middle\" x=\"2105\" y=\"-200.8\" font-family=\"Helvetica,sans-Serif\" font-size=\"14.00\">value = [430, 114]</text>\n</g>\n<!-- 32&#45;&gt;33 -->\n<g id=\"edge33\" class=\"edge\">\n<title>32&#45;&gt;33</title>\n<path fill=\"none\" stroke=\"black\" d=\"M2427.29,-313.38C2358.91,-295.27 2249.64,-266.32 2177.6,-247.23\"/>\n<polygon fill=\"black\" stroke=\"black\" points=\"2178.25,-243.79 2167.69,-244.61 2176.46,-250.55 2178.25,-243.79\"/>\n</g>\n<!-- 40 -->\n<g id=\"node41\" class=\"node\">\n<title>40</title>\n<polygon fill=\"#d0e8f9\" stroke=\"black\" points=\"2552.5,-261 2427.5,-261 2427.5,-193 2552.5,-193 2552.5,-261\"/>\n<text text-anchor=\"middle\" x=\"2490\" y=\"-245.8\" font-family=\"Helvetica,sans-Serif\" font-size=\"14.00\">x[6] &lt;= 277.5</text>\n<text text-anchor=\"middle\" x=\"2490\" y=\"-230.8\" font-family=\"Helvetica,sans-Serif\" font-size=\"14.00\">gini = 0.491</text>\n<text text-anchor=\"middle\" x=\"2490\" y=\"-215.8\" font-family=\"Helvetica,sans-Serif\" font-size=\"14.00\">samples = 591</text>\n<text text-anchor=\"middle\" x=\"2490\" y=\"-200.8\" font-family=\"Helvetica,sans-Serif\" font-size=\"14.00\">value = [256, 335]</text>\n</g>\n<!-- 32&#45;&gt;40 -->\n<g id=\"edge40\" class=\"edge\">\n<title>32&#45;&gt;40</title>\n<path fill=\"none\" stroke=\"black\" d=\"M2490,-296.88C2490,-288.78 2490,-279.98 2490,-271.47\"/>\n<polygon fill=\"black\" stroke=\"black\" points=\"2493.5,-271.3 2490,-261.3 2486.5,-271.3 2493.5,-271.3\"/>\n</g>\n<!-- 34 -->\n<g id=\"node35\" class=\"node\">\n<title>34</title>\n<polygon fill=\"#e68843\" stroke=\"black\" points=\"1964.5,-157 1847.5,-157 1847.5,-89 1964.5,-89 1964.5,-157\"/>\n<text text-anchor=\"middle\" x=\"1906\" y=\"-141.8\" font-family=\"Helvetica,sans-Serif\" font-size=\"14.00\">x[6] &lt;= 78.5</text>\n<text text-anchor=\"middle\" x=\"1906\" y=\"-126.8\" font-family=\"Helvetica,sans-Serif\" font-size=\"14.00\">gini = 0.094</text>\n<text text-anchor=\"middle\" x=\"1906\" y=\"-111.8\" font-family=\"Helvetica,sans-Serif\" font-size=\"14.00\">samples = 203</text>\n<text text-anchor=\"middle\" x=\"1906\" y=\"-96.8\" font-family=\"Helvetica,sans-Serif\" font-size=\"14.00\">value = [193, 10]</text>\n</g>\n<!-- 33&#45;&gt;34 -->\n<g id=\"edge34\" class=\"edge\">\n<title>33&#45;&gt;34</title>\n<path fill=\"none\" stroke=\"black\" d=\"M2042.31,-193.87C2020.48,-182.68 1995.9,-170.08 1973.68,-158.69\"/>\n<polygon fill=\"black\" stroke=\"black\" points=\"1975.15,-155.51 1964.65,-154.06 1971.95,-161.74 1975.15,-155.51\"/>\n</g>\n<!-- 37 -->\n<g id=\"node38\" class=\"node\">\n<title>37</title>\n<polygon fill=\"#f0b890\" stroke=\"black\" points=\"2167.5,-157 2042.5,-157 2042.5,-89 2167.5,-89 2167.5,-157\"/>\n<text text-anchor=\"middle\" x=\"2105\" y=\"-141.8\" font-family=\"Helvetica,sans-Serif\" font-size=\"14.00\">x[4] &lt;= 20.5</text>\n<text text-anchor=\"middle\" x=\"2105\" y=\"-126.8\" font-family=\"Helvetica,sans-Serif\" font-size=\"14.00\">gini = 0.424</text>\n<text text-anchor=\"middle\" x=\"2105\" y=\"-111.8\" font-family=\"Helvetica,sans-Serif\" font-size=\"14.00\">samples = 341</text>\n<text text-anchor=\"middle\" x=\"2105\" y=\"-96.8\" font-family=\"Helvetica,sans-Serif\" font-size=\"14.00\">value = [237, 104]</text>\n</g>\n<!-- 33&#45;&gt;37 -->\n<g id=\"edge37\" class=\"edge\">\n<title>33&#45;&gt;37</title>\n<path fill=\"none\" stroke=\"black\" d=\"M2105,-192.88C2105,-184.78 2105,-175.98 2105,-167.47\"/>\n<polygon fill=\"black\" stroke=\"black\" points=\"2108.5,-167.3 2105,-157.3 2101.5,-167.3 2108.5,-167.3\"/>\n</g>\n<!-- 35 -->\n<g id=\"node36\" class=\"node\">\n<title>35</title>\n<polygon fill=\"#e5833c\" stroke=\"black\" points=\"1837,-53 1727,-53 1727,0 1837,0 1837,-53\"/>\n<text text-anchor=\"middle\" x=\"1782\" y=\"-37.8\" font-family=\"Helvetica,sans-Serif\" font-size=\"14.00\">gini = 0.031</text>\n<text text-anchor=\"middle\" x=\"1782\" y=\"-22.8\" font-family=\"Helvetica,sans-Serif\" font-size=\"14.00\">samples = 129</text>\n<text text-anchor=\"middle\" x=\"1782\" y=\"-7.8\" font-family=\"Helvetica,sans-Serif\" font-size=\"14.00\">value = [127, 2]</text>\n</g>\n<!-- 34&#45;&gt;35 -->\n<g id=\"edge35\" class=\"edge\">\n<title>34&#45;&gt;35</title>\n<path fill=\"none\" stroke=\"black\" d=\"M1862.63,-88.95C1850.03,-79.34 1836.29,-68.87 1823.79,-59.34\"/>\n<polygon fill=\"black\" stroke=\"black\" points=\"1825.85,-56.51 1815.77,-53.24 1821.6,-62.08 1825.85,-56.51\"/>\n</g>\n<!-- 36 -->\n<g id=\"node37\" class=\"node\">\n<title>36</title>\n<polygon fill=\"#e89051\" stroke=\"black\" points=\"1957,-53 1855,-53 1855,0 1957,0 1957,-53\"/>\n<text text-anchor=\"middle\" x=\"1906\" y=\"-37.8\" font-family=\"Helvetica,sans-Serif\" font-size=\"14.00\">gini = 0.193</text>\n<text text-anchor=\"middle\" x=\"1906\" y=\"-22.8\" font-family=\"Helvetica,sans-Serif\" font-size=\"14.00\">samples = 74</text>\n<text text-anchor=\"middle\" x=\"1906\" y=\"-7.8\" font-family=\"Helvetica,sans-Serif\" font-size=\"14.00\">value = [66, 8]</text>\n</g>\n<!-- 34&#45;&gt;36 -->\n<g id=\"edge36\" class=\"edge\">\n<title>34&#45;&gt;36</title>\n<path fill=\"none\" stroke=\"black\" d=\"M1906,-88.95C1906,-80.72 1906,-71.85 1906,-63.48\"/>\n<polygon fill=\"black\" stroke=\"black\" points=\"1909.5,-63.24 1906,-53.24 1902.5,-63.24 1909.5,-63.24\"/>\n</g>\n<!-- 38 -->\n<g id=\"node39\" class=\"node\">\n<title>38</title>\n<polygon fill=\"#eda877\" stroke=\"black\" points=\"2092.5,-53 1975.5,-53 1975.5,0 2092.5,0 2092.5,-53\"/>\n<text text-anchor=\"middle\" x=\"2034\" y=\"-37.8\" font-family=\"Helvetica,sans-Serif\" font-size=\"14.00\">gini = 0.362</text>\n<text text-anchor=\"middle\" x=\"2034\" y=\"-22.8\" font-family=\"Helvetica,sans-Serif\" font-size=\"14.00\">samples = 232</text>\n<text text-anchor=\"middle\" x=\"2034\" y=\"-7.8\" font-family=\"Helvetica,sans-Serif\" font-size=\"14.00\">value = [177, 55]</text>\n</g>\n<!-- 37&#45;&gt;38 -->\n<g id=\"edge38\" class=\"edge\">\n<title>37&#45;&gt;38</title>\n<path fill=\"none\" stroke=\"black\" d=\"M2080.17,-88.95C2073.43,-79.98 2066.13,-70.27 2059.37,-61.26\"/>\n<polygon fill=\"black\" stroke=\"black\" points=\"2062.14,-59.13 2053.34,-53.24 2056.55,-63.33 2062.14,-59.13\"/>\n</g>\n<!-- 39 -->\n<g id=\"node40\" class=\"node\">\n<title>39</title>\n<polygon fill=\"#fae8db\" stroke=\"black\" points=\"2221,-53 2111,-53 2111,0 2221,0 2221,-53\"/>\n<text text-anchor=\"middle\" x=\"2166\" y=\"-37.8\" font-family=\"Helvetica,sans-Serif\" font-size=\"14.00\">gini = 0.495</text>\n<text text-anchor=\"middle\" x=\"2166\" y=\"-22.8\" font-family=\"Helvetica,sans-Serif\" font-size=\"14.00\">samples = 109</text>\n<text text-anchor=\"middle\" x=\"2166\" y=\"-7.8\" font-family=\"Helvetica,sans-Serif\" font-size=\"14.00\">value = [60, 49]</text>\n</g>\n<!-- 37&#45;&gt;39 -->\n<g id=\"edge39\" class=\"edge\">\n<title>37&#45;&gt;39</title>\n<path fill=\"none\" stroke=\"black\" d=\"M2126.33,-88.95C2132,-80.17 2138.14,-70.66 2143.85,-61.82\"/>\n<polygon fill=\"black\" stroke=\"black\" points=\"2146.9,-63.54 2149.39,-53.24 2141.02,-59.74 2146.9,-63.54\"/>\n</g>\n<!-- 41 -->\n<g id=\"node42\" class=\"node\">\n<title>41</title>\n<polygon fill=\"#fef8f5\" stroke=\"black\" points=\"2481.5,-157 2356.5,-157 2356.5,-89 2481.5,-89 2481.5,-157\"/>\n<text text-anchor=\"middle\" x=\"2419\" y=\"-141.8\" font-family=\"Helvetica,sans-Serif\" font-size=\"14.00\">x[3] &lt;= 5.0</text>\n<text text-anchor=\"middle\" x=\"2419\" y=\"-126.8\" font-family=\"Helvetica,sans-Serif\" font-size=\"14.00\">gini = 0.5</text>\n<text text-anchor=\"middle\" x=\"2419\" y=\"-111.8\" font-family=\"Helvetica,sans-Serif\" font-size=\"14.00\">samples = 302</text>\n<text text-anchor=\"middle\" x=\"2419\" y=\"-96.8\" font-family=\"Helvetica,sans-Serif\" font-size=\"14.00\">value = [155, 147]</text>\n</g>\n<!-- 40&#45;&gt;41 -->\n<g id=\"edge41\" class=\"edge\">\n<title>40&#45;&gt;41</title>\n<path fill=\"none\" stroke=\"black\" d=\"M2466.95,-192.88C2460.87,-184.15 2454.24,-174.62 2447.9,-165.51\"/>\n<polygon fill=\"black\" stroke=\"black\" points=\"2450.76,-163.51 2442.18,-157.3 2445.02,-167.51 2450.76,-163.51\"/>\n</g>\n<!-- 44 -->\n<g id=\"node45\" class=\"node\">\n<title>44</title>\n<polygon fill=\"#a3d2f3\" stroke=\"black\" points=\"2624.5,-157 2499.5,-157 2499.5,-89 2624.5,-89 2624.5,-157\"/>\n<text text-anchor=\"middle\" x=\"2562\" y=\"-141.8\" font-family=\"Helvetica,sans-Serif\" font-size=\"14.00\">x[4] &lt;= 1.5</text>\n<text text-anchor=\"middle\" x=\"2562\" y=\"-126.8\" font-family=\"Helvetica,sans-Serif\" font-size=\"14.00\">gini = 0.455</text>\n<text text-anchor=\"middle\" x=\"2562\" y=\"-111.8\" font-family=\"Helvetica,sans-Serif\" font-size=\"14.00\">samples = 289</text>\n<text text-anchor=\"middle\" x=\"2562\" y=\"-96.8\" font-family=\"Helvetica,sans-Serif\" font-size=\"14.00\">value = [101, 188]</text>\n</g>\n<!-- 40&#45;&gt;44 -->\n<g id=\"edge44\" class=\"edge\">\n<title>40&#45;&gt;44</title>\n<path fill=\"none\" stroke=\"black\" d=\"M2513.38,-192.88C2519.54,-184.15 2526.26,-174.62 2532.7,-165.51\"/>\n<polygon fill=\"black\" stroke=\"black\" points=\"2535.59,-167.49 2538.49,-157.3 2529.87,-163.45 2535.59,-167.49\"/>\n</g>\n<!-- 42 -->\n<g id=\"node43\" class=\"node\">\n<title>42</title>\n<polygon fill=\"#f8dcc7\" stroke=\"black\" points=\"2356.5,-53 2239.5,-53 2239.5,0 2356.5,0 2356.5,-53\"/>\n<text text-anchor=\"middle\" x=\"2298\" y=\"-37.8\" font-family=\"Helvetica,sans-Serif\" font-size=\"14.00\">gini = 0.487</text>\n<text text-anchor=\"middle\" x=\"2298\" y=\"-22.8\" font-family=\"Helvetica,sans-Serif\" font-size=\"14.00\">samples = 177</text>\n<text text-anchor=\"middle\" x=\"2298\" y=\"-7.8\" font-family=\"Helvetica,sans-Serif\" font-size=\"14.00\">value = [103, 74]</text>\n</g>\n<!-- 41&#45;&gt;42 -->\n<g id=\"edge42\" class=\"edge\">\n<title>41&#45;&gt;42</title>\n<path fill=\"none\" stroke=\"black\" d=\"M2376.68,-88.95C2364.5,-79.43 2351.23,-69.07 2339.12,-59.62\"/>\n<polygon fill=\"black\" stroke=\"black\" points=\"2340.99,-56.63 2330.95,-53.24 2336.68,-62.15 2340.99,-56.63\"/>\n</g>\n<!-- 43 -->\n<g id=\"node44\" class=\"node\">\n<title>43</title>\n<polygon fill=\"#c6e3f8\" stroke=\"black\" points=\"2485,-53 2375,-53 2375,0 2485,0 2485,-53\"/>\n<text text-anchor=\"middle\" x=\"2430\" y=\"-37.8\" font-family=\"Helvetica,sans-Serif\" font-size=\"14.00\">gini = 0.486</text>\n<text text-anchor=\"middle\" x=\"2430\" y=\"-22.8\" font-family=\"Helvetica,sans-Serif\" font-size=\"14.00\">samples = 125</text>\n<text text-anchor=\"middle\" x=\"2430\" y=\"-7.8\" font-family=\"Helvetica,sans-Serif\" font-size=\"14.00\">value = [52, 73]</text>\n</g>\n<!-- 41&#45;&gt;43 -->\n<g id=\"edge43\" class=\"edge\">\n<title>41&#45;&gt;43</title>\n<path fill=\"none\" stroke=\"black\" d=\"M2422.85,-88.95C2423.82,-80.62 2424.86,-71.65 2425.84,-63.2\"/>\n<polygon fill=\"black\" stroke=\"black\" points=\"2429.32,-63.57 2427,-53.24 2422.37,-62.76 2429.32,-63.57\"/>\n</g>\n<!-- 45 -->\n<g id=\"node46\" class=\"node\">\n<title>45</title>\n<polygon fill=\"#f2c09c\" stroke=\"black\" points=\"2601,-53 2503,-53 2503,0 2601,0 2601,-53\"/>\n<text text-anchor=\"middle\" x=\"2552\" y=\"-37.8\" font-family=\"Helvetica,sans-Serif\" font-size=\"14.00\">gini = 0.444</text>\n<text text-anchor=\"middle\" x=\"2552\" y=\"-22.8\" font-family=\"Helvetica,sans-Serif\" font-size=\"14.00\">samples = 12</text>\n<text text-anchor=\"middle\" x=\"2552\" y=\"-7.8\" font-family=\"Helvetica,sans-Serif\" font-size=\"14.00\">value = [8, 4]</text>\n</g>\n<!-- 44&#45;&gt;45 -->\n<g id=\"edge45\" class=\"edge\">\n<title>44&#45;&gt;45</title>\n<path fill=\"none\" stroke=\"black\" d=\"M2558.5,-88.95C2557.62,-80.62 2556.67,-71.65 2555.78,-63.2\"/>\n<polygon fill=\"black\" stroke=\"black\" points=\"2559.26,-62.81 2554.72,-53.24 2552.3,-63.55 2559.26,-62.81\"/>\n</g>\n<!-- 46 -->\n<g id=\"node47\" class=\"node\">\n<title>46</title>\n<polygon fill=\"#9dcff2\" stroke=\"black\" points=\"2736.5,-53 2619.5,-53 2619.5,0 2736.5,0 2736.5,-53\"/>\n<text text-anchor=\"middle\" x=\"2678\" y=\"-37.8\" font-family=\"Helvetica,sans-Serif\" font-size=\"14.00\">gini = 0.446</text>\n<text text-anchor=\"middle\" x=\"2678\" y=\"-22.8\" font-family=\"Helvetica,sans-Serif\" font-size=\"14.00\">samples = 277</text>\n<text text-anchor=\"middle\" x=\"2678\" y=\"-7.8\" font-family=\"Helvetica,sans-Serif\" font-size=\"14.00\">value = [93, 184]</text>\n</g>\n<!-- 44&#45;&gt;46 -->\n<g id=\"edge46\" class=\"edge\">\n<title>44&#45;&gt;46</title>\n<path fill=\"none\" stroke=\"black\" d=\"M2602.57,-88.95C2614.25,-79.43 2626.97,-69.07 2638.58,-59.62\"/>\n<polygon fill=\"black\" stroke=\"black\" points=\"2640.87,-62.27 2646.41,-53.24 2636.44,-56.84 2640.87,-62.27\"/>\n</g>\n<!-- 48 -->\n<g id=\"node49\" class=\"node\">\n<title>48</title>\n<polygon fill=\"#e6843d\" stroke=\"black\" points=\"3109,-261 2969,-261 2969,-193 3109,-193 3109,-261\"/>\n<text text-anchor=\"middle\" x=\"3039\" y=\"-245.8\" font-family=\"Helvetica,sans-Serif\" font-size=\"14.00\">x[5] &lt;= 9.0</text>\n<text text-anchor=\"middle\" x=\"3039\" y=\"-230.8\" font-family=\"Helvetica,sans-Serif\" font-size=\"14.00\">gini = 0.043</text>\n<text text-anchor=\"middle\" x=\"3039\" y=\"-215.8\" font-family=\"Helvetica,sans-Serif\" font-size=\"14.00\">samples = 20735</text>\n<text text-anchor=\"middle\" x=\"3039\" y=\"-200.8\" font-family=\"Helvetica,sans-Serif\" font-size=\"14.00\">value = [20275, 460]</text>\n</g>\n<!-- 47&#45;&gt;48 -->\n<g id=\"edge48\" class=\"edge\">\n<title>47&#45;&gt;48</title>\n<path fill=\"none\" stroke=\"black\" d=\"M3039,-296.88C3039,-288.78 3039,-279.98 3039,-271.47\"/>\n<polygon fill=\"black\" stroke=\"black\" points=\"3042.5,-271.3 3039,-261.3 3035.5,-271.3 3042.5,-271.3\"/>\n</g>\n<!-- 55 -->\n<g id=\"node56\" class=\"node\">\n<title>55</title>\n<polygon fill=\"#e88f4e\" stroke=\"black\" points=\"3548,-261 3416,-261 3416,-193 3548,-193 3548,-261\"/>\n<text text-anchor=\"middle\" x=\"3482\" y=\"-245.8\" font-family=\"Helvetica,sans-Serif\" font-size=\"14.00\">x[0] &lt;= 60.5</text>\n<text text-anchor=\"middle\" x=\"3482\" y=\"-230.8\" font-family=\"Helvetica,sans-Serif\" font-size=\"14.00\">gini = 0.177</text>\n<text text-anchor=\"middle\" x=\"3482\" y=\"-215.8\" font-family=\"Helvetica,sans-Serif\" font-size=\"14.00\">samples = 9282</text>\n<text text-anchor=\"middle\" x=\"3482\" y=\"-200.8\" font-family=\"Helvetica,sans-Serif\" font-size=\"14.00\">value = [8374, 908]</text>\n</g>\n<!-- 47&#45;&gt;55 -->\n<g id=\"edge55\" class=\"edge\">\n<title>47&#45;&gt;55</title>\n<path fill=\"none\" stroke=\"black\" d=\"M3112.65,-313.04C3193.86,-294.34 3323.87,-264.41 3406.01,-245.5\"/>\n<polygon fill=\"black\" stroke=\"black\" points=\"3406.82,-248.9 3415.78,-243.25 3405.25,-242.08 3406.82,-248.9\"/>\n</g>\n<!-- 49 -->\n<g id=\"node50\" class=\"node\">\n<title>49</title>\n<polygon fill=\"#e78b48\" stroke=\"black\" points=\"3028,-157 2896,-157 2896,-89 3028,-89 3028,-157\"/>\n<text text-anchor=\"middle\" x=\"2962\" y=\"-141.8\" font-family=\"Helvetica,sans-Serif\" font-size=\"14.00\">x[6] &lt;= 103.5</text>\n<text text-anchor=\"middle\" x=\"2962\" y=\"-126.8\" font-family=\"Helvetica,sans-Serif\" font-size=\"14.00\">gini = 0.132</text>\n<text text-anchor=\"middle\" x=\"2962\" y=\"-111.8\" font-family=\"Helvetica,sans-Serif\" font-size=\"14.00\">samples = 3062</text>\n<text text-anchor=\"middle\" x=\"2962\" y=\"-96.8\" font-family=\"Helvetica,sans-Serif\" font-size=\"14.00\">value = [2845, 217]</text>\n</g>\n<!-- 48&#45;&gt;49 -->\n<g id=\"edge49\" class=\"edge\">\n<title>48&#45;&gt;49</title>\n<path fill=\"none\" stroke=\"black\" d=\"M3014,-192.88C3007.41,-184.15 3000.22,-174.62 2993.34,-165.51\"/>\n<polygon fill=\"black\" stroke=\"black\" points=\"2995.96,-163.17 2987.14,-157.3 2990.37,-167.39 2995.96,-163.17\"/>\n</g>\n<!-- 52 -->\n<g id=\"node53\" class=\"node\">\n<title>52</title>\n<polygon fill=\"#e5833c\" stroke=\"black\" points=\"3186,-157 3046,-157 3046,-89 3186,-89 3186,-157\"/>\n<text text-anchor=\"middle\" x=\"3116\" y=\"-141.8\" font-family=\"Helvetica,sans-Serif\" font-size=\"14.00\">x[6] &lt;= 159.5</text>\n<text text-anchor=\"middle\" x=\"3116\" y=\"-126.8\" font-family=\"Helvetica,sans-Serif\" font-size=\"14.00\">gini = 0.027</text>\n<text text-anchor=\"middle\" x=\"3116\" y=\"-111.8\" font-family=\"Helvetica,sans-Serif\" font-size=\"14.00\">samples = 17673</text>\n<text text-anchor=\"middle\" x=\"3116\" y=\"-96.8\" font-family=\"Helvetica,sans-Serif\" font-size=\"14.00\">value = [17430, 243]</text>\n</g>\n<!-- 48&#45;&gt;52 -->\n<g id=\"edge52\" class=\"edge\">\n<title>48&#45;&gt;52</title>\n<path fill=\"none\" stroke=\"black\" d=\"M3064,-192.88C3070.59,-184.15 3077.78,-174.62 3084.66,-165.51\"/>\n<polygon fill=\"black\" stroke=\"black\" points=\"3087.63,-167.39 3090.86,-157.3 3082.04,-163.17 3087.63,-167.39\"/>\n</g>\n<!-- 50 -->\n<g id=\"node51\" class=\"node\">\n<title>50</title>\n<polygon fill=\"#e6843d\" stroke=\"black\" points=\"2879.5,-53 2754.5,-53 2754.5,0 2879.5,0 2879.5,-53\"/>\n<text text-anchor=\"middle\" x=\"2817\" y=\"-37.8\" font-family=\"Helvetica,sans-Serif\" font-size=\"14.00\">gini = 0.042</text>\n<text text-anchor=\"middle\" x=\"2817\" y=\"-22.8\" font-family=\"Helvetica,sans-Serif\" font-size=\"14.00\">samples = 1207</text>\n<text text-anchor=\"middle\" x=\"2817\" y=\"-7.8\" font-family=\"Helvetica,sans-Serif\" font-size=\"14.00\">value = [1181, 26]</text>\n</g>\n<!-- 49&#45;&gt;50 -->\n<g id=\"edge50\" class=\"edge\">\n<title>49&#45;&gt;50</title>\n<path fill=\"none\" stroke=\"black\" d=\"M2911.29,-88.95C2896.27,-79.16 2879.87,-68.48 2865.03,-58.8\"/>\n<polygon fill=\"black\" stroke=\"black\" points=\"2866.78,-55.76 2856.49,-53.24 2862.96,-61.63 2866.78,-55.76\"/>\n</g>\n<!-- 51 -->\n<g id=\"node52\" class=\"node\">\n<title>51</title>\n<polygon fill=\"#e88f50\" stroke=\"black\" points=\"3030,-53 2898,-53 2898,0 3030,0 3030,-53\"/>\n<text text-anchor=\"middle\" x=\"2964\" y=\"-37.8\" font-family=\"Helvetica,sans-Serif\" font-size=\"14.00\">gini = 0.185</text>\n<text text-anchor=\"middle\" x=\"2964\" y=\"-22.8\" font-family=\"Helvetica,sans-Serif\" font-size=\"14.00\">samples = 1855</text>\n<text text-anchor=\"middle\" x=\"2964\" y=\"-7.8\" font-family=\"Helvetica,sans-Serif\" font-size=\"14.00\">value = [1664, 191]</text>\n</g>\n<!-- 49&#45;&gt;51 -->\n<g id=\"edge51\" class=\"edge\">\n<title>49&#45;&gt;51</title>\n<path fill=\"none\" stroke=\"black\" d=\"M2962.7,-88.95C2962.87,-80.72 2963.06,-71.85 2963.24,-63.48\"/>\n<polygon fill=\"black\" stroke=\"black\" points=\"2966.74,-63.31 2963.46,-53.24 2959.74,-63.16 2966.74,-63.31\"/>\n</g>\n<!-- 53 -->\n<g id=\"node54\" class=\"node\">\n<title>53</title>\n<polygon fill=\"#e5823a\" stroke=\"black\" points=\"3180,-53 3048,-53 3048,0 3180,0 3180,-53\"/>\n<text text-anchor=\"middle\" x=\"3114\" y=\"-37.8\" font-family=\"Helvetica,sans-Serif\" font-size=\"14.00\">gini = 0.014</text>\n<text text-anchor=\"middle\" x=\"3114\" y=\"-22.8\" font-family=\"Helvetica,sans-Serif\" font-size=\"14.00\">samples = 13032</text>\n<text text-anchor=\"middle\" x=\"3114\" y=\"-7.8\" font-family=\"Helvetica,sans-Serif\" font-size=\"14.00\">value = [12940, 92]</text>\n</g>\n<!-- 52&#45;&gt;53 -->\n<g id=\"edge53\" class=\"edge\">\n<title>52&#45;&gt;53</title>\n<path fill=\"none\" stroke=\"black\" d=\"M3115.3,-88.95C3115.13,-80.72 3114.94,-71.85 3114.76,-63.48\"/>\n<polygon fill=\"black\" stroke=\"black\" points=\"3118.26,-63.16 3114.54,-53.24 3111.26,-63.31 3118.26,-63.16\"/>\n</g>\n<!-- 54 -->\n<g id=\"node55\" class=\"node\">\n<title>54</title>\n<polygon fill=\"#e68540\" stroke=\"black\" points=\"3330,-53 3198,-53 3198,0 3330,0 3330,-53\"/>\n<text text-anchor=\"middle\" x=\"3264\" y=\"-37.8\" font-family=\"Helvetica,sans-Serif\" font-size=\"14.00\">gini = 0.063</text>\n<text text-anchor=\"middle\" x=\"3264\" y=\"-22.8\" font-family=\"Helvetica,sans-Serif\" font-size=\"14.00\">samples = 4641</text>\n<text text-anchor=\"middle\" x=\"3264\" y=\"-7.8\" font-family=\"Helvetica,sans-Serif\" font-size=\"14.00\">value = [4490, 151]</text>\n</g>\n<!-- 52&#45;&gt;54 -->\n<g id=\"edge54\" class=\"edge\">\n<title>52&#45;&gt;54</title>\n<path fill=\"none\" stroke=\"black\" d=\"M3167.76,-88.95C3183.09,-79.16 3199.83,-68.48 3214.98,-58.8\"/>\n<polygon fill=\"black\" stroke=\"black\" points=\"3217.15,-61.57 3223.69,-53.24 3213.38,-55.67 3217.15,-61.57\"/>\n</g>\n<!-- 56 -->\n<g id=\"node57\" class=\"node\">\n<title>56</title>\n<polygon fill=\"#e88d4c\" stroke=\"black\" points=\"3548,-157 3416,-157 3416,-89 3548,-89 3548,-157\"/>\n<text text-anchor=\"middle\" x=\"3482\" y=\"-141.8\" font-family=\"Helvetica,sans-Serif\" font-size=\"14.00\">x[11] &lt;= 0.5</text>\n<text text-anchor=\"middle\" x=\"3482\" y=\"-126.8\" font-family=\"Helvetica,sans-Serif\" font-size=\"14.00\">gini = 0.162</text>\n<text text-anchor=\"middle\" x=\"3482\" y=\"-111.8\" font-family=\"Helvetica,sans-Serif\" font-size=\"14.00\">samples = 9074</text>\n<text text-anchor=\"middle\" x=\"3482\" y=\"-96.8\" font-family=\"Helvetica,sans-Serif\" font-size=\"14.00\">value = [8270, 804]</text>\n</g>\n<!-- 55&#45;&gt;56 -->\n<g id=\"edge56\" class=\"edge\">\n<title>55&#45;&gt;56</title>\n<path fill=\"none\" stroke=\"black\" d=\"M3482,-192.88C3482,-184.78 3482,-175.98 3482,-167.47\"/>\n<polygon fill=\"black\" stroke=\"black\" points=\"3485.5,-167.3 3482,-157.3 3478.5,-167.3 3485.5,-167.3\"/>\n</g>\n<!-- 59 -->\n<g id=\"node60\" class=\"node\">\n<title>59</title>\n<polygon fill=\"#ffffff\" stroke=\"black\" points=\"3759.5,-157 3634.5,-157 3634.5,-89 3759.5,-89 3759.5,-157\"/>\n<text text-anchor=\"middle\" x=\"3697\" y=\"-141.8\" font-family=\"Helvetica,sans-Serif\" font-size=\"14.00\">x[6] &lt;= 362.5</text>\n<text text-anchor=\"middle\" x=\"3697\" y=\"-126.8\" font-family=\"Helvetica,sans-Serif\" font-size=\"14.00\">gini = 0.5</text>\n<text text-anchor=\"middle\" x=\"3697\" y=\"-111.8\" font-family=\"Helvetica,sans-Serif\" font-size=\"14.00\">samples = 208</text>\n<text text-anchor=\"middle\" x=\"3697\" y=\"-96.8\" font-family=\"Helvetica,sans-Serif\" font-size=\"14.00\">value = [104, 104]</text>\n</g>\n<!-- 55&#45;&gt;59 -->\n<g id=\"edge59\" class=\"edge\">\n<title>55&#45;&gt;59</title>\n<path fill=\"none\" stroke=\"black\" d=\"M3548.26,-194.56C3572.55,-183.04 3600.15,-169.95 3624.92,-158.2\"/>\n<polygon fill=\"black\" stroke=\"black\" points=\"3626.73,-161.21 3634.26,-153.76 3623.73,-154.89 3626.73,-161.21\"/>\n</g>\n<!-- 57 -->\n<g id=\"node58\" class=\"node\">\n<title>57</title>\n<polygon fill=\"#e99355\" stroke=\"black\" points=\"3480,-53 3348,-53 3348,0 3480,0 3480,-53\"/>\n<text text-anchor=\"middle\" x=\"3414\" y=\"-37.8\" font-family=\"Helvetica,sans-Serif\" font-size=\"14.00\">gini = 0.216</text>\n<text text-anchor=\"middle\" x=\"3414\" y=\"-22.8\" font-family=\"Helvetica,sans-Serif\" font-size=\"14.00\">samples = 6169</text>\n<text text-anchor=\"middle\" x=\"3414\" y=\"-7.8\" font-family=\"Helvetica,sans-Serif\" font-size=\"14.00\">value = [5409, 760]</text>\n</g>\n<!-- 56&#45;&gt;57 -->\n<g id=\"edge57\" class=\"edge\">\n<title>56&#45;&gt;57</title>\n<path fill=\"none\" stroke=\"black\" d=\"M3458.22,-88.95C3451.83,-80.07 3444.92,-70.46 3438.49,-61.54\"/>\n<polygon fill=\"black\" stroke=\"black\" points=\"3441.2,-59.31 3432.52,-53.24 3435.52,-63.4 3441.2,-59.31\"/>\n</g>\n<!-- 58 -->\n<g id=\"node59\" class=\"node\">\n<title>58</title>\n<polygon fill=\"#e5833c\" stroke=\"black\" points=\"3623.5,-53 3498.5,-53 3498.5,0 3623.5,0 3623.5,-53\"/>\n<text text-anchor=\"middle\" x=\"3561\" y=\"-37.8\" font-family=\"Helvetica,sans-Serif\" font-size=\"14.00\">gini = 0.03</text>\n<text text-anchor=\"middle\" x=\"3561\" y=\"-22.8\" font-family=\"Helvetica,sans-Serif\" font-size=\"14.00\">samples = 2905</text>\n<text text-anchor=\"middle\" x=\"3561\" y=\"-7.8\" font-family=\"Helvetica,sans-Serif\" font-size=\"14.00\">value = [2861, 44]</text>\n</g>\n<!-- 56&#45;&gt;58 -->\n<g id=\"edge58\" class=\"edge\">\n<title>56&#45;&gt;58</title>\n<path fill=\"none\" stroke=\"black\" d=\"M3509.63,-88.95C3517.2,-79.89 3525.41,-70.07 3533.01,-60.99\"/>\n<polygon fill=\"black\" stroke=\"black\" points=\"3535.76,-63.15 3539.48,-53.24 3530.39,-58.66 3535.76,-63.15\"/>\n</g>\n<!-- 60 -->\n<g id=\"node61\" class=\"node\">\n<title>60</title>\n<polygon fill=\"#f8dcc7\" stroke=\"black\" points=\"3752,-53 3642,-53 3642,0 3752,0 3752,-53\"/>\n<text text-anchor=\"middle\" x=\"3697\" y=\"-37.8\" font-family=\"Helvetica,sans-Serif\" font-size=\"14.00\">gini = 0.487</text>\n<text text-anchor=\"middle\" x=\"3697\" y=\"-22.8\" font-family=\"Helvetica,sans-Serif\" font-size=\"14.00\">samples = 122</text>\n<text text-anchor=\"middle\" x=\"3697\" y=\"-7.8\" font-family=\"Helvetica,sans-Serif\" font-size=\"14.00\">value = [71, 51]</text>\n</g>\n<!-- 59&#45;&gt;60 -->\n<g id=\"edge60\" class=\"edge\">\n<title>59&#45;&gt;60</title>\n<path fill=\"none\" stroke=\"black\" d=\"M3697,-88.95C3697,-80.72 3697,-71.85 3697,-63.48\"/>\n<polygon fill=\"black\" stroke=\"black\" points=\"3700.5,-63.24 3697,-53.24 3693.5,-63.24 3700.5,-63.24\"/>\n</g>\n<!-- 61 -->\n<g id=\"node62\" class=\"node\">\n<title>61</title>\n<polygon fill=\"#b4daf5\" stroke=\"black\" points=\"3880,-53 3770,-53 3770,0 3880,0 3880,-53\"/>\n<text text-anchor=\"middle\" x=\"3825\" y=\"-37.8\" font-family=\"Helvetica,sans-Serif\" font-size=\"14.00\">gini = 0.473</text>\n<text text-anchor=\"middle\" x=\"3825\" y=\"-22.8\" font-family=\"Helvetica,sans-Serif\" font-size=\"14.00\">samples = 86</text>\n<text text-anchor=\"middle\" x=\"3825\" y=\"-7.8\" font-family=\"Helvetica,sans-Serif\" font-size=\"14.00\">value = [33, 53]</text>\n</g>\n<!-- 59&#45;&gt;61 -->\n<g id=\"edge61\" class=\"edge\">\n<title>59&#45;&gt;61</title>\n<path fill=\"none\" stroke=\"black\" d=\"M3741.77,-88.95C3754.78,-79.34 3768.96,-68.87 3781.87,-59.34\"/>\n<polygon fill=\"black\" stroke=\"black\" points=\"3784.17,-61.99 3790.14,-53.24 3780.02,-56.36 3784.17,-61.99\"/>\n</g>\n<!-- 63 -->\n<g id=\"node64\" class=\"node\">\n<title>63</title>\n<polygon fill=\"#f3c6a6\" stroke=\"black\" points=\"4834,-469 4702,-469 4702,-401 4834,-401 4834,-469\"/>\n<text text-anchor=\"middle\" x=\"4768\" y=\"-453.8\" font-family=\"Helvetica,sans-Serif\" font-size=\"14.00\">x[8] &lt;= 0.5</text>\n<text text-anchor=\"middle\" x=\"4768\" y=\"-438.8\" font-family=\"Helvetica,sans-Serif\" font-size=\"14.00\">gini = 0.457</text>\n<text text-anchor=\"middle\" x=\"4768\" y=\"-423.8\" font-family=\"Helvetica,sans-Serif\" font-size=\"14.00\">samples = 2463</text>\n<text text-anchor=\"middle\" x=\"4768\" y=\"-408.8\" font-family=\"Helvetica,sans-Serif\" font-size=\"14.00\">value = [1591, 872]</text>\n</g>\n<!-- 62&#45;&gt;63 -->\n<g id=\"edge63\" class=\"edge\">\n<title>62&#45;&gt;63</title>\n<path fill=\"none\" stroke=\"black\" d=\"M4768,-504.88C4768,-496.78 4768,-487.98 4768,-479.47\"/>\n<polygon fill=\"black\" stroke=\"black\" points=\"4771.5,-479.3 4768,-469.3 4764.5,-479.3 4771.5,-479.3\"/>\n</g>\n<!-- 94 -->\n<g id=\"node95\" class=\"node\">\n<title>94</title>\n<polygon fill=\"#cce6f8\" stroke=\"black\" points=\"6424.5,-469 6299.5,-469 6299.5,-401 6424.5,-401 6424.5,-469\"/>\n<text text-anchor=\"middle\" x=\"6362\" y=\"-453.8\" font-family=\"Helvetica,sans-Serif\" font-size=\"14.00\">x[11] &lt;= 0.5</text>\n<text text-anchor=\"middle\" x=\"6362\" y=\"-438.8\" font-family=\"Helvetica,sans-Serif\" font-size=\"14.00\">gini = 0.489</text>\n<text text-anchor=\"middle\" x=\"6362\" y=\"-423.8\" font-family=\"Helvetica,sans-Serif\" font-size=\"14.00\">samples = 1514</text>\n<text text-anchor=\"middle\" x=\"6362\" y=\"-408.8\" font-family=\"Helvetica,sans-Serif\" font-size=\"14.00\">value = [644, 870]</text>\n</g>\n<!-- 62&#45;&gt;94 -->\n<g id=\"edge94\" class=\"edge\">\n<title>62&#45;&gt;94</title>\n<path fill=\"none\" stroke=\"black\" d=\"M4838.03,-533.52C5100.11,-516.75 6021.66,-457.78 6288.87,-440.68\"/>\n<polygon fill=\"black\" stroke=\"black\" points=\"6289.47,-444.15 6299.22,-440.02 6289.02,-437.16 6289.47,-444.15\"/>\n</g>\n<!-- 64 -->\n<g id=\"node65\" class=\"node\">\n<title>64</title>\n<polygon fill=\"#73baed\" stroke=\"black\" points=\"4632,-365 4522,-365 4522,-297 4632,-297 4632,-365\"/>\n<text text-anchor=\"middle\" x=\"4577\" y=\"-349.8\" font-family=\"Helvetica,sans-Serif\" font-size=\"14.00\">x[3] &lt;= 3.0</text>\n<text text-anchor=\"middle\" x=\"4577\" y=\"-334.8\" font-family=\"Helvetica,sans-Serif\" font-size=\"14.00\">gini = 0.35</text>\n<text text-anchor=\"middle\" x=\"4577\" y=\"-319.8\" font-family=\"Helvetica,sans-Serif\" font-size=\"14.00\">samples = 106</text>\n<text text-anchor=\"middle\" x=\"4577\" y=\"-304.8\" font-family=\"Helvetica,sans-Serif\" font-size=\"14.00\">value = [24, 82]</text>\n</g>\n<!-- 63&#45;&gt;64 -->\n<g id=\"edge64\" class=\"edge\">\n<title>63&#45;&gt;64</title>\n<path fill=\"none\" stroke=\"black\" d=\"M4705.99,-400.88C4685.3,-389.84 4662.22,-377.51 4641.36,-366.37\"/>\n<polygon fill=\"black\" stroke=\"black\" points=\"4642.73,-363.13 4632.26,-361.51 4639.43,-369.31 4642.73,-363.13\"/>\n</g>\n<!-- 79 -->\n<g id=\"node80\" class=\"node\">\n<title>79</title>\n<polygon fill=\"#f2c19d\" stroke=\"black\" points=\"5154,-365 5022,-365 5022,-297 5154,-297 5154,-365\"/>\n<text text-anchor=\"middle\" x=\"5088\" y=\"-349.8\" font-family=\"Helvetica,sans-Serif\" font-size=\"14.00\">x[11] &lt;= 0.5</text>\n<text text-anchor=\"middle\" x=\"5088\" y=\"-334.8\" font-family=\"Helvetica,sans-Serif\" font-size=\"14.00\">gini = 0.446</text>\n<text text-anchor=\"middle\" x=\"5088\" y=\"-319.8\" font-family=\"Helvetica,sans-Serif\" font-size=\"14.00\">samples = 2357</text>\n<text text-anchor=\"middle\" x=\"5088\" y=\"-304.8\" font-family=\"Helvetica,sans-Serif\" font-size=\"14.00\">value = [1567, 790]</text>\n</g>\n<!-- 63&#45;&gt;79 -->\n<g id=\"edge79\" class=\"edge\">\n<title>63&#45;&gt;79</title>\n<path fill=\"none\" stroke=\"black\" d=\"M4834.3,-412.87C4886.11,-396.35 4958.16,-373.39 5012.24,-356.15\"/>\n<polygon fill=\"black\" stroke=\"black\" points=\"5013.32,-359.48 5021.78,-353.11 5011.19,-352.81 5013.32,-359.48\"/>\n</g>\n<!-- 65 -->\n<g id=\"node66\" class=\"node\">\n<title>65</title>\n<polygon fill=\"#e1f0fb\" stroke=\"black\" points=\"4291,-261 4181,-261 4181,-193 4291,-193 4291,-261\"/>\n<text text-anchor=\"middle\" x=\"4236\" y=\"-245.8\" font-family=\"Helvetica,sans-Serif\" font-size=\"14.00\">x[6] &lt;= 680.0</text>\n<text text-anchor=\"middle\" x=\"4236\" y=\"-230.8\" font-family=\"Helvetica,sans-Serif\" font-size=\"14.00\">gini = 0.497</text>\n<text text-anchor=\"middle\" x=\"4236\" y=\"-215.8\" font-family=\"Helvetica,sans-Serif\" font-size=\"14.00\">samples = 24</text>\n<text text-anchor=\"middle\" x=\"4236\" y=\"-200.8\" font-family=\"Helvetica,sans-Serif\" font-size=\"14.00\">value = [11, 13]</text>\n</g>\n<!-- 64&#45;&gt;65 -->\n<g id=\"edge65\" class=\"edge\">\n<title>64&#45;&gt;65</title>\n<path fill=\"none\" stroke=\"black\" d=\"M4521.83,-313.5C4461.54,-295.46 4365.01,-266.59 4301.06,-247.46\"/>\n<polygon fill=\"black\" stroke=\"black\" points=\"4301.67,-243.99 4291.09,-244.48 4299.66,-250.7 4301.67,-243.99\"/>\n</g>\n<!-- 72 -->\n<g id=\"node73\" class=\"node\">\n<title>72</title>\n<polygon fill=\"#5eafea\" stroke=\"black\" points=\"4632,-261 4522,-261 4522,-193 4632,-193 4632,-261\"/>\n<text text-anchor=\"middle\" x=\"4577\" y=\"-245.8\" font-family=\"Helvetica,sans-Serif\" font-size=\"14.00\">x[6] &lt;= 541.0</text>\n<text text-anchor=\"middle\" x=\"4577\" y=\"-230.8\" font-family=\"Helvetica,sans-Serif\" font-size=\"14.00\">gini = 0.267</text>\n<text text-anchor=\"middle\" x=\"4577\" y=\"-215.8\" font-family=\"Helvetica,sans-Serif\" font-size=\"14.00\">samples = 82</text>\n<text text-anchor=\"middle\" x=\"4577\" y=\"-200.8\" font-family=\"Helvetica,sans-Serif\" font-size=\"14.00\">value = [13, 69]</text>\n</g>\n<!-- 64&#45;&gt;72 -->\n<g id=\"edge72\" class=\"edge\">\n<title>64&#45;&gt;72</title>\n<path fill=\"none\" stroke=\"black\" d=\"M4577,-296.88C4577,-288.78 4577,-279.98 4577,-271.47\"/>\n<polygon fill=\"black\" stroke=\"black\" points=\"4580.5,-271.3 4577,-261.3 4573.5,-271.3 4580.5,-271.3\"/>\n</g>\n<!-- 66 -->\n<g id=\"node67\" class=\"node\">\n<title>66</title>\n<polygon fill=\"#f5cdb0\" stroke=\"black\" points=\"4114,-157 4012,-157 4012,-89 4114,-89 4114,-157\"/>\n<text text-anchor=\"middle\" x=\"4063\" y=\"-141.8\" font-family=\"Helvetica,sans-Serif\" font-size=\"14.00\">x[6] &lt;= 553.5</text>\n<text text-anchor=\"middle\" x=\"4063\" y=\"-126.8\" font-family=\"Helvetica,sans-Serif\" font-size=\"14.00\">gini = 0.469</text>\n<text text-anchor=\"middle\" x=\"4063\" y=\"-111.8\" font-family=\"Helvetica,sans-Serif\" font-size=\"14.00\">samples = 16</text>\n<text text-anchor=\"middle\" x=\"4063\" y=\"-96.8\" font-family=\"Helvetica,sans-Serif\" font-size=\"14.00\">value = [10, 6]</text>\n</g>\n<!-- 65&#45;&gt;66 -->\n<g id=\"edge66\" class=\"edge\">\n<title>65&#45;&gt;66</title>\n<path fill=\"none\" stroke=\"black\" d=\"M4180.79,-193.45C4162.35,-182.57 4141.72,-170.41 4122.93,-159.34\"/>\n<polygon fill=\"black\" stroke=\"black\" points=\"4124.56,-156.23 4114.17,-154.17 4121,-162.26 4124.56,-156.23\"/>\n</g>\n<!-- 69 -->\n<g id=\"node70\" class=\"node\">\n<title>69</title>\n<polygon fill=\"#55abe9\" stroke=\"black\" points=\"4283.5,-157 4188.5,-157 4188.5,-89 4283.5,-89 4283.5,-157\"/>\n<text text-anchor=\"middle\" x=\"4236\" y=\"-141.8\" font-family=\"Helvetica,sans-Serif\" font-size=\"14.00\">x[3] &lt;= 1.0</text>\n<text text-anchor=\"middle\" x=\"4236\" y=\"-126.8\" font-family=\"Helvetica,sans-Serif\" font-size=\"14.00\">gini = 0.219</text>\n<text text-anchor=\"middle\" x=\"4236\" y=\"-111.8\" font-family=\"Helvetica,sans-Serif\" font-size=\"14.00\">samples = 8</text>\n<text text-anchor=\"middle\" x=\"4236\" y=\"-96.8\" font-family=\"Helvetica,sans-Serif\" font-size=\"14.00\">value = [1, 7]</text>\n</g>\n<!-- 65&#45;&gt;69 -->\n<g id=\"edge69\" class=\"edge\">\n<title>65&#45;&gt;69</title>\n<path fill=\"none\" stroke=\"black\" d=\"M4236,-192.88C4236,-184.78 4236,-175.98 4236,-167.47\"/>\n<polygon fill=\"black\" stroke=\"black\" points=\"4239.5,-167.3 4236,-157.3 4232.5,-167.3 4239.5,-167.3\"/>\n</g>\n<!-- 67 -->\n<g id=\"node68\" class=\"node\">\n<title>67</title>\n<polygon fill=\"#399de5\" stroke=\"black\" points=\"3993.5,-53 3898.5,-53 3898.5,0 3993.5,0 3993.5,-53\"/>\n<text text-anchor=\"middle\" x=\"3946\" y=\"-37.8\" font-family=\"Helvetica,sans-Serif\" font-size=\"14.00\">gini = 0.0</text>\n<text text-anchor=\"middle\" x=\"3946\" y=\"-22.8\" font-family=\"Helvetica,sans-Serif\" font-size=\"14.00\">samples = 3</text>\n<text text-anchor=\"middle\" x=\"3946\" y=\"-7.8\" font-family=\"Helvetica,sans-Serif\" font-size=\"14.00\">value = [0, 3]</text>\n</g>\n<!-- 66&#45;&gt;67 -->\n<g id=\"edge67\" class=\"edge\">\n<title>66&#45;&gt;67</title>\n<path fill=\"none\" stroke=\"black\" d=\"M4022.08,-88.95C4010.3,-79.43 3997.47,-69.07 3985.76,-59.62\"/>\n<polygon fill=\"black\" stroke=\"black\" points=\"3987.84,-56.8 3977.86,-53.24 3983.44,-62.24 3987.84,-56.8\"/>\n</g>\n<!-- 68 -->\n<g id=\"node69\" class=\"node\">\n<title>68</title>\n<polygon fill=\"#eda774\" stroke=\"black\" points=\"4114,-53 4012,-53 4012,0 4114,0 4114,-53\"/>\n<text text-anchor=\"middle\" x=\"4063\" y=\"-37.8\" font-family=\"Helvetica,sans-Serif\" font-size=\"14.00\">gini = 0.355</text>\n<text text-anchor=\"middle\" x=\"4063\" y=\"-22.8\" font-family=\"Helvetica,sans-Serif\" font-size=\"14.00\">samples = 13</text>\n<text text-anchor=\"middle\" x=\"4063\" y=\"-7.8\" font-family=\"Helvetica,sans-Serif\" font-size=\"14.00\">value = [10, 3]</text>\n</g>\n<!-- 66&#45;&gt;68 -->\n<g id=\"edge68\" class=\"edge\">\n<title>66&#45;&gt;68</title>\n<path fill=\"none\" stroke=\"black\" d=\"M4063,-88.95C4063,-80.72 4063,-71.85 4063,-63.48\"/>\n<polygon fill=\"black\" stroke=\"black\" points=\"4066.5,-63.24 4063,-53.24 4059.5,-63.24 4066.5,-63.24\"/>\n</g>\n<!-- 70 -->\n<g id=\"node71\" class=\"node\">\n<title>70</title>\n<polygon fill=\"#ffffff\" stroke=\"black\" points=\"4227.5,-53 4132.5,-53 4132.5,0 4227.5,0 4227.5,-53\"/>\n<text text-anchor=\"middle\" x=\"4180\" y=\"-37.8\" font-family=\"Helvetica,sans-Serif\" font-size=\"14.00\">gini = 0.5</text>\n<text text-anchor=\"middle\" x=\"4180\" y=\"-22.8\" font-family=\"Helvetica,sans-Serif\" font-size=\"14.00\">samples = 2</text>\n<text text-anchor=\"middle\" x=\"4180\" y=\"-7.8\" font-family=\"Helvetica,sans-Serif\" font-size=\"14.00\">value = [1, 1]</text>\n</g>\n<!-- 69&#45;&gt;70 -->\n<g id=\"edge70\" class=\"edge\">\n<title>69&#45;&gt;70</title>\n<path fill=\"none\" stroke=\"black\" d=\"M4216.41,-88.95C4211.26,-80.26 4205.7,-70.86 4200.5,-62.09\"/>\n<polygon fill=\"black\" stroke=\"black\" points=\"4203.36,-60.06 4195.25,-53.24 4197.34,-63.62 4203.36,-60.06\"/>\n</g>\n<!-- 71 -->\n<g id=\"node72\" class=\"node\">\n<title>71</title>\n<polygon fill=\"#399de5\" stroke=\"black\" points=\"4340.5,-53 4245.5,-53 4245.5,0 4340.5,0 4340.5,-53\"/>\n<text text-anchor=\"middle\" x=\"4293\" y=\"-37.8\" font-family=\"Helvetica,sans-Serif\" font-size=\"14.00\">gini = 0.0</text>\n<text text-anchor=\"middle\" x=\"4293\" y=\"-22.8\" font-family=\"Helvetica,sans-Serif\" font-size=\"14.00\">samples = 6</text>\n<text text-anchor=\"middle\" x=\"4293\" y=\"-7.8\" font-family=\"Helvetica,sans-Serif\" font-size=\"14.00\">value = [0, 6]</text>\n</g>\n<!-- 69&#45;&gt;71 -->\n<g id=\"edge71\" class=\"edge\">\n<title>69&#45;&gt;71</title>\n<path fill=\"none\" stroke=\"black\" d=\"M4255.94,-88.95C4261.23,-80.17 4266.97,-70.66 4272.3,-61.82\"/>\n<polygon fill=\"black\" stroke=\"black\" points=\"4275.31,-63.61 4277.48,-53.24 4269.31,-59.99 4275.31,-63.61\"/>\n</g>\n<!-- 73 -->\n<g id=\"node74\" class=\"node\">\n<title>73</title>\n<polygon fill=\"#deeffb\" stroke=\"black\" points=\"4567,-157 4469,-157 4469,-89 4567,-89 4567,-157\"/>\n<text text-anchor=\"middle\" x=\"4518\" y=\"-141.8\" font-family=\"Helvetica,sans-Serif\" font-size=\"14.00\">x[4] &lt;= 22.5</text>\n<text text-anchor=\"middle\" x=\"4518\" y=\"-126.8\" font-family=\"Helvetica,sans-Serif\" font-size=\"14.00\">gini = 0.496</text>\n<text text-anchor=\"middle\" x=\"4518\" y=\"-111.8\" font-family=\"Helvetica,sans-Serif\" font-size=\"14.00\">samples = 11</text>\n<text text-anchor=\"middle\" x=\"4518\" y=\"-96.8\" font-family=\"Helvetica,sans-Serif\" font-size=\"14.00\">value = [5, 6]</text>\n</g>\n<!-- 72&#45;&gt;73 -->\n<g id=\"edge73\" class=\"edge\">\n<title>72&#45;&gt;73</title>\n<path fill=\"none\" stroke=\"black\" d=\"M4557.84,-192.88C4552.9,-184.33 4547.51,-175.01 4542.34,-166.07\"/>\n<polygon fill=\"black\" stroke=\"black\" points=\"4545.3,-164.2 4537.26,-157.3 4539.24,-167.71 4545.3,-164.2\"/>\n</g>\n<!-- 76 -->\n<g id=\"node77\" class=\"node\">\n<title>76</title>\n<polygon fill=\"#52a9e8\" stroke=\"black\" points=\"4687,-157 4585,-157 4585,-89 4687,-89 4687,-157\"/>\n<text text-anchor=\"middle\" x=\"4636\" y=\"-141.8\" font-family=\"Helvetica,sans-Serif\" font-size=\"14.00\">x[5] &lt;= 17.0</text>\n<text text-anchor=\"middle\" x=\"4636\" y=\"-126.8\" font-family=\"Helvetica,sans-Serif\" font-size=\"14.00\">gini = 0.2</text>\n<text text-anchor=\"middle\" x=\"4636\" y=\"-111.8\" font-family=\"Helvetica,sans-Serif\" font-size=\"14.00\">samples = 71</text>\n<text text-anchor=\"middle\" x=\"4636\" y=\"-96.8\" font-family=\"Helvetica,sans-Serif\" font-size=\"14.00\">value = [8, 63]</text>\n</g>\n<!-- 72&#45;&gt;76 -->\n<g id=\"edge76\" class=\"edge\">\n<title>72&#45;&gt;76</title>\n<path fill=\"none\" stroke=\"black\" d=\"M4596.16,-192.88C4601.1,-184.33 4606.49,-175.01 4611.66,-166.07\"/>\n<polygon fill=\"black\" stroke=\"black\" points=\"4614.76,-167.71 4616.74,-157.3 4608.7,-164.2 4614.76,-167.71\"/>\n</g>\n<!-- 74 -->\n<g id=\"node75\" class=\"node\">\n<title>74</title>\n<polygon fill=\"#7bbeee\" stroke=\"black\" points=\"4453.5,-53 4358.5,-53 4358.5,0 4453.5,0 4453.5,-53\"/>\n<text text-anchor=\"middle\" x=\"4406\" y=\"-37.8\" font-family=\"Helvetica,sans-Serif\" font-size=\"14.00\">gini = 0.375</text>\n<text text-anchor=\"middle\" x=\"4406\" y=\"-22.8\" font-family=\"Helvetica,sans-Serif\" font-size=\"14.00\">samples = 8</text>\n<text text-anchor=\"middle\" x=\"4406\" y=\"-7.8\" font-family=\"Helvetica,sans-Serif\" font-size=\"14.00\">value = [2, 6]</text>\n</g>\n<!-- 73&#45;&gt;74 -->\n<g id=\"edge74\" class=\"edge\">\n<title>73&#45;&gt;74</title>\n<path fill=\"none\" stroke=\"black\" d=\"M4478.83,-88.95C4467.66,-79.53 4455.51,-69.27 4444.39,-59.89\"/>\n<polygon fill=\"black\" stroke=\"black\" points=\"4446.4,-57.01 4436.5,-53.24 4441.89,-62.36 4446.4,-57.01\"/>\n</g>\n<!-- 75 -->\n<g id=\"node76\" class=\"node\">\n<title>75</title>\n<polygon fill=\"#e58139\" stroke=\"black\" points=\"4566.5,-53 4471.5,-53 4471.5,0 4566.5,0 4566.5,-53\"/>\n<text text-anchor=\"middle\" x=\"4519\" y=\"-37.8\" font-family=\"Helvetica,sans-Serif\" font-size=\"14.00\">gini = 0.0</text>\n<text text-anchor=\"middle\" x=\"4519\" y=\"-22.8\" font-family=\"Helvetica,sans-Serif\" font-size=\"14.00\">samples = 3</text>\n<text text-anchor=\"middle\" x=\"4519\" y=\"-7.8\" font-family=\"Helvetica,sans-Serif\" font-size=\"14.00\">value = [3, 0]</text>\n</g>\n<!-- 73&#45;&gt;75 -->\n<g id=\"edge75\" class=\"edge\">\n<title>73&#45;&gt;75</title>\n<path fill=\"none\" stroke=\"black\" d=\"M4518.35,-88.95C4518.44,-80.72 4518.53,-71.85 4518.62,-63.48\"/>\n<polygon fill=\"black\" stroke=\"black\" points=\"4522.12,-63.27 4518.73,-53.24 4515.12,-63.2 4522.12,-63.27\"/>\n</g>\n<!-- 77 -->\n<g id=\"node78\" class=\"node\">\n<title>77</title>\n<polygon fill=\"#46a3e7\" stroke=\"black\" points=\"4687,-53 4585,-53 4585,0 4687,0 4687,-53\"/>\n<text text-anchor=\"middle\" x=\"4636\" y=\"-37.8\" font-family=\"Helvetica,sans-Serif\" font-size=\"14.00\">gini = 0.115</text>\n<text text-anchor=\"middle\" x=\"4636\" y=\"-22.8\" font-family=\"Helvetica,sans-Serif\" font-size=\"14.00\">samples = 49</text>\n<text text-anchor=\"middle\" x=\"4636\" y=\"-7.8\" font-family=\"Helvetica,sans-Serif\" font-size=\"14.00\">value = [3, 46]</text>\n</g>\n<!-- 76&#45;&gt;77 -->\n<g id=\"edge77\" class=\"edge\">\n<title>76&#45;&gt;77</title>\n<path fill=\"none\" stroke=\"black\" d=\"M4636,-88.95C4636,-80.72 4636,-71.85 4636,-63.48\"/>\n<polygon fill=\"black\" stroke=\"black\" points=\"4639.5,-63.24 4636,-53.24 4632.5,-63.24 4639.5,-63.24\"/>\n</g>\n<!-- 78 -->\n<g id=\"node79\" class=\"node\">\n<title>78</title>\n<polygon fill=\"#73baed\" stroke=\"black\" points=\"4807,-53 4705,-53 4705,0 4807,0 4807,-53\"/>\n<text text-anchor=\"middle\" x=\"4756\" y=\"-37.8\" font-family=\"Helvetica,sans-Serif\" font-size=\"14.00\">gini = 0.351</text>\n<text text-anchor=\"middle\" x=\"4756\" y=\"-22.8\" font-family=\"Helvetica,sans-Serif\" font-size=\"14.00\">samples = 22</text>\n<text text-anchor=\"middle\" x=\"4756\" y=\"-7.8\" font-family=\"Helvetica,sans-Serif\" font-size=\"14.00\">value = [5, 17]</text>\n</g>\n<!-- 76&#45;&gt;78 -->\n<g id=\"edge78\" class=\"edge\">\n<title>76&#45;&gt;78</title>\n<path fill=\"none\" stroke=\"black\" d=\"M4677.97,-88.95C4690.05,-79.43 4703.21,-69.07 4715.22,-59.62\"/>\n<polygon fill=\"black\" stroke=\"black\" points=\"4717.63,-62.17 4723.32,-53.24 4713.3,-56.67 4717.63,-62.17\"/>\n</g>\n<!-- 80 -->\n<g id=\"node81\" class=\"node\">\n<title>80</title>\n<polygon fill=\"#f5cfb3\" stroke=\"black\" points=\"5154,-261 5022,-261 5022,-193 5154,-193 5154,-261\"/>\n<text text-anchor=\"middle\" x=\"5088\" y=\"-245.8\" font-family=\"Helvetica,sans-Serif\" font-size=\"14.00\">x[6] &lt;= 648.5</text>\n<text text-anchor=\"middle\" x=\"5088\" y=\"-230.8\" font-family=\"Helvetica,sans-Serif\" font-size=\"14.00\">gini = 0.472</text>\n<text text-anchor=\"middle\" x=\"5088\" y=\"-215.8\" font-family=\"Helvetica,sans-Serif\" font-size=\"14.00\">samples = 1697</text>\n<text text-anchor=\"middle\" x=\"5088\" y=\"-200.8\" font-family=\"Helvetica,sans-Serif\" font-size=\"14.00\">value = [1049, 648]</text>\n</g>\n<!-- 79&#45;&gt;80 -->\n<g id=\"edge80\" class=\"edge\">\n<title>79&#45;&gt;80</title>\n<path fill=\"none\" stroke=\"black\" d=\"M5088,-296.88C5088,-288.78 5088,-279.98 5088,-271.47\"/>\n<polygon fill=\"black\" stroke=\"black\" points=\"5091.5,-271.3 5088,-261.3 5084.5,-271.3 5091.5,-271.3\"/>\n</g>\n<!-- 87 -->\n<g id=\"node88\" class=\"node\">\n<title>87</title>\n<polygon fill=\"#eca46f\" stroke=\"black\" points=\"5558.5,-261 5433.5,-261 5433.5,-193 5558.5,-193 5558.5,-261\"/>\n<text text-anchor=\"middle\" x=\"5496\" y=\"-245.8\" font-family=\"Helvetica,sans-Serif\" font-size=\"14.00\">x[6] &lt;= 647.5</text>\n<text text-anchor=\"middle\" x=\"5496\" y=\"-230.8\" font-family=\"Helvetica,sans-Serif\" font-size=\"14.00\">gini = 0.338</text>\n<text text-anchor=\"middle\" x=\"5496\" y=\"-215.8\" font-family=\"Helvetica,sans-Serif\" font-size=\"14.00\">samples = 660</text>\n<text text-anchor=\"middle\" x=\"5496\" y=\"-200.8\" font-family=\"Helvetica,sans-Serif\" font-size=\"14.00\">value = [518, 142]</text>\n</g>\n<!-- 79&#45;&gt;87 -->\n<g id=\"edge87\" class=\"edge\">\n<title>79&#45;&gt;87</title>\n<path fill=\"none\" stroke=\"black\" d=\"M5154.01,-313.5C5227.82,-295.04 5347.02,-265.24 5423.42,-246.15\"/>\n<polygon fill=\"black\" stroke=\"black\" points=\"5424.59,-249.46 5433.44,-243.64 5422.89,-242.67 5424.59,-249.46\"/>\n</g>\n<!-- 81 -->\n<g id=\"node82\" class=\"node\">\n<title>81</title>\n<polygon fill=\"#f2be99\" stroke=\"black\" points=\"5078.5,-157 4953.5,-157 4953.5,-89 5078.5,-89 5078.5,-157\"/>\n<text text-anchor=\"middle\" x=\"5016\" y=\"-141.8\" font-family=\"Helvetica,sans-Serif\" font-size=\"14.00\">x[5] &lt;= 4.0</text>\n<text text-anchor=\"middle\" x=\"5016\" y=\"-126.8\" font-family=\"Helvetica,sans-Serif\" font-size=\"14.00\">gini = 0.44</text>\n<text text-anchor=\"middle\" x=\"5016\" y=\"-111.8\" font-family=\"Helvetica,sans-Serif\" font-size=\"14.00\">samples = 990</text>\n<text text-anchor=\"middle\" x=\"5016\" y=\"-96.8\" font-family=\"Helvetica,sans-Serif\" font-size=\"14.00\">value = [666, 324]</text>\n</g>\n<!-- 80&#45;&gt;81 -->\n<g id=\"edge81\" class=\"edge\">\n<title>80&#45;&gt;81</title>\n<path fill=\"none\" stroke=\"black\" d=\"M5064.62,-192.88C5058.46,-184.15 5051.74,-174.62 5045.3,-165.51\"/>\n<polygon fill=\"black\" stroke=\"black\" points=\"5048.13,-163.45 5039.51,-157.3 5042.41,-167.49 5048.13,-163.45\"/>\n</g>\n<!-- 84 -->\n<g id=\"node85\" class=\"node\">\n<title>84</title>\n<polygon fill=\"#fbece0\" stroke=\"black\" points=\"5221.5,-157 5096.5,-157 5096.5,-89 5221.5,-89 5221.5,-157\"/>\n<text text-anchor=\"middle\" x=\"5159\" y=\"-141.8\" font-family=\"Helvetica,sans-Serif\" font-size=\"14.00\">x[4] &lt;= 15.5</text>\n<text text-anchor=\"middle\" x=\"5159\" y=\"-126.8\" font-family=\"Helvetica,sans-Serif\" font-size=\"14.00\">gini = 0.497</text>\n<text text-anchor=\"middle\" x=\"5159\" y=\"-111.8\" font-family=\"Helvetica,sans-Serif\" font-size=\"14.00\">samples = 707</text>\n<text text-anchor=\"middle\" x=\"5159\" y=\"-96.8\" font-family=\"Helvetica,sans-Serif\" font-size=\"14.00\">value = [383, 324]</text>\n</g>\n<!-- 80&#45;&gt;84 -->\n<g id=\"edge84\" class=\"edge\">\n<title>80&#45;&gt;84</title>\n<path fill=\"none\" stroke=\"black\" d=\"M5111.05,-192.88C5117.13,-184.15 5123.76,-174.62 5130.1,-165.51\"/>\n<polygon fill=\"black\" stroke=\"black\" points=\"5132.98,-167.51 5135.82,-157.3 5127.24,-163.51 5132.98,-167.51\"/>\n</g>\n<!-- 82 -->\n<g id=\"node83\" class=\"node\">\n<title>82</title>\n<polygon fill=\"#b4daf5\" stroke=\"black\" points=\"4935,-53 4825,-53 4825,0 4935,0 4935,-53\"/>\n<text text-anchor=\"middle\" x=\"4880\" y=\"-37.8\" font-family=\"Helvetica,sans-Serif\" font-size=\"14.00\">gini = 0.473</text>\n<text text-anchor=\"middle\" x=\"4880\" y=\"-22.8\" font-family=\"Helvetica,sans-Serif\" font-size=\"14.00\">samples = 47</text>\n<text text-anchor=\"middle\" x=\"4880\" y=\"-7.8\" font-family=\"Helvetica,sans-Serif\" font-size=\"14.00\">value = [18, 29]</text>\n</g>\n<!-- 81&#45;&gt;82 -->\n<g id=\"edge82\" class=\"edge\">\n<title>81&#45;&gt;82</title>\n<path fill=\"none\" stroke=\"black\" d=\"M4968.43,-88.95C4954.48,-79.25 4939.26,-68.68 4925.44,-59.07\"/>\n<polygon fill=\"black\" stroke=\"black\" points=\"4927.25,-56.07 4917.04,-53.24 4923.25,-61.82 4927.25,-56.07\"/>\n</g>\n<!-- 83 -->\n<g id=\"node84\" class=\"node\">\n<title>83</title>\n<polygon fill=\"#f1ba93\" stroke=\"black\" points=\"5078.5,-53 4953.5,-53 4953.5,0 5078.5,0 5078.5,-53\"/>\n<text text-anchor=\"middle\" x=\"5016\" y=\"-37.8\" font-family=\"Helvetica,sans-Serif\" font-size=\"14.00\">gini = 0.43</text>\n<text text-anchor=\"middle\" x=\"5016\" y=\"-22.8\" font-family=\"Helvetica,sans-Serif\" font-size=\"14.00\">samples = 943</text>\n<text text-anchor=\"middle\" x=\"5016\" y=\"-7.8\" font-family=\"Helvetica,sans-Serif\" font-size=\"14.00\">value = [648, 295]</text>\n</g>\n<!-- 81&#45;&gt;83 -->\n<g id=\"edge83\" class=\"edge\">\n<title>81&#45;&gt;83</title>\n<path fill=\"none\" stroke=\"black\" d=\"M5016,-88.95C5016,-80.72 5016,-71.85 5016,-63.48\"/>\n<polygon fill=\"black\" stroke=\"black\" points=\"5019.5,-63.24 5016,-53.24 5012.5,-63.24 5019.5,-63.24\"/>\n</g>\n<!-- 85 -->\n<g id=\"node86\" class=\"node\">\n<title>85</title>\n<polygon fill=\"#f5fafe\" stroke=\"black\" points=\"5221.5,-53 5096.5,-53 5096.5,0 5221.5,0 5221.5,-53\"/>\n<text text-anchor=\"middle\" x=\"5159\" y=\"-37.8\" font-family=\"Helvetica,sans-Serif\" font-size=\"14.00\">gini = 0.5</text>\n<text text-anchor=\"middle\" x=\"5159\" y=\"-22.8\" font-family=\"Helvetica,sans-Serif\" font-size=\"14.00\">samples = 337</text>\n<text text-anchor=\"middle\" x=\"5159\" y=\"-7.8\" font-family=\"Helvetica,sans-Serif\" font-size=\"14.00\">value = [164, 173]</text>\n</g>\n<!-- 84&#45;&gt;85 -->\n<g id=\"edge85\" class=\"edge\">\n<title>84&#45;&gt;85</title>\n<path fill=\"none\" stroke=\"black\" d=\"M5159,-88.95C5159,-80.72 5159,-71.85 5159,-63.48\"/>\n<polygon fill=\"black\" stroke=\"black\" points=\"5162.5,-63.24 5159,-53.24 5155.5,-63.24 5162.5,-63.24\"/>\n</g>\n<!-- 86 -->\n<g id=\"node87\" class=\"node\">\n<title>86</title>\n<polygon fill=\"#f7d8c2\" stroke=\"black\" points=\"5364.5,-53 5239.5,-53 5239.5,0 5364.5,0 5364.5,-53\"/>\n<text text-anchor=\"middle\" x=\"5302\" y=\"-37.8\" font-family=\"Helvetica,sans-Serif\" font-size=\"14.00\">gini = 0.483</text>\n<text text-anchor=\"middle\" x=\"5302\" y=\"-22.8\" font-family=\"Helvetica,sans-Serif\" font-size=\"14.00\">samples = 370</text>\n<text text-anchor=\"middle\" x=\"5302\" y=\"-7.8\" font-family=\"Helvetica,sans-Serif\" font-size=\"14.00\">value = [219, 151]</text>\n</g>\n<!-- 84&#45;&gt;86 -->\n<g id=\"edge86\" class=\"edge\">\n<title>84&#45;&gt;86</title>\n<path fill=\"none\" stroke=\"black\" d=\"M5209.01,-88.95C5223.83,-79.16 5239.99,-68.48 5254.63,-58.8\"/>\n<polygon fill=\"black\" stroke=\"black\" points=\"5256.64,-61.67 5263.05,-53.24 5252.78,-55.83 5256.64,-61.67\"/>\n</g>\n<!-- 88 -->\n<g id=\"node89\" class=\"node\">\n<title>88</title>\n<polygon fill=\"#ea975b\" stroke=\"black\" points=\"5554.5,-157 5437.5,-157 5437.5,-89 5554.5,-89 5554.5,-157\"/>\n<text text-anchor=\"middle\" x=\"5496\" y=\"-141.8\" font-family=\"Helvetica,sans-Serif\" font-size=\"14.00\">x[7] &lt;= 14.5</text>\n<text text-anchor=\"middle\" x=\"5496\" y=\"-126.8\" font-family=\"Helvetica,sans-Serif\" font-size=\"14.00\">gini = 0.253</text>\n<text text-anchor=\"middle\" x=\"5496\" y=\"-111.8\" font-family=\"Helvetica,sans-Serif\" font-size=\"14.00\">samples = 364</text>\n<text text-anchor=\"middle\" x=\"5496\" y=\"-96.8\" font-family=\"Helvetica,sans-Serif\" font-size=\"14.00\">value = [310, 54]</text>\n</g>\n<!-- 87&#45;&gt;88 -->\n<g id=\"edge88\" class=\"edge\">\n<title>87&#45;&gt;88</title>\n<path fill=\"none\" stroke=\"black\" d=\"M5496,-192.88C5496,-184.78 5496,-175.98 5496,-167.47\"/>\n<polygon fill=\"black\" stroke=\"black\" points=\"5499.5,-167.3 5496,-157.3 5492.5,-167.3 5499.5,-167.3\"/>\n</g>\n<!-- 91 -->\n<g id=\"node92\" class=\"node\">\n<title>91</title>\n<polygon fill=\"#f0b68d\" stroke=\"black\" points=\"5744.5,-157 5627.5,-157 5627.5,-89 5744.5,-89 5744.5,-157\"/>\n<text text-anchor=\"middle\" x=\"5686\" y=\"-141.8\" font-family=\"Helvetica,sans-Serif\" font-size=\"14.00\">x[0] &lt;= 33.5</text>\n<text text-anchor=\"middle\" x=\"5686\" y=\"-126.8\" font-family=\"Helvetica,sans-Serif\" font-size=\"14.00\">gini = 0.418</text>\n<text text-anchor=\"middle\" x=\"5686\" y=\"-111.8\" font-family=\"Helvetica,sans-Serif\" font-size=\"14.00\">samples = 296</text>\n<text text-anchor=\"middle\" x=\"5686\" y=\"-96.8\" font-family=\"Helvetica,sans-Serif\" font-size=\"14.00\">value = [208, 88]</text>\n</g>\n<!-- 87&#45;&gt;91 -->\n<g id=\"edge91\" class=\"edge\">\n<title>87&#45;&gt;91</title>\n<path fill=\"none\" stroke=\"black\" d=\"M5557.69,-192.88C5577.04,-182.49 5598.51,-170.97 5618.27,-160.36\"/>\n<polygon fill=\"black\" stroke=\"black\" points=\"5620.05,-163.38 5627.21,-155.56 5616.74,-157.21 5620.05,-163.38\"/>\n</g>\n<!-- 89 -->\n<g id=\"node90\" class=\"node\">\n<title>89</title>\n<polygon fill=\"#e9965a\" stroke=\"black\" points=\"5499.5,-53 5382.5,-53 5382.5,0 5499.5,0 5499.5,-53\"/>\n<text text-anchor=\"middle\" x=\"5441\" y=\"-37.8\" font-family=\"Helvetica,sans-Serif\" font-size=\"14.00\">gini = 0.244</text>\n<text text-anchor=\"middle\" x=\"5441\" y=\"-22.8\" font-family=\"Helvetica,sans-Serif\" font-size=\"14.00\">samples = 358</text>\n<text text-anchor=\"middle\" x=\"5441\" y=\"-7.8\" font-family=\"Helvetica,sans-Serif\" font-size=\"14.00\">value = [307, 51]</text>\n</g>\n<!-- 88&#45;&gt;89 -->\n<g id=\"edge89\" class=\"edge\">\n<title>88&#45;&gt;89</title>\n<path fill=\"none\" stroke=\"black\" d=\"M5476.76,-88.95C5471.71,-80.26 5466.24,-70.86 5461.13,-62.09\"/>\n<polygon fill=\"black\" stroke=\"black\" points=\"5464.03,-60.12 5455.98,-53.24 5457.98,-63.64 5464.03,-60.12\"/>\n</g>\n<!-- 90 -->\n<g id=\"node91\" class=\"node\">\n<title>90</title>\n<polygon fill=\"#ffffff\" stroke=\"black\" points=\"5612.5,-53 5517.5,-53 5517.5,0 5612.5,0 5612.5,-53\"/>\n<text text-anchor=\"middle\" x=\"5565\" y=\"-37.8\" font-family=\"Helvetica,sans-Serif\" font-size=\"14.00\">gini = 0.5</text>\n<text text-anchor=\"middle\" x=\"5565\" y=\"-22.8\" font-family=\"Helvetica,sans-Serif\" font-size=\"14.00\">samples = 6</text>\n<text text-anchor=\"middle\" x=\"5565\" y=\"-7.8\" font-family=\"Helvetica,sans-Serif\" font-size=\"14.00\">value = [3, 3]</text>\n</g>\n<!-- 88&#45;&gt;90 -->\n<g id=\"edge90\" class=\"edge\">\n<title>88&#45;&gt;90</title>\n<path fill=\"none\" stroke=\"black\" d=\"M5520.13,-88.95C5526.61,-80.07 5533.63,-70.46 5540.15,-61.54\"/>\n<polygon fill=\"black\" stroke=\"black\" points=\"5543.14,-63.38 5546.21,-53.24 5537.48,-59.25 5543.14,-63.38\"/>\n</g>\n<!-- 92 -->\n<g id=\"node93\" class=\"node\">\n<title>92</title>\n<polygon fill=\"#f6d3bb\" stroke=\"black\" points=\"5741,-53 5631,-53 5631,0 5741,0 5741,-53\"/>\n<text text-anchor=\"middle\" x=\"5686\" y=\"-37.8\" font-family=\"Helvetica,sans-Serif\" font-size=\"14.00\">gini = 0.478</text>\n<text text-anchor=\"middle\" x=\"5686\" y=\"-22.8\" font-family=\"Helvetica,sans-Serif\" font-size=\"14.00\">samples = 91</text>\n<text text-anchor=\"middle\" x=\"5686\" y=\"-7.8\" font-family=\"Helvetica,sans-Serif\" font-size=\"14.00\">value = [55, 36]</text>\n</g>\n<!-- 91&#45;&gt;92 -->\n<g id=\"edge92\" class=\"edge\">\n<title>91&#45;&gt;92</title>\n<path fill=\"none\" stroke=\"black\" d=\"M5686,-88.95C5686,-80.72 5686,-71.85 5686,-63.48\"/>\n<polygon fill=\"black\" stroke=\"black\" points=\"5689.5,-63.24 5686,-53.24 5682.5,-63.24 5689.5,-63.24\"/>\n</g>\n<!-- 93 -->\n<g id=\"node94\" class=\"node\">\n<title>93</title>\n<polygon fill=\"#eeac7c\" stroke=\"black\" points=\"5876.5,-53 5759.5,-53 5759.5,0 5876.5,0 5876.5,-53\"/>\n<text text-anchor=\"middle\" x=\"5818\" y=\"-37.8\" font-family=\"Helvetica,sans-Serif\" font-size=\"14.00\">gini = 0.379</text>\n<text text-anchor=\"middle\" x=\"5818\" y=\"-22.8\" font-family=\"Helvetica,sans-Serif\" font-size=\"14.00\">samples = 205</text>\n<text text-anchor=\"middle\" x=\"5818\" y=\"-7.8\" font-family=\"Helvetica,sans-Serif\" font-size=\"14.00\">value = [153, 52]</text>\n</g>\n<!-- 91&#45;&gt;93 -->\n<g id=\"edge93\" class=\"edge\">\n<title>91&#45;&gt;93</title>\n<path fill=\"none\" stroke=\"black\" d=\"M5732.17,-88.95C5745.71,-79.25 5760.49,-68.68 5773.9,-59.07\"/>\n<polygon fill=\"black\" stroke=\"black\" points=\"5775.96,-61.9 5782.05,-53.24 5771.88,-56.21 5775.96,-61.9\"/>\n</g>\n<!-- 95 -->\n<g id=\"node96\" class=\"node\">\n<title>95</title>\n<polygon fill=\"#b5dbf5\" stroke=\"black\" points=\"6424.5,-365 6299.5,-365 6299.5,-297 6424.5,-297 6424.5,-365\"/>\n<text text-anchor=\"middle\" x=\"6362\" y=\"-349.8\" font-family=\"Helvetica,sans-Serif\" font-size=\"14.00\">x[8] &lt;= 0.5</text>\n<text text-anchor=\"middle\" x=\"6362\" y=\"-334.8\" font-family=\"Helvetica,sans-Serif\" font-size=\"14.00\">gini = 0.474</text>\n<text text-anchor=\"middle\" x=\"6362\" y=\"-319.8\" font-family=\"Helvetica,sans-Serif\" font-size=\"14.00\">samples = 1130</text>\n<text text-anchor=\"middle\" x=\"6362\" y=\"-304.8\" font-family=\"Helvetica,sans-Serif\" font-size=\"14.00\">value = [436, 694]</text>\n</g>\n<!-- 94&#45;&gt;95 -->\n<g id=\"edge95\" class=\"edge\">\n<title>94&#45;&gt;95</title>\n<path fill=\"none\" stroke=\"black\" d=\"M6362,-400.88C6362,-392.78 6362,-383.98 6362,-375.47\"/>\n<polygon fill=\"black\" stroke=\"black\" points=\"6365.5,-375.3 6362,-365.3 6358.5,-375.3 6365.5,-375.3\"/>\n</g>\n<!-- 110 -->\n<g id=\"node111\" class=\"node\">\n<title>110</title>\n<polygon fill=\"#fbece1\" stroke=\"black\" points=\"7197.5,-365 7072.5,-365 7072.5,-297 7197.5,-297 7197.5,-365\"/>\n<text text-anchor=\"middle\" x=\"7135\" y=\"-349.8\" font-family=\"Helvetica,sans-Serif\" font-size=\"14.00\">x[6] &lt;= 1009.5</text>\n<text text-anchor=\"middle\" x=\"7135\" y=\"-334.8\" font-family=\"Helvetica,sans-Serif\" font-size=\"14.00\">gini = 0.497</text>\n<text text-anchor=\"middle\" x=\"7135\" y=\"-319.8\" font-family=\"Helvetica,sans-Serif\" font-size=\"14.00\">samples = 384</text>\n<text text-anchor=\"middle\" x=\"7135\" y=\"-304.8\" font-family=\"Helvetica,sans-Serif\" font-size=\"14.00\">value = [208, 176]</text>\n</g>\n<!-- 94&#45;&gt;110 -->\n<g id=\"edge110\" class=\"edge\">\n<title>94&#45;&gt;110</title>\n<path fill=\"none\" stroke=\"black\" d=\"M6424.6,-425.74C6566.37,-407.03 6911.32,-361.51 7062.26,-341.6\"/>\n<polygon fill=\"black\" stroke=\"black\" points=\"7062.9,-345.04 7072.35,-340.27 7061.98,-338.1 7062.9,-345.04\"/>\n</g>\n<!-- 96 -->\n<g id=\"node97\" class=\"node\">\n<title>96</title>\n<polygon fill=\"#59ade9\" stroke=\"black\" points=\"6290,-261 6188,-261 6188,-193 6290,-193 6290,-261\"/>\n<text text-anchor=\"middle\" x=\"6239\" y=\"-245.8\" font-family=\"Helvetica,sans-Serif\" font-size=\"14.00\">x[4] &lt;= 12.5</text>\n<text text-anchor=\"middle\" x=\"6239\" y=\"-230.8\" font-family=\"Helvetica,sans-Serif\" font-size=\"14.00\">gini = 0.242</text>\n<text text-anchor=\"middle\" x=\"6239\" y=\"-215.8\" font-family=\"Helvetica,sans-Serif\" font-size=\"14.00\">samples = 64</text>\n<text text-anchor=\"middle\" x=\"6239\" y=\"-200.8\" font-family=\"Helvetica,sans-Serif\" font-size=\"14.00\">value = [9, 55]</text>\n</g>\n<!-- 95&#45;&gt;96 -->\n<g id=\"edge96\" class=\"edge\">\n<title>95&#45;&gt;96</title>\n<path fill=\"none\" stroke=\"black\" d=\"M6322.07,-296.88C6310.89,-287.62 6298.64,-277.45 6287.05,-267.85\"/>\n<polygon fill=\"black\" stroke=\"black\" points=\"6289.09,-264.99 6279.16,-261.3 6284.62,-270.38 6289.09,-264.99\"/>\n</g>\n<!-- 103 -->\n<g id=\"node104\" class=\"node\">\n<title>103</title>\n<polygon fill=\"#bddef6\" stroke=\"black\" points=\"6546.5,-261 6421.5,-261 6421.5,-193 6546.5,-193 6546.5,-261\"/>\n<text text-anchor=\"middle\" x=\"6484\" y=\"-245.8\" font-family=\"Helvetica,sans-Serif\" font-size=\"14.00\">x[4] &lt;= 15.5</text>\n<text text-anchor=\"middle\" x=\"6484\" y=\"-230.8\" font-family=\"Helvetica,sans-Serif\" font-size=\"14.00\">gini = 0.48</text>\n<text text-anchor=\"middle\" x=\"6484\" y=\"-215.8\" font-family=\"Helvetica,sans-Serif\" font-size=\"14.00\">samples = 1066</text>\n<text text-anchor=\"middle\" x=\"6484\" y=\"-200.8\" font-family=\"Helvetica,sans-Serif\" font-size=\"14.00\">value = [427, 639]</text>\n</g>\n<!-- 95&#45;&gt;103 -->\n<g id=\"edge103\" class=\"edge\">\n<title>95&#45;&gt;103</title>\n<path fill=\"none\" stroke=\"black\" d=\"M6401.61,-296.88C6412.69,-287.62 6424.85,-277.45 6436.34,-267.85\"/>\n<polygon fill=\"black\" stroke=\"black\" points=\"6438.74,-270.4 6444.17,-261.3 6434.25,-265.03 6438.74,-270.4\"/>\n</g>\n<!-- 97 -->\n<g id=\"node98\" class=\"node\">\n<title>97</title>\n<polygon fill=\"#84c2ef\" stroke=\"black\" points=\"6113,-157 6011,-157 6011,-89 6113,-89 6113,-157\"/>\n<text text-anchor=\"middle\" x=\"6062\" y=\"-141.8\" font-family=\"Helvetica,sans-Serif\" font-size=\"14.00\">x[6] &lt;= 883.5</text>\n<text text-anchor=\"middle\" x=\"6062\" y=\"-126.8\" font-family=\"Helvetica,sans-Serif\" font-size=\"14.00\">gini = 0.4</text>\n<text text-anchor=\"middle\" x=\"6062\" y=\"-111.8\" font-family=\"Helvetica,sans-Serif\" font-size=\"14.00\">samples = 29</text>\n<text text-anchor=\"middle\" x=\"6062\" y=\"-96.8\" font-family=\"Helvetica,sans-Serif\" font-size=\"14.00\">value = [8, 21]</text>\n</g>\n<!-- 96&#45;&gt;97 -->\n<g id=\"edge97\" class=\"edge\">\n<title>96&#45;&gt;97</title>\n<path fill=\"none\" stroke=\"black\" d=\"M6187.8,-196.5C6167.17,-184.6 6143.21,-170.8 6121.78,-158.45\"/>\n<polygon fill=\"black\" stroke=\"black\" points=\"6123.49,-155.4 6113.08,-153.44 6120,-161.46 6123.49,-155.4\"/>\n</g>\n<!-- 100 -->\n<g id=\"node101\" class=\"node\">\n<title>100</title>\n<polygon fill=\"#3fa0e6\" stroke=\"black\" points=\"6290,-157 6188,-157 6188,-89 6290,-89 6290,-157\"/>\n<text text-anchor=\"middle\" x=\"6239\" y=\"-141.8\" font-family=\"Helvetica,sans-Serif\" font-size=\"14.00\">x[3] &lt;= 1.0</text>\n<text text-anchor=\"middle\" x=\"6239\" y=\"-126.8\" font-family=\"Helvetica,sans-Serif\" font-size=\"14.00\">gini = 0.056</text>\n<text text-anchor=\"middle\" x=\"6239\" y=\"-111.8\" font-family=\"Helvetica,sans-Serif\" font-size=\"14.00\">samples = 35</text>\n<text text-anchor=\"middle\" x=\"6239\" y=\"-96.8\" font-family=\"Helvetica,sans-Serif\" font-size=\"14.00\">value = [1, 34]</text>\n</g>\n<!-- 96&#45;&gt;100 -->\n<g id=\"edge100\" class=\"edge\">\n<title>96&#45;&gt;100</title>\n<path fill=\"none\" stroke=\"black\" d=\"M6239,-192.88C6239,-184.78 6239,-175.98 6239,-167.47\"/>\n<polygon fill=\"black\" stroke=\"black\" points=\"6242.5,-167.3 6239,-157.3 6235.5,-167.3 6242.5,-167.3\"/>\n</g>\n<!-- 98 -->\n<g id=\"node99\" class=\"node\">\n<title>98</title>\n<polygon fill=\"#ffffff\" stroke=\"black\" points=\"5993,-53 5895,-53 5895,0 5993,0 5993,-53\"/>\n<text text-anchor=\"middle\" x=\"5944\" y=\"-37.8\" font-family=\"Helvetica,sans-Serif\" font-size=\"14.00\">gini = 0.5</text>\n<text text-anchor=\"middle\" x=\"5944\" y=\"-22.8\" font-family=\"Helvetica,sans-Serif\" font-size=\"14.00\">samples = 10</text>\n<text text-anchor=\"middle\" x=\"5944\" y=\"-7.8\" font-family=\"Helvetica,sans-Serif\" font-size=\"14.00\">value = [5, 5]</text>\n</g>\n<!-- 97&#45;&gt;98 -->\n<g id=\"edge98\" class=\"edge\">\n<title>97&#45;&gt;98</title>\n<path fill=\"none\" stroke=\"black\" d=\"M6020.73,-88.95C6008.85,-79.43 5995.91,-69.07 5984.1,-59.62\"/>\n<polygon fill=\"black\" stroke=\"black\" points=\"5986.13,-56.76 5976.14,-53.24 5981.75,-62.22 5986.13,-56.76\"/>\n</g>\n<!-- 99 -->\n<g id=\"node100\" class=\"node\">\n<title>99</title>\n<polygon fill=\"#5eafea\" stroke=\"black\" points=\"6113,-53 6011,-53 6011,0 6113,0 6113,-53\"/>\n<text text-anchor=\"middle\" x=\"6062\" y=\"-37.8\" font-family=\"Helvetica,sans-Serif\" font-size=\"14.00\">gini = 0.266</text>\n<text text-anchor=\"middle\" x=\"6062\" y=\"-22.8\" font-family=\"Helvetica,sans-Serif\" font-size=\"14.00\">samples = 19</text>\n<text text-anchor=\"middle\" x=\"6062\" y=\"-7.8\" font-family=\"Helvetica,sans-Serif\" font-size=\"14.00\">value = [3, 16]</text>\n</g>\n<!-- 97&#45;&gt;99 -->\n<g id=\"edge99\" class=\"edge\">\n<title>97&#45;&gt;99</title>\n<path fill=\"none\" stroke=\"black\" d=\"M6062,-88.95C6062,-80.72 6062,-71.85 6062,-63.48\"/>\n<polygon fill=\"black\" stroke=\"black\" points=\"6065.5,-63.24 6062,-53.24 6058.5,-63.24 6065.5,-63.24\"/>\n</g>\n<!-- 101 -->\n<g id=\"node102\" class=\"node\">\n<title>101</title>\n<polygon fill=\"#ffffff\" stroke=\"black\" points=\"6226.5,-53 6131.5,-53 6131.5,0 6226.5,0 6226.5,-53\"/>\n<text text-anchor=\"middle\" x=\"6179\" y=\"-37.8\" font-family=\"Helvetica,sans-Serif\" font-size=\"14.00\">gini = 0.5</text>\n<text text-anchor=\"middle\" x=\"6179\" y=\"-22.8\" font-family=\"Helvetica,sans-Serif\" font-size=\"14.00\">samples = 2</text>\n<text text-anchor=\"middle\" x=\"6179\" y=\"-7.8\" font-family=\"Helvetica,sans-Serif\" font-size=\"14.00\">value = [1, 1]</text>\n</g>\n<!-- 100&#45;&gt;101 -->\n<g id=\"edge101\" class=\"edge\">\n<title>100&#45;&gt;101</title>\n<path fill=\"none\" stroke=\"black\" d=\"M6218.01,-88.95C6212.44,-80.17 6206.41,-70.66 6200.79,-61.82\"/>\n<polygon fill=\"black\" stroke=\"black\" points=\"6203.66,-59.8 6195.34,-53.24 6197.75,-63.55 6203.66,-59.8\"/>\n</g>\n<!-- 102 -->\n<g id=\"node103\" class=\"node\">\n<title>102</title>\n<polygon fill=\"#399de5\" stroke=\"black\" points=\"6347,-53 6245,-53 6245,0 6347,0 6347,-53\"/>\n<text text-anchor=\"middle\" x=\"6296\" y=\"-37.8\" font-family=\"Helvetica,sans-Serif\" font-size=\"14.00\">gini = 0.0</text>\n<text text-anchor=\"middle\" x=\"6296\" y=\"-22.8\" font-family=\"Helvetica,sans-Serif\" font-size=\"14.00\">samples = 33</text>\n<text text-anchor=\"middle\" x=\"6296\" y=\"-7.8\" font-family=\"Helvetica,sans-Serif\" font-size=\"14.00\">value = [0, 33]</text>\n</g>\n<!-- 100&#45;&gt;102 -->\n<g id=\"edge102\" class=\"edge\">\n<title>100&#45;&gt;102</title>\n<path fill=\"none\" stroke=\"black\" d=\"M6258.94,-88.95C6264.23,-80.17 6269.97,-70.66 6275.3,-61.82\"/>\n<polygon fill=\"black\" stroke=\"black\" points=\"6278.31,-63.61 6280.48,-53.24 6272.31,-59.99 6278.31,-63.61\"/>\n</g>\n<!-- 104 -->\n<g id=\"node105\" class=\"node\">\n<title>104</title>\n<polygon fill=\"#a5d2f3\" stroke=\"black\" points=\"6546.5,-157 6421.5,-157 6421.5,-89 6546.5,-89 6546.5,-157\"/>\n<text text-anchor=\"middle\" x=\"6484\" y=\"-141.8\" font-family=\"Helvetica,sans-Serif\" font-size=\"14.00\">x[6] &lt;= 2041.0</text>\n<text text-anchor=\"middle\" x=\"6484\" y=\"-126.8\" font-family=\"Helvetica,sans-Serif\" font-size=\"14.00\">gini = 0.457</text>\n<text text-anchor=\"middle\" x=\"6484\" y=\"-111.8\" font-family=\"Helvetica,sans-Serif\" font-size=\"14.00\">samples = 516</text>\n<text text-anchor=\"middle\" x=\"6484\" y=\"-96.8\" font-family=\"Helvetica,sans-Serif\" font-size=\"14.00\">value = [182, 334]</text>\n</g>\n<!-- 103&#45;&gt;104 -->\n<g id=\"edge104\" class=\"edge\">\n<title>103&#45;&gt;104</title>\n<path fill=\"none\" stroke=\"black\" d=\"M6484,-192.88C6484,-184.78 6484,-175.98 6484,-167.47\"/>\n<polygon fill=\"black\" stroke=\"black\" points=\"6487.5,-167.3 6484,-157.3 6480.5,-167.3 6487.5,-167.3\"/>\n</g>\n<!-- 107 -->\n<g id=\"node108\" class=\"node\">\n<title>107</title>\n<polygon fill=\"#d8ecfa\" stroke=\"black\" points=\"6746.5,-157 6621.5,-157 6621.5,-89 6746.5,-89 6746.5,-157\"/>\n<text text-anchor=\"middle\" x=\"6684\" y=\"-141.8\" font-family=\"Helvetica,sans-Serif\" font-size=\"14.00\">x[6] &lt;= 886.5</text>\n<text text-anchor=\"middle\" x=\"6684\" y=\"-126.8\" font-family=\"Helvetica,sans-Serif\" font-size=\"14.00\">gini = 0.494</text>\n<text text-anchor=\"middle\" x=\"6684\" y=\"-111.8\" font-family=\"Helvetica,sans-Serif\" font-size=\"14.00\">samples = 550</text>\n<text text-anchor=\"middle\" x=\"6684\" y=\"-96.8\" font-family=\"Helvetica,sans-Serif\" font-size=\"14.00\">value = [245, 305]</text>\n</g>\n<!-- 103&#45;&gt;107 -->\n<g id=\"edge107\" class=\"edge\">\n<title>103&#45;&gt;107</title>\n<path fill=\"none\" stroke=\"black\" d=\"M6546.73,-194.01C6567.58,-183.37 6590.95,-171.45 6612.42,-160.51\"/>\n<polygon fill=\"black\" stroke=\"black\" points=\"6614.17,-163.54 6621.49,-155.88 6610.99,-157.31 6614.17,-163.54\"/>\n</g>\n<!-- 105 -->\n<g id=\"node106\" class=\"node\">\n<title>105</title>\n<polygon fill=\"#a0d0f3\" stroke=\"black\" points=\"6490.5,-53 6365.5,-53 6365.5,0 6490.5,0 6490.5,-53\"/>\n<text text-anchor=\"middle\" x=\"6428\" y=\"-37.8\" font-family=\"Helvetica,sans-Serif\" font-size=\"14.00\">gini = 0.45</text>\n<text text-anchor=\"middle\" x=\"6428\" y=\"-22.8\" font-family=\"Helvetica,sans-Serif\" font-size=\"14.00\">samples = 502</text>\n<text text-anchor=\"middle\" x=\"6428\" y=\"-7.8\" font-family=\"Helvetica,sans-Serif\" font-size=\"14.00\">value = [172, 330]</text>\n</g>\n<!-- 104&#45;&gt;105 -->\n<g id=\"edge105\" class=\"edge\">\n<title>104&#45;&gt;105</title>\n<path fill=\"none\" stroke=\"black\" d=\"M6464.41,-88.95C6459.26,-80.26 6453.7,-70.86 6448.5,-62.09\"/>\n<polygon fill=\"black\" stroke=\"black\" points=\"6451.36,-60.06 6443.25,-53.24 6445.34,-63.62 6451.36,-60.06\"/>\n</g>\n<!-- 106 -->\n<g id=\"node107\" class=\"node\">\n<title>106</title>\n<polygon fill=\"#efb388\" stroke=\"black\" points=\"6611,-53 6509,-53 6509,0 6611,0 6611,-53\"/>\n<text text-anchor=\"middle\" x=\"6560\" y=\"-37.8\" font-family=\"Helvetica,sans-Serif\" font-size=\"14.00\">gini = 0.408</text>\n<text text-anchor=\"middle\" x=\"6560\" y=\"-22.8\" font-family=\"Helvetica,sans-Serif\" font-size=\"14.00\">samples = 14</text>\n<text text-anchor=\"middle\" x=\"6560\" y=\"-7.8\" font-family=\"Helvetica,sans-Serif\" font-size=\"14.00\">value = [10, 4]</text>\n</g>\n<!-- 104&#45;&gt;106 -->\n<g id=\"edge106\" class=\"edge\">\n<title>104&#45;&gt;106</title>\n<path fill=\"none\" stroke=\"black\" d=\"M6510.58,-88.95C6517.79,-79.98 6525.61,-70.27 6532.85,-61.26\"/>\n<polygon fill=\"black\" stroke=\"black\" points=\"6535.76,-63.22 6539.3,-53.24 6530.31,-58.84 6535.76,-63.22\"/>\n</g>\n<!-- 108 -->\n<g id=\"node109\" class=\"node\">\n<title>108</title>\n<polygon fill=\"#fae9dc\" stroke=\"black\" points=\"6739,-53 6629,-53 6629,0 6739,0 6739,-53\"/>\n<text text-anchor=\"middle\" x=\"6684\" y=\"-37.8\" font-family=\"Helvetica,sans-Serif\" font-size=\"14.00\">gini = 0.495</text>\n<text text-anchor=\"middle\" x=\"6684\" y=\"-22.8\" font-family=\"Helvetica,sans-Serif\" font-size=\"14.00\">samples = 124</text>\n<text text-anchor=\"middle\" x=\"6684\" y=\"-7.8\" font-family=\"Helvetica,sans-Serif\" font-size=\"14.00\">value = [68, 56]</text>\n</g>\n<!-- 107&#45;&gt;108 -->\n<g id=\"edge108\" class=\"edge\">\n<title>107&#45;&gt;108</title>\n<path fill=\"none\" stroke=\"black\" d=\"M6684,-88.95C6684,-80.72 6684,-71.85 6684,-63.48\"/>\n<polygon fill=\"black\" stroke=\"black\" points=\"6687.5,-63.24 6684,-53.24 6680.5,-63.24 6687.5,-63.24\"/>\n</g>\n<!-- 109 -->\n<g id=\"node110\" class=\"node\">\n<title>109</title>\n<polygon fill=\"#c6e3f7\" stroke=\"black\" points=\"6882.5,-53 6757.5,-53 6757.5,0 6882.5,0 6882.5,-53\"/>\n<text text-anchor=\"middle\" x=\"6820\" y=\"-37.8\" font-family=\"Helvetica,sans-Serif\" font-size=\"14.00\">gini = 0.486</text>\n<text text-anchor=\"middle\" x=\"6820\" y=\"-22.8\" font-family=\"Helvetica,sans-Serif\" font-size=\"14.00\">samples = 426</text>\n<text text-anchor=\"middle\" x=\"6820\" y=\"-7.8\" font-family=\"Helvetica,sans-Serif\" font-size=\"14.00\">value = [177, 249]</text>\n</g>\n<!-- 107&#45;&gt;109 -->\n<g id=\"edge109\" class=\"edge\">\n<title>107&#45;&gt;109</title>\n<path fill=\"none\" stroke=\"black\" d=\"M6731.57,-88.95C6745.52,-79.25 6760.74,-68.68 6774.56,-59.07\"/>\n<polygon fill=\"black\" stroke=\"black\" points=\"6776.75,-61.82 6782.96,-53.24 6772.75,-56.07 6776.75,-61.82\"/>\n</g>\n<!-- 111 -->\n<g id=\"node112\" class=\"node\">\n<title>111</title>\n<polygon fill=\"#f4ccae\" stroke=\"black\" points=\"7193.5,-261 7076.5,-261 7076.5,-193 7193.5,-193 7193.5,-261\"/>\n<text text-anchor=\"middle\" x=\"7135\" y=\"-245.8\" font-family=\"Helvetica,sans-Serif\" font-size=\"14.00\">x[5] &lt;= 13.0</text>\n<text text-anchor=\"middle\" x=\"7135\" y=\"-230.8\" font-family=\"Helvetica,sans-Serif\" font-size=\"14.00\">gini = 0.467</text>\n<text text-anchor=\"middle\" x=\"7135\" y=\"-215.8\" font-family=\"Helvetica,sans-Serif\" font-size=\"14.00\">samples = 172</text>\n<text text-anchor=\"middle\" x=\"7135\" y=\"-200.8\" font-family=\"Helvetica,sans-Serif\" font-size=\"14.00\">value = [108, 64]</text>\n</g>\n<!-- 110&#45;&gt;111 -->\n<g id=\"edge111\" class=\"edge\">\n<title>110&#45;&gt;111</title>\n<path fill=\"none\" stroke=\"black\" d=\"M7135,-296.88C7135,-288.78 7135,-279.98 7135,-271.47\"/>\n<polygon fill=\"black\" stroke=\"black\" points=\"7138.5,-271.3 7135,-261.3 7131.5,-271.3 7138.5,-271.3\"/>\n</g>\n<!-- 118 -->\n<g id=\"node119\" class=\"node\">\n<title>118</title>\n<polygon fill=\"#eaf4fc\" stroke=\"black\" points=\"7564.5,-261 7439.5,-261 7439.5,-193 7564.5,-193 7564.5,-261\"/>\n<text text-anchor=\"middle\" x=\"7502\" y=\"-245.8\" font-family=\"Helvetica,sans-Serif\" font-size=\"14.00\">x[4] &lt;= 29.5</text>\n<text text-anchor=\"middle\" x=\"7502\" y=\"-230.8\" font-family=\"Helvetica,sans-Serif\" font-size=\"14.00\">gini = 0.498</text>\n<text text-anchor=\"middle\" x=\"7502\" y=\"-215.8\" font-family=\"Helvetica,sans-Serif\" font-size=\"14.00\">samples = 212</text>\n<text text-anchor=\"middle\" x=\"7502\" y=\"-200.8\" font-family=\"Helvetica,sans-Serif\" font-size=\"14.00\">value = [100, 112]</text>\n</g>\n<!-- 110&#45;&gt;118 -->\n<g id=\"edge118\" class=\"edge\">\n<title>110&#45;&gt;118</title>\n<path fill=\"none\" stroke=\"black\" d=\"M7197.67,-312.58C7261.97,-294.71 7361.89,-266.94 7429.54,-248.14\"/>\n<polygon fill=\"black\" stroke=\"black\" points=\"7430.58,-251.48 7439.28,-245.43 7428.71,-244.74 7430.58,-251.48\"/>\n</g>\n<!-- 112 -->\n<g id=\"node113\" class=\"node\">\n<title>112</title>\n<polygon fill=\"#fefaf7\" stroke=\"black\" points=\"7126,-157 7016,-157 7016,-89 7126,-89 7126,-157\"/>\n<text text-anchor=\"middle\" x=\"7071\" y=\"-141.8\" font-family=\"Helvetica,sans-Serif\" font-size=\"14.00\">x[4] &lt;= 18.5</text>\n<text text-anchor=\"middle\" x=\"7071\" y=\"-126.8\" font-family=\"Helvetica,sans-Serif\" font-size=\"14.00\">gini = 0.5</text>\n<text text-anchor=\"middle\" x=\"7071\" y=\"-111.8\" font-family=\"Helvetica,sans-Serif\" font-size=\"14.00\">samples = 51</text>\n<text text-anchor=\"middle\" x=\"7071\" y=\"-96.8\" font-family=\"Helvetica,sans-Serif\" font-size=\"14.00\">value = [26, 25]</text>\n</g>\n<!-- 111&#45;&gt;112 -->\n<g id=\"edge112\" class=\"edge\">\n<title>111&#45;&gt;112</title>\n<path fill=\"none\" stroke=\"black\" d=\"M7114.22,-192.88C7108.8,-184.24 7102.89,-174.82 7097.22,-165.79\"/>\n<polygon fill=\"black\" stroke=\"black\" points=\"7100.17,-163.91 7091.89,-157.3 7094.24,-167.63 7100.17,-163.91\"/>\n</g>\n<!-- 115 -->\n<g id=\"node116\" class=\"node\">\n<title>115</title>\n<polygon fill=\"#f1bd97\" stroke=\"black\" points=\"7254,-157 7144,-157 7144,-89 7254,-89 7254,-157\"/>\n<text text-anchor=\"middle\" x=\"7199\" y=\"-141.8\" font-family=\"Helvetica,sans-Serif\" font-size=\"14.00\">x[0] &lt;= 24.5</text>\n<text text-anchor=\"middle\" x=\"7199\" y=\"-126.8\" font-family=\"Helvetica,sans-Serif\" font-size=\"14.00\">gini = 0.437</text>\n<text text-anchor=\"middle\" x=\"7199\" y=\"-111.8\" font-family=\"Helvetica,sans-Serif\" font-size=\"14.00\">samples = 121</text>\n<text text-anchor=\"middle\" x=\"7199\" y=\"-96.8\" font-family=\"Helvetica,sans-Serif\" font-size=\"14.00\">value = [82, 39]</text>\n</g>\n<!-- 111&#45;&gt;115 -->\n<g id=\"edge115\" class=\"edge\">\n<title>111&#45;&gt;115</title>\n<path fill=\"none\" stroke=\"black\" d=\"M7155.78,-192.88C7161.2,-184.24 7167.11,-174.82 7172.78,-165.79\"/>\n<polygon fill=\"black\" stroke=\"black\" points=\"7175.76,-167.63 7178.11,-157.3 7169.83,-163.91 7175.76,-167.63\"/>\n</g>\n<!-- 113 -->\n<g id=\"node114\" class=\"node\">\n<title>113</title>\n<polygon fill=\"#f7dac5\" stroke=\"black\" points=\"7011,-53 6901,-53 6901,0 7011,0 7011,-53\"/>\n<text text-anchor=\"middle\" x=\"6956\" y=\"-37.8\" font-family=\"Helvetica,sans-Serif\" font-size=\"14.00\">gini = 0.485</text>\n<text text-anchor=\"middle\" x=\"6956\" y=\"-22.8\" font-family=\"Helvetica,sans-Serif\" font-size=\"14.00\">samples = 41</text>\n<text text-anchor=\"middle\" x=\"6956\" y=\"-7.8\" font-family=\"Helvetica,sans-Serif\" font-size=\"14.00\">value = [24, 17]</text>\n</g>\n<!-- 112&#45;&gt;113 -->\n<g id=\"edge113\" class=\"edge\">\n<title>112&#45;&gt;113</title>\n<path fill=\"none\" stroke=\"black\" d=\"M7030.78,-88.95C7019.2,-79.43 7006.59,-69.07 6995.08,-59.62\"/>\n<polygon fill=\"black\" stroke=\"black\" points=\"6997.27,-56.88 6987.32,-53.24 6992.82,-62.29 6997.27,-56.88\"/>\n</g>\n<!-- 114 -->\n<g id=\"node115\" class=\"node\">\n<title>114</title>\n<polygon fill=\"#6ab6ec\" stroke=\"black\" points=\"7127,-53 7029,-53 7029,0 7127,0 7127,-53\"/>\n<text text-anchor=\"middle\" x=\"7078\" y=\"-37.8\" font-family=\"Helvetica,sans-Serif\" font-size=\"14.00\">gini = 0.32</text>\n<text text-anchor=\"middle\" x=\"7078\" y=\"-22.8\" font-family=\"Helvetica,sans-Serif\" font-size=\"14.00\">samples = 10</text>\n<text text-anchor=\"middle\" x=\"7078\" y=\"-7.8\" font-family=\"Helvetica,sans-Serif\" font-size=\"14.00\">value = [2, 8]</text>\n</g>\n<!-- 112&#45;&gt;114 -->\n<g id=\"edge114\" class=\"edge\">\n<title>112&#45;&gt;114</title>\n<path fill=\"none\" stroke=\"black\" d=\"M7073.45,-88.95C7074.06,-80.72 7074.71,-71.85 7075.33,-63.48\"/>\n<polygon fill=\"black\" stroke=\"black\" points=\"7078.85,-63.47 7076.09,-53.24 7071.86,-62.95 7078.85,-63.47\"/>\n</g>\n<!-- 116 -->\n<g id=\"node117\" class=\"node\">\n<title>116</title>\n<polygon fill=\"#6ab6ec\" stroke=\"black\" points=\"7240.5,-53 7145.5,-53 7145.5,0 7240.5,0 7240.5,-53\"/>\n<text text-anchor=\"middle\" x=\"7193\" y=\"-37.8\" font-family=\"Helvetica,sans-Serif\" font-size=\"14.00\">gini = 0.32</text>\n<text text-anchor=\"middle\" x=\"7193\" y=\"-22.8\" font-family=\"Helvetica,sans-Serif\" font-size=\"14.00\">samples = 5</text>\n<text text-anchor=\"middle\" x=\"7193\" y=\"-7.8\" font-family=\"Helvetica,sans-Serif\" font-size=\"14.00\">value = [1, 4]</text>\n</g>\n<!-- 115&#45;&gt;116 -->\n<g id=\"edge116\" class=\"edge\">\n<title>115&#45;&gt;116</title>\n<path fill=\"none\" stroke=\"black\" d=\"M7196.9,-88.95C7196.38,-80.72 7195.82,-71.85 7195.28,-63.48\"/>\n<polygon fill=\"black\" stroke=\"black\" points=\"7198.76,-62.99 7194.63,-53.24 7191.77,-63.44 7198.76,-62.99\"/>\n</g>\n<!-- 117 -->\n<g id=\"node118\" class=\"node\">\n<title>117</title>\n<polygon fill=\"#f0b78f\" stroke=\"black\" points=\"7369,-53 7259,-53 7259,0 7369,0 7369,-53\"/>\n<text text-anchor=\"middle\" x=\"7314\" y=\"-37.8\" font-family=\"Helvetica,sans-Serif\" font-size=\"14.00\">gini = 0.421</text>\n<text text-anchor=\"middle\" x=\"7314\" y=\"-22.8\" font-family=\"Helvetica,sans-Serif\" font-size=\"14.00\">samples = 116</text>\n<text text-anchor=\"middle\" x=\"7314\" y=\"-7.8\" font-family=\"Helvetica,sans-Serif\" font-size=\"14.00\">value = [81, 35]</text>\n</g>\n<!-- 115&#45;&gt;117 -->\n<g id=\"edge117\" class=\"edge\">\n<title>115&#45;&gt;117</title>\n<path fill=\"none\" stroke=\"black\" d=\"M7239.22,-88.95C7250.8,-79.43 7263.41,-69.07 7274.92,-59.62\"/>\n<polygon fill=\"black\" stroke=\"black\" points=\"7277.18,-62.29 7282.68,-53.24 7272.73,-56.88 7277.18,-62.29\"/>\n</g>\n<!-- 119 -->\n<g id=\"node120\" class=\"node\">\n<title>119</title>\n<polygon fill=\"#f4f9fe\" stroke=\"black\" points=\"7560.5,-157 7443.5,-157 7443.5,-89 7560.5,-89 7560.5,-157\"/>\n<text text-anchor=\"middle\" x=\"7502\" y=\"-141.8\" font-family=\"Helvetica,sans-Serif\" font-size=\"14.00\">x[7] &lt;= 11.5</text>\n<text text-anchor=\"middle\" x=\"7502\" y=\"-126.8\" font-family=\"Helvetica,sans-Serif\" font-size=\"14.00\">gini = 0.5</text>\n<text text-anchor=\"middle\" x=\"7502\" y=\"-111.8\" font-family=\"Helvetica,sans-Serif\" font-size=\"14.00\">samples = 204</text>\n<text text-anchor=\"middle\" x=\"7502\" y=\"-96.8\" font-family=\"Helvetica,sans-Serif\" font-size=\"14.00\">value = [99, 105]</text>\n</g>\n<!-- 118&#45;&gt;119 -->\n<g id=\"edge119\" class=\"edge\">\n<title>118&#45;&gt;119</title>\n<path fill=\"none\" stroke=\"black\" d=\"M7502,-192.88C7502,-184.78 7502,-175.98 7502,-167.47\"/>\n<polygon fill=\"black\" stroke=\"black\" points=\"7505.5,-167.3 7502,-157.3 7498.5,-167.3 7505.5,-167.3\"/>\n</g>\n<!-- 122 -->\n<g id=\"node123\" class=\"node\">\n<title>122</title>\n<polygon fill=\"#55abe9\" stroke=\"black\" points=\"7730.5,-157 7635.5,-157 7635.5,-89 7730.5,-89 7730.5,-157\"/>\n<text text-anchor=\"middle\" x=\"7683\" y=\"-141.8\" font-family=\"Helvetica,sans-Serif\" font-size=\"14.00\">x[3] &lt;= 1.0</text>\n<text text-anchor=\"middle\" x=\"7683\" y=\"-126.8\" font-family=\"Helvetica,sans-Serif\" font-size=\"14.00\">gini = 0.219</text>\n<text text-anchor=\"middle\" x=\"7683\" y=\"-111.8\" font-family=\"Helvetica,sans-Serif\" font-size=\"14.00\">samples = 8</text>\n<text text-anchor=\"middle\" x=\"7683\" y=\"-96.8\" font-family=\"Helvetica,sans-Serif\" font-size=\"14.00\">value = [1, 7]</text>\n</g>\n<!-- 118&#45;&gt;122 -->\n<g id=\"edge122\" class=\"edge\">\n<title>118&#45;&gt;122</title>\n<path fill=\"none\" stroke=\"black\" d=\"M7560.77,-192.88C7581.9,-180.97 7605.68,-167.57 7626.61,-155.78\"/>\n<polygon fill=\"black\" stroke=\"black\" points=\"7628.39,-158.79 7635.39,-150.83 7624.96,-152.69 7628.39,-158.79\"/>\n</g>\n<!-- 120 -->\n<g id=\"node121\" class=\"node\">\n<title>120</title>\n<polygon fill=\"#ecf6fd\" stroke=\"black\" points=\"7504.5,-53 7387.5,-53 7387.5,0 7504.5,0 7504.5,-53\"/>\n<text text-anchor=\"middle\" x=\"7446\" y=\"-37.8\" font-family=\"Helvetica,sans-Serif\" font-size=\"14.00\">gini = 0.499</text>\n<text text-anchor=\"middle\" x=\"7446\" y=\"-22.8\" font-family=\"Helvetica,sans-Serif\" font-size=\"14.00\">samples = 200</text>\n<text text-anchor=\"middle\" x=\"7446\" y=\"-7.8\" font-family=\"Helvetica,sans-Serif\" font-size=\"14.00\">value = [95, 105]</text>\n</g>\n<!-- 119&#45;&gt;120 -->\n<g id=\"edge120\" class=\"edge\">\n<title>119&#45;&gt;120</title>\n<path fill=\"none\" stroke=\"black\" d=\"M7482.41,-88.95C7477.26,-80.26 7471.7,-70.86 7466.5,-62.09\"/>\n<polygon fill=\"black\" stroke=\"black\" points=\"7469.36,-60.06 7461.25,-53.24 7463.34,-63.62 7469.36,-60.06\"/>\n</g>\n<!-- 121 -->\n<g id=\"node122\" class=\"node\">\n<title>121</title>\n<polygon fill=\"#e58139\" stroke=\"black\" points=\"7617.5,-53 7522.5,-53 7522.5,0 7617.5,0 7617.5,-53\"/>\n<text text-anchor=\"middle\" x=\"7570\" y=\"-37.8\" font-family=\"Helvetica,sans-Serif\" font-size=\"14.00\">gini = 0.0</text>\n<text text-anchor=\"middle\" x=\"7570\" y=\"-22.8\" font-family=\"Helvetica,sans-Serif\" font-size=\"14.00\">samples = 4</text>\n<text text-anchor=\"middle\" x=\"7570\" y=\"-7.8\" font-family=\"Helvetica,sans-Serif\" font-size=\"14.00\">value = [4, 0]</text>\n</g>\n<!-- 119&#45;&gt;121 -->\n<g id=\"edge121\" class=\"edge\">\n<title>119&#45;&gt;121</title>\n<path fill=\"none\" stroke=\"black\" d=\"M7525.78,-88.95C7532.17,-80.07 7539.08,-70.46 7545.51,-61.54\"/>\n<polygon fill=\"black\" stroke=\"black\" points=\"7548.48,-63.4 7551.48,-53.24 7542.8,-59.31 7548.48,-63.4\"/>\n</g>\n<!-- 123 -->\n<g id=\"node124\" class=\"node\">\n<title>123</title>\n<polygon fill=\"#e58139\" stroke=\"black\" points=\"7730.5,-53 7635.5,-53 7635.5,0 7730.5,0 7730.5,-53\"/>\n<text text-anchor=\"middle\" x=\"7683\" y=\"-37.8\" font-family=\"Helvetica,sans-Serif\" font-size=\"14.00\">gini = 0.0</text>\n<text text-anchor=\"middle\" x=\"7683\" y=\"-22.8\" font-family=\"Helvetica,sans-Serif\" font-size=\"14.00\">samples = 1</text>\n<text text-anchor=\"middle\" x=\"7683\" y=\"-7.8\" font-family=\"Helvetica,sans-Serif\" font-size=\"14.00\">value = [1, 0]</text>\n</g>\n<!-- 122&#45;&gt;123 -->\n<g id=\"edge123\" class=\"edge\">\n<title>122&#45;&gt;123</title>\n<path fill=\"none\" stroke=\"black\" d=\"M7683,-88.95C7683,-80.72 7683,-71.85 7683,-63.48\"/>\n<polygon fill=\"black\" stroke=\"black\" points=\"7686.5,-63.24 7683,-53.24 7679.5,-63.24 7686.5,-63.24\"/>\n</g>\n<!-- 124 -->\n<g id=\"node125\" class=\"node\">\n<title>124</title>\n<polygon fill=\"#399de5\" stroke=\"black\" points=\"7843.5,-53 7748.5,-53 7748.5,0 7843.5,0 7843.5,-53\"/>\n<text text-anchor=\"middle\" x=\"7796\" y=\"-37.8\" font-family=\"Helvetica,sans-Serif\" font-size=\"14.00\">gini = 0.0</text>\n<text text-anchor=\"middle\" x=\"7796\" y=\"-22.8\" font-family=\"Helvetica,sans-Serif\" font-size=\"14.00\">samples = 7</text>\n<text text-anchor=\"middle\" x=\"7796\" y=\"-7.8\" font-family=\"Helvetica,sans-Serif\" font-size=\"14.00\">value = [0, 7]</text>\n</g>\n<!-- 122&#45;&gt;124 -->\n<g id=\"edge124\" class=\"edge\">\n<title>122&#45;&gt;124</title>\n<path fill=\"none\" stroke=\"black\" d=\"M7722.52,-88.95C7733.79,-79.53 7746.05,-69.27 7757.27,-59.89\"/>\n<polygon fill=\"black\" stroke=\"black\" points=\"7759.8,-62.34 7765.22,-53.24 7755.31,-56.97 7759.8,-62.34\"/>\n</g>\n</g>\n</svg>\n"
          },
          "metadata": {},
          "execution_count": 54
        },
        {
          "output_type": "display_data",
          "data": {
            "text/plain": [
              "<Figure size 1440x1800 with 0 Axes>"
            ]
          },
          "metadata": {}
        }
      ]
    },
    {
      "cell_type": "markdown",
      "source": [
        "## 4) Random forest classifier"
      ],
      "metadata": {
        "id": "Va949vAwe4pF"
      }
    },
    {
      "cell_type": "markdown",
      "source": [
        "To choose the best value of no of estimators and max depth for the model."
      ],
      "metadata": {
        "id": "wD8dfh5RhPWz"
      }
    },
    {
      "cell_type": "code",
      "source": [
        "best_depth=np.arange(1,20)\n",
        "cross_vals_rf=[]\n",
        "for depth in best_depth:\n",
        "    rf=RandomForestClassifier(max_depth=depth,random_state=0)\n",
        "    rf.fit(x_train,y_train)\n",
        "    cv_score=cross_val_score(rf,x_train,y_train,cv=15).mean()\n",
        "    cross_vals_rf.append(cv_score)\n",
        "    print(\"Max depth: {}, model score: {}, cross validation score: {}\".format(depth,rf.score(x_train,y_train),cv_score))\n"
      ],
      "metadata": {
        "colab": {
          "base_uri": "https://localhost:8080/"
        },
        "id": "3JrTa6STbMFL",
        "outputId": "0135e2b4-de31-4096-b189-ae394beed560"
      },
      "execution_count": null,
      "outputs": [
        {
          "output_type": "stream",
          "name": "stdout",
          "text": [
            "Max depth: 1, model score: 0.88355823470855, cross validation score: 0.8835582418754979\n",
            "Max depth: 2, model score: 0.8840559672602588, cross validation score: 0.8840006815236531\n",
            "Max depth: 3, model score: 0.8907477048999004, cross validation score: 0.8903330229761816\n",
            "Max depth: 4, model score: 0.8925727242561664, cross validation score: 0.8923516065428565\n",
            "Max depth: 5, model score: 0.8968587545625484, cross validation score: 0.8957526505131793\n",
            "Max depth: 6, model score: 0.9006747041256499, cross validation score: 0.8976606757983951\n",
            "Max depth: 7, model score: 0.9093297201636987, cross validation score: 0.9008682313027028\n",
            "Max depth: 8, model score: 0.9155237252516315, cross validation score: 0.9033570088225189\n",
            "Max depth: 9, model score: 0.9226855436345537, cross validation score: 0.9054860933033417\n",
            "Max depth: 10, model score: 0.9282988607454927, cross validation score: 0.9049330265329549\n",
            "Max depth: 11, model score: 0.9351841610441323, cross validation score: 0.9049054902237498\n",
            "Max depth: 12, model score: 0.9429819710209048, cross validation score: 0.9067581331070769\n",
            "Max depth: 13, model score: 0.950143789403827, cross validation score: 0.9065923186318124\n",
            "Max depth: 14, model score: 0.9575268222541754, cross validation score: 0.9057351247997165\n",
            "Max depth: 15, model score: 0.9635549164915386, cross validation score: 0.9059563331503316\n",
            "Max depth: 16, model score: 0.9699701360468974, cross validation score: 0.9053203017750019\n",
            "Max depth: 17, model score: 0.97552814954098, cross validation score: 0.9059563446237938\n",
            "Max depth: 18, model score: 0.9813073775024886, cross validation score: 0.9053203017750021\n",
            "Max depth: 19, model score: 0.9863400066364341, cross validation score: 0.9051268592028353\n"
          ]
        }
      ]
    },
    {
      "cell_type": "markdown",
      "source": [
        "In this case we can see that the maximum cross validation score falls on max depth = 12 and the model score also considerably good. Hence we will go with this."
      ],
      "metadata": {
        "id": "c9a6nj2Vx0Kn"
      }
    },
    {
      "cell_type": "code",
      "source": [
        "rf_model=RandomForestClassifier(max_depth=12,random_state=0)\n",
        "rf_model.fit(x_train,y_train)"
      ],
      "metadata": {
        "colab": {
          "base_uri": "https://localhost:8080/",
          "height": 74
        },
        "id": "Rv7SPsX9xqIs",
        "outputId": "1a2e524b-4c7f-4ba9-adb6-d278ee698fd8"
      },
      "execution_count": null,
      "outputs": [
        {
          "output_type": "execute_result",
          "data": {
            "text/plain": [
              "RandomForestClassifier(max_depth=12, random_state=0)"
            ],
            "text/html": [
              "<style>#sk-container-id-4 {color: black;background-color: white;}#sk-container-id-4 pre{padding: 0;}#sk-container-id-4 div.sk-toggleable {background-color: white;}#sk-container-id-4 label.sk-toggleable__label {cursor: pointer;display: block;width: 100%;margin-bottom: 0;padding: 0.3em;box-sizing: border-box;text-align: center;}#sk-container-id-4 label.sk-toggleable__label-arrow:before {content: \"▸\";float: left;margin-right: 0.25em;color: #696969;}#sk-container-id-4 label.sk-toggleable__label-arrow:hover:before {color: black;}#sk-container-id-4 div.sk-estimator:hover label.sk-toggleable__label-arrow:before {color: black;}#sk-container-id-4 div.sk-toggleable__content {max-height: 0;max-width: 0;overflow: hidden;text-align: left;background-color: #f0f8ff;}#sk-container-id-4 div.sk-toggleable__content pre {margin: 0.2em;color: black;border-radius: 0.25em;background-color: #f0f8ff;}#sk-container-id-4 input.sk-toggleable__control:checked~div.sk-toggleable__content {max-height: 200px;max-width: 100%;overflow: auto;}#sk-container-id-4 input.sk-toggleable__control:checked~label.sk-toggleable__label-arrow:before {content: \"▾\";}#sk-container-id-4 div.sk-estimator input.sk-toggleable__control:checked~label.sk-toggleable__label {background-color: #d4ebff;}#sk-container-id-4 div.sk-label input.sk-toggleable__control:checked~label.sk-toggleable__label {background-color: #d4ebff;}#sk-container-id-4 input.sk-hidden--visually {border: 0;clip: rect(1px 1px 1px 1px);clip: rect(1px, 1px, 1px, 1px);height: 1px;margin: -1px;overflow: hidden;padding: 0;position: absolute;width: 1px;}#sk-container-id-4 div.sk-estimator {font-family: monospace;background-color: #f0f8ff;border: 1px dotted black;border-radius: 0.25em;box-sizing: border-box;margin-bottom: 0.5em;}#sk-container-id-4 div.sk-estimator:hover {background-color: #d4ebff;}#sk-container-id-4 div.sk-parallel-item::after {content: \"\";width: 100%;border-bottom: 1px solid gray;flex-grow: 1;}#sk-container-id-4 div.sk-label:hover label.sk-toggleable__label {background-color: #d4ebff;}#sk-container-id-4 div.sk-serial::before {content: \"\";position: absolute;border-left: 1px solid gray;box-sizing: border-box;top: 0;bottom: 0;left: 50%;z-index: 0;}#sk-container-id-4 div.sk-serial {display: flex;flex-direction: column;align-items: center;background-color: white;padding-right: 0.2em;padding-left: 0.2em;position: relative;}#sk-container-id-4 div.sk-item {position: relative;z-index: 1;}#sk-container-id-4 div.sk-parallel {display: flex;align-items: stretch;justify-content: center;background-color: white;position: relative;}#sk-container-id-4 div.sk-item::before, #sk-container-id-4 div.sk-parallel-item::before {content: \"\";position: absolute;border-left: 1px solid gray;box-sizing: border-box;top: 0;bottom: 0;left: 50%;z-index: -1;}#sk-container-id-4 div.sk-parallel-item {display: flex;flex-direction: column;z-index: 1;position: relative;background-color: white;}#sk-container-id-4 div.sk-parallel-item:first-child::after {align-self: flex-end;width: 50%;}#sk-container-id-4 div.sk-parallel-item:last-child::after {align-self: flex-start;width: 50%;}#sk-container-id-4 div.sk-parallel-item:only-child::after {width: 0;}#sk-container-id-4 div.sk-dashed-wrapped {border: 1px dashed gray;margin: 0 0.4em 0.5em 0.4em;box-sizing: border-box;padding-bottom: 0.4em;background-color: white;}#sk-container-id-4 div.sk-label label {font-family: monospace;font-weight: bold;display: inline-block;line-height: 1.2em;}#sk-container-id-4 div.sk-label-container {text-align: center;}#sk-container-id-4 div.sk-container {/* jupyter's `normalize.less` sets `[hidden] { display: none; }` but bootstrap.min.css set `[hidden] { display: none !important; }` so we also need the `!important` here to be able to override the default hidden behavior on the sphinx rendered scikit-learn.org. See: https://github.com/scikit-learn/scikit-learn/issues/21755 */display: inline-block !important;position: relative;}#sk-container-id-4 div.sk-text-repr-fallback {display: none;}</style><div id=\"sk-container-id-4\" class=\"sk-top-container\"><div class=\"sk-text-repr-fallback\"><pre>RandomForestClassifier(max_depth=12, random_state=0)</pre><b>In a Jupyter environment, please rerun this cell to show the HTML representation or trust the notebook. <br />On GitHub, the HTML representation is unable to render, please try loading this page with nbviewer.org.</b></div><div class=\"sk-container\" hidden><div class=\"sk-item\"><div class=\"sk-estimator sk-toggleable\"><input class=\"sk-toggleable__control sk-hidden--visually\" id=\"sk-estimator-id-4\" type=\"checkbox\" checked><label for=\"sk-estimator-id-4\" class=\"sk-toggleable__label sk-toggleable__label-arrow\">RandomForestClassifier</label><div class=\"sk-toggleable__content\"><pre>RandomForestClassifier(max_depth=12, random_state=0)</pre></div></div></div></div></div>"
            ]
          },
          "metadata": {},
          "execution_count": 42
        }
      ]
    },
    {
      "cell_type": "code",
      "source": [
        "rf_predict_test=rf_model.predict(x_test)\n",
        "cross_val_rf_model=cross_val_score(rf_model,x_train,y_train,cv=15).mean()\n",
        "cross_val_rf_model"
      ],
      "metadata": {
        "colab": {
          "base_uri": "https://localhost:8080/"
        },
        "id": "bKWooLc4ydOD",
        "outputId": "f1bcfecd-e24f-41ec-988a-0de6a2aacdce"
      },
      "execution_count": null,
      "outputs": [
        {
          "output_type": "execute_result",
          "data": {
            "text/plain": [
              "0.9067581331070769"
            ]
          },
          "metadata": {},
          "execution_count": 43
        }
      ]
    },
    {
      "cell_type": "code",
      "source": [
        "print(classification_report(y_test,rf_predict_test))"
      ],
      "metadata": {
        "colab": {
          "base_uri": "https://localhost:8080/"
        },
        "id": "csG-BImXy4fP",
        "outputId": "42d9f5a9-0a6a-4089-e2d2-37ed0c563fc7"
      },
      "execution_count": null,
      "outputs": [
        {
          "output_type": "stream",
          "name": "stdout",
          "text": [
            "              precision    recall  f1-score   support\n",
            "\n",
            "          no       0.92      0.97      0.95      7963\n",
            "         yes       0.66      0.39      0.49      1078\n",
            "\n",
            "    accuracy                           0.90      9041\n",
            "   macro avg       0.79      0.68      0.72      9041\n",
            "weighted avg       0.89      0.90      0.89      9041\n",
            "\n"
          ]
        }
      ]
    },
    {
      "cell_type": "code",
      "source": [
        "cm4=confusion_matrix(y_test,rf_predict_test)\n",
        "cm4"
      ],
      "metadata": {
        "colab": {
          "base_uri": "https://localhost:8080/"
        },
        "id": "gc1vA3ssy_1Z",
        "outputId": "732f64e4-1c53-4eef-8000-4e882bffe427"
      },
      "execution_count": null,
      "outputs": [
        {
          "output_type": "execute_result",
          "data": {
            "text/plain": [
              "array([[7740,  223],\n",
              "       [ 654,  424]])"
            ]
          },
          "metadata": {},
          "execution_count": 67
        }
      ]
    },
    {
      "cell_type": "code",
      "source": [
        "ConfusionMatrixDisplay(cm4).plot()"
      ],
      "metadata": {
        "colab": {
          "base_uri": "https://localhost:8080/",
          "height": 296
        },
        "id": "RbEYfZVazFQV",
        "outputId": "a0392fde-9909-4e1c-b1a0-26c1fbea26b7"
      },
      "execution_count": null,
      "outputs": [
        {
          "output_type": "execute_result",
          "data": {
            "text/plain": [
              "<sklearn.metrics._plot.confusion_matrix.ConfusionMatrixDisplay at 0x7f290c86dcd0>"
            ]
          },
          "metadata": {},
          "execution_count": 68
        },
        {
          "output_type": "display_data",
          "data": {
            "text/plain": [
              "<Figure size 432x288 with 2 Axes>"
            ],
            "image/png": "[encoded data removed]"
          },
          "metadata": {
            "needs_background": "light"
          }
        }
      ]
    },
    {
      "cell_type": "markdown",
      "source": [
        "## 5) Extreme Gradient Boosting Classifier"
      ],
      "metadata": {
        "id": "ulmzcXVCP2tY"
      }
    },
    {
      "cell_type": "markdown",
      "source": [
        "Before feeding dependant varible (target feature) into XGB model, we need to encode it to integer format."
      ],
      "metadata": {
        "id": "Xg_LF0kWTOHg"
      }
    },
    {
      "cell_type": "code",
      "source": [
        "encoded_ytrain=y_train.map({'yes':1,'no':0})\n",
        "encoded_ytest=y_test.map({'yes':1,'no':0})"
      ],
      "metadata": {
        "id": "7jYnJKOQSgOc"
      },
      "execution_count": null,
      "outputs": []
    },
    {
      "cell_type": "code",
      "source": [
        "cross_vals_xgb=[]\n",
        "for lr in [0.01,0.05,0.08,0.09,0.1,0.11,0.12,0.13,0.15,0.18,0.2,0.25,0.3]:\n",
        "  xgb=XGBClassifier(learning_rate=lr,max_depth=5,n_estimators=1000,colsample_bytree=0.8)\n",
        "  xgb.fit(x_train,encoded_ytrain)\n",
        "  cv_score=cross_val_score(xgb,x_train,encoded_ytrain,cv=15).mean()\n",
        "  cross_vals_xgb.append(cv_score)\n",
        "  print('Learning rate: {}, model score: {}, cross validation score: {}'.format(lr,xgb.score(x_train,encoded_ytrain),cv_score))"
      ],
      "metadata": {
        "colab": {
          "base_uri": "https://localhost:8080/"
        },
        "id": "_ASJl51xPcrq",
        "outputId": "bd31729a-f3c3-444d-ad93-d919670091e9"
      },
      "execution_count": null,
      "outputs": [
        {
          "output_type": "stream",
          "name": "stdout",
          "text": [
            "Learning rate: 0.01, model score: 0.9197268001327287, cross validation score: 0.9085555312700605\n",
            "Learning rate: 0.05, model score: 0.9436179626147551, cross validation score: 0.9077257934329345\n",
            "Learning rate: 0.08, model score: 0.9536279172657892, cross validation score: 0.9071175507829777\n",
            "Learning rate: 0.09, model score: 0.9571120451277514, cross validation score: 0.9068688290700816\n",
            "Learning rate: 0.1, model score: 0.9593794934188696, cross validation score: 0.9065368788626127\n",
            "Learning rate: 0.11, model score: 0.9624488441544077, cross validation score: 0.9056520339866895\n",
            "Learning rate: 0.12, model score: 0.9633613538325406, cross validation score: 0.9060944392144579\n",
            "Learning rate: 0.13, model score: 0.9676750359473509, cross validation score: 0.9050991048978487\n",
            "Learning rate: 0.15, model score: 0.9711591638093131, cross validation score: 0.9057903465731351\n",
            "Learning rate: 0.18, model score: 0.976551266452826, cross validation score: 0.9052372339088994\n",
            "Learning rate: 0.2, model score: 0.9801736533569295, cross validation score: 0.9037440201749359\n",
            "Learning rate: 0.25, model score: 0.9857316668510121, cross validation score: 0.9036887525076687\n",
            "Learning rate: 0.3, model score: 0.991234376728238, cross validation score: 0.9021956420348644\n"
          ]
        }
      ]
    },
    {
      "cell_type": "markdown",
      "source": [
        "The maximum cv score occurs at learning rate of 0.01, so we will go with this."
      ],
      "metadata": {
        "id": "7gBPylHJfK_0"
      }
    },
    {
      "cell_type": "code",
      "source": [
        "xgb_model=XGBClassifier(learning_rate=0.01,max_depth=6,n_estimators=1000,colsample_bytree=0.8)\n",
        "xgb_model.fit(x_train,encoded_ytrain)"
      ],
      "metadata": {
        "colab": {
          "base_uri": "https://localhost:8080/",
          "height": 248
        },
        "id": "zAm6W7fPfSjY",
        "outputId": "8d097e2a-d50a-4097-8751-c01ebb01bbbf"
      },
      "execution_count": null,
      "outputs": [
        {
          "output_type": "execute_result",
          "data": {
            "text/plain": [
              "XGBClassifier(base_score=None, booster=None, callbacks=None,\n",
              "              colsample_bylevel=None, colsample_bynode=None,\n",
              "              colsample_bytree=0.8, early_stopping_rounds=None,\n",
              "              enable_categorical=False, eval_metric=None, feature_types=None,\n",
              "              gamma=None, gpu_id=None, grow_policy=None, importance_type=None,\n",
              "              interaction_constraints=None, learning_rate=0.01, max_bin=None,\n",
              "              max_cat_threshold=None, max_cat_to_onehot=None,\n",
              "              max_delta_step=None, max_depth=5, max_leaves=None,\n",
              "              min_child_weight=None, missing=nan, monotone_constraints=None,\n",
              "              n_estimators=1000, n_jobs=None, num_parallel_tree=None,\n",
              "              predictor=None, random_state=None, ...)"
            ],
            "text/html": [
              "<style>#sk-container-id-1 {color: black;background-color: white;}#sk-container-id-1 pre{padding: 0;}#sk-container-id-1 div.sk-toggleable {background-color: white;}#sk-container-id-1 label.sk-toggleable__label {cursor: pointer;display: block;width: 100%;margin-bottom: 0;padding: 0.3em;box-sizing: border-box;text-align: center;}#sk-container-id-1 label.sk-toggleable__label-arrow:before {content: \"▸\";float: left;margin-right: 0.25em;color: #696969;}#sk-container-id-1 label.sk-toggleable__label-arrow:hover:before {color: black;}#sk-container-id-1 div.sk-estimator:hover label.sk-toggleable__label-arrow:before {color: black;}#sk-container-id-1 div.sk-toggleable__content {max-height: 0;max-width: 0;overflow: hidden;text-align: left;background-color: #f0f8ff;}#sk-container-id-1 div.sk-toggleable__content pre {margin: 0.2em;color: black;border-radius: 0.25em;background-color: #f0f8ff;}#sk-container-id-1 input.sk-toggleable__control:checked~div.sk-toggleable__content {max-height: 200px;max-width: 100%;overflow: auto;}#sk-container-id-1 input.sk-toggleable__control:checked~label.sk-toggleable__label-arrow:before {content: \"▾\";}#sk-container-id-1 div.sk-estimator input.sk-toggleable__control:checked~label.sk-toggleable__label {background-color: #d4ebff;}#sk-container-id-1 div.sk-label input.sk-toggleable__control:checked~label.sk-toggleable__label {background-color: #d4ebff;}#sk-container-id-1 input.sk-hidden--visually {border: 0;clip: rect(1px 1px 1px 1px);clip: rect(1px, 1px, 1px, 1px);height: 1px;margin: -1px;overflow: hidden;padding: 0;position: absolute;width: 1px;}#sk-container-id-1 div.sk-estimator {font-family: monospace;background-color: #f0f8ff;border: 1px dotted black;border-radius: 0.25em;box-sizing: border-box;margin-bottom: 0.5em;}#sk-container-id-1 div.sk-estimator:hover {background-color: #d4ebff;}#sk-container-id-1 div.sk-parallel-item::after {content: \"\";width: 100%;border-bottom: 1px solid gray;flex-grow: 1;}#sk-container-id-1 div.sk-label:hover label.sk-toggleable__label {background-color: #d4ebff;}#sk-container-id-1 div.sk-serial::before {content: \"\";position: absolute;border-left: 1px solid gray;box-sizing: border-box;top: 0;bottom: 0;left: 50%;z-index: 0;}#sk-container-id-1 div.sk-serial {display: flex;flex-direction: column;align-items: center;background-color: white;padding-right: 0.2em;padding-left: 0.2em;position: relative;}#sk-container-id-1 div.sk-item {position: relative;z-index: 1;}#sk-container-id-1 div.sk-parallel {display: flex;align-items: stretch;justify-content: center;background-color: white;position: relative;}#sk-container-id-1 div.sk-item::before, #sk-container-id-1 div.sk-parallel-item::before {content: \"\";position: absolute;border-left: 1px solid gray;box-sizing: border-box;top: 0;bottom: 0;left: 50%;z-index: -1;}#sk-container-id-1 div.sk-parallel-item {display: flex;flex-direction: column;z-index: 1;position: relative;background-color: white;}#sk-container-id-1 div.sk-parallel-item:first-child::after {align-self: flex-end;width: 50%;}#sk-container-id-1 div.sk-parallel-item:last-child::after {align-self: flex-start;width: 50%;}#sk-container-id-1 div.sk-parallel-item:only-child::after {width: 0;}#sk-container-id-1 div.sk-dashed-wrapped {border: 1px dashed gray;margin: 0 0.4em 0.5em 0.4em;box-sizing: border-box;padding-bottom: 0.4em;background-color: white;}#sk-container-id-1 div.sk-label label {font-family: monospace;font-weight: bold;display: inline-block;line-height: 1.2em;}#sk-container-id-1 div.sk-label-container {text-align: center;}#sk-container-id-1 div.sk-container {/* jupyter's `normalize.less` sets `[hidden] { display: none; }` but bootstrap.min.css set `[hidden] { display: none !important; }` so we also need the `!important` here to be able to override the default hidden behavior on the sphinx rendered scikit-learn.org. See: https://github.com/scikit-learn/scikit-learn/issues/21755 */display: inline-block !important;position: relative;}#sk-container-id-1 div.sk-text-repr-fallback {display: none;}</style><div id=\"sk-container-id-1\" class=\"sk-top-container\"><div class=\"sk-text-repr-fallback\"><pre>XGBClassifier(base_score=None, booster=None, callbacks=None,\n",
              "              colsample_bylevel=None, colsample_bynode=None,\n",
              "              colsample_bytree=0.8, early_stopping_rounds=None,\n",
              "              enable_categorical=False, eval_metric=None, feature_types=None,\n",
              "              gamma=None, gpu_id=None, grow_policy=None, importance_type=None,\n",
              "              interaction_constraints=None, learning_rate=0.01, max_bin=None,\n",
              "              max_cat_threshold=None, max_cat_to_onehot=None,\n",
              "              max_delta_step=None, max_depth=5, max_leaves=None,\n",
              "              min_child_weight=None, missing=nan, monotone_constraints=None,\n",
              "              n_estimators=1000, n_jobs=None, num_parallel_tree=None,\n",
              "              predictor=None, random_state=None, ...)</pre><b>In a Jupyter environment, please rerun this cell to show the HTML representation or trust the notebook. <br />On GitHub, the HTML representation is unable to render, please try loading this page with nbviewer.org.</b></div><div class=\"sk-container\" hidden><div class=\"sk-item\"><div class=\"sk-estimator sk-toggleable\"><input class=\"sk-toggleable__control sk-hidden--visually\" id=\"sk-estimator-id-1\" type=\"checkbox\" checked><label for=\"sk-estimator-id-1\" class=\"sk-toggleable__label sk-toggleable__label-arrow\">XGBClassifier</label><div class=\"sk-toggleable__content\"><pre>XGBClassifier(base_score=None, booster=None, callbacks=None,\n",
              "              colsample_bylevel=None, colsample_bynode=None,\n",
              "              colsample_bytree=0.8, early_stopping_rounds=None,\n",
              "              enable_categorical=False, eval_metric=None, feature_types=None,\n",
              "              gamma=None, gpu_id=None, grow_policy=None, importance_type=None,\n",
              "              interaction_constraints=None, learning_rate=0.01, max_bin=None,\n",
              "              max_cat_threshold=None, max_cat_to_onehot=None,\n",
              "              max_delta_step=None, max_depth=5, max_leaves=None,\n",
              "              min_child_weight=None, missing=nan, monotone_constraints=None,\n",
              "              n_estimators=1000, n_jobs=None, num_parallel_tree=None,\n",
              "              predictor=None, random_state=None, ...)</pre></div></div></div></div></div>"
            ]
          },
          "metadata": {},
          "execution_count": 26
        }
      ]
    },
    {
      "cell_type": "code",
      "source": [
        "xgb_predict_test=xgb_model.predict(x_test)\n",
        "cross_val_xgb_model=cross_val_score(xgb_model,x_train,encoded_ytrain,cv=15).mean()\n",
        "cross_val_xgb_model"
      ],
      "metadata": {
        "colab": {
          "base_uri": "https://localhost:8080/"
        },
        "id": "6-0vh5Ebfjex",
        "outputId": "92bba994-2785-4639-dcbd-c25738a276a2"
      },
      "execution_count": null,
      "outputs": [
        {
          "output_type": "execute_result",
          "data": {
            "text/plain": [
              "0.9085555312700605"
            ]
          },
          "metadata": {},
          "execution_count": 27
        }
      ]
    },
    {
      "cell_type": "code",
      "source": [
        "print(classification_report(encoded_ytest,xgb_predict_test))"
      ],
      "metadata": {
        "colab": {
          "base_uri": "https://localhost:8080/"
        },
        "id": "nlv40YiDhVVG",
        "outputId": "a247a15a-3e45-40cb-cc73-d763ceb39dee"
      },
      "execution_count": null,
      "outputs": [
        {
          "output_type": "stream",
          "name": "stdout",
          "text": [
            "              precision    recall  f1-score   support\n",
            "\n",
            "           0       0.93      0.97      0.95      7963\n",
            "           1       0.65      0.42      0.51      1078\n",
            "\n",
            "    accuracy                           0.90      9041\n",
            "   macro avg       0.79      0.69      0.73      9041\n",
            "weighted avg       0.89      0.90      0.89      9041\n",
            "\n"
          ]
        }
      ]
    },
    {
      "cell_type": "code",
      "source": [
        "cm5=confusion_matrix(encoded_ytest,xgb_predict_test)\n",
        "cm5"
      ],
      "metadata": {
        "colab": {
          "base_uri": "https://localhost:8080/"
        },
        "id": "gfkbgrSChkWb",
        "outputId": "4801a76a-9bee-4eda-ec43-4dc16978fe7f"
      },
      "execution_count": null,
      "outputs": [
        {
          "output_type": "execute_result",
          "data": {
            "text/plain": [
              "array([[7715,  248],\n",
              "       [ 625,  453]])"
            ]
          },
          "metadata": {},
          "execution_count": 31
        }
      ]
    },
    {
      "cell_type": "code",
      "source": [
        "ConfusionMatrixDisplay(cm5).plot()"
      ],
      "metadata": {
        "colab": {
          "base_uri": "https://localhost:8080/",
          "height": 296
        },
        "id": "tZrnvZqehqxo",
        "outputId": "292306fe-6c3c-449a-f3c1-b869b790b41d"
      },
      "execution_count": null,
      "outputs": [
        {
          "output_type": "execute_result",
          "data": {
            "text/plain": [
              "<sklearn.metrics._plot.confusion_matrix.ConfusionMatrixDisplay at 0x7f9e35e27d30>"
            ]
          },
          "metadata": {},
          "execution_count": 32
        },
        {
          "output_type": "display_data",
          "data": {
            "text/plain": [
              "<Figure size 432x288 with 2 Axes>"
            ],
            "image/png": "[encoded data removed]"
          },
          "metadata": {
            "needs_background": "light"
          }
        }
      ]
    },
    {
      "cell_type": "markdown",
      "source": [
        "# **Cross validation scores for Machine learning models**"
      ],
      "metadata": {
        "id": "F_u0XurF7ieP"
      }
    },
    {
      "cell_type": "code",
      "source": [
        "print('Cross validation score for Logistic regression model:',cross_val_log_model)\n",
        "print('Cross validation score for KNN model',cross_val_knn_model)\n",
        "print('Cross validation score for Decision Tree classifier', cross_val_dtc_model)\n",
        "print('Cross validation score for Random forst classifier', cross_val_rf_model)\n",
        "print('Cross validation score for extreme gradient boosting classifier',cross_val_xgb_model)"
      ],
      "metadata": {
        "colab": {
          "base_uri": "https://localhost:8080/"
        },
        "id": "lpkD89O_7r3m",
        "outputId": "4c805d63-1ca5-42de-af1f-55a483e830c8"
      },
      "execution_count": null,
      "outputs": [
        {
          "output_type": "stream",
          "name": "stdout",
          "text": [
            "Cross validation score for Logistic regression model: 0.8944531003422872\n",
            "Cross validation score for KNN model 0.8940385449365215\n",
            "Cross validation score for Decision Tree classifier 0.901117239852153\n",
            "Cross validation score for Random forst classifier 0.9067581331070769\n",
            "Cross validation score for extreme gradient boosting classifier 0.9085555312700605\n"
          ]
        }
      ]
    },
    {
      "cell_type": "code",
      "source": [
        "from sklearn import metrics"
      ],
      "metadata": {
        "id": "QBRhAzK29efv"
      },
      "execution_count": null,
      "outputs": []
    },
    {
      "cell_type": "code",
      "source": [
        "print('Accuracy of Logistic regression model:',metrics.accuracy_score(y_test,lr_predict_test))\n",
        "print('Accuracy of KNN classifier model:',metrics.accuracy_score(y_test,knn_predict_test))\n",
        "print('Accuracy of Decision Tress classifier model:',metrics.accuracy_score(y_test,dtc_predict_test))\n",
        "print('Accuracy of Random forest model:',metrics.accuracy_score(y_test,rf_predict_test))\n",
        "print('Accuracy of XGB classifier:',metrics.accuracy_score(encoded_ytest,xgb_predict_test))"
      ],
      "metadata": {
        "colab": {
          "base_uri": "https://localhost:8080/"
        },
        "id": "pH8dcIDc9hKu",
        "outputId": "871aac71-f1aa-4886-c152-b52e43b9ab37"
      },
      "execution_count": null,
      "outputs": [
        {
          "output_type": "stream",
          "name": "stdout",
          "text": [
            "Accuracy of Logistic regression model: 0.8893927662869152\n",
            "Accuracy of KNN classifier model: 0.8907200530914722\n",
            "Accuracy of Decision Tress classifier model: 0.8984625594513881\n",
            "Accuracy of Random forest model: 0.9029974560336246\n",
            "Accuracy of XGB classifier: 0.9034398849684769\n"
          ]
        }
      ]
    },
    {
      "cell_type": "markdown",
      "source": [
        "It's totally evident that our **XGB model** outperforms all other classifier models in terms of cross validation score as well as the accuracy. \n",
        "\n",
        "Accuracy of XGB classifier: *0.9034398849684769*\n",
        "Cross validation score for extreme gradient boosting classifier *0.9085555312700605*\n"
      ],
      "metadata": {
        "id": "i4T5HHAmi9xZ"
      }
    },
    {
      "cell_type": "code",
      "source": [
        "xgb_model.feature_importances_"
      ],
      "metadata": {
        "colab": {
          "base_uri": "https://localhost:8080/"
        },
        "id": "aTmIxrihPQdD",
        "outputId": "05676bea-e4d8-46f4-885a-f225186fa9ae"
      },
      "execution_count": null,
      "outputs": [
        {
          "output_type": "execute_result",
          "data": {
            "text/plain": [
              "array([0.03982682, 0.02665382, 0.02506779, 0.01869164, 0.03893427,\n",
              "       0.10589977, 0.21714468, 0.02951846, 0.25273114, 0.06611197,\n",
              "       0.02285596, 0.15656368], dtype=float32)"
            ]
          },
          "metadata": {},
          "execution_count": 49
        }
      ]
    },
    {
      "cell_type": "code",
      "source": [
        "x_train.columns"
      ],
      "metadata": {
        "colab": {
          "base_uri": "https://localhost:8080/"
        },
        "id": "tKuSuqORjosc",
        "outputId": "855270d7-3e17-44f1-b95f-fdee180010cb"
      },
      "execution_count": null,
      "outputs": [
        {
          "output_type": "execute_result",
          "data": {
            "text/plain": [
              "Index(['age', 'job', 'marital', 'education_qual', 'day', 'mon', 'dur',\n",
              "       'num_calls', 'prev_outcome', 'call_type_cellular',\n",
              "       'call_type_telephone', 'call_type_unknown'],\n",
              "      dtype='object')"
            ]
          },
          "metadata": {},
          "execution_count": 50
        }
      ]
    },
    {
      "cell_type": "code",
      "source": [
        "sorted_col=xgb_model.feature_importances_.argsort()\n",
        "plt.figure(figsize=(14,14))\n",
        "plt.bar(x_train.columns[sorted_col],xgb_model.feature_importances_[sorted_col])\n",
        "plt.xticks(rotation=15)\n",
        "plt.xlabel(\"Extreme gradient boost classifier\")\n",
        "plt.title(\"Feature Importance\")\n",
        "plt.show()"
      ],
      "metadata": {
        "colab": {
          "base_uri": "https://localhost:8080/",
          "height": 865
        },
        "id": "o9xujYoflc25",
        "outputId": "4c61a7f2-d2e9-44b5-d42b-304e07369315"
      },
      "execution_count": null,
      "outputs": [
        {
          "output_type": "display_data",
          "data": {
            "text/plain": [
              "<Figure size 1008x1008 with 1 Axes>"
            ],
            "image/png": "[encoded data removed]"
          },
          "metadata": {
            "needs_background": "light"
          }
        }
      ]
    },
    {
      "cell_type": "markdown",
      "source": [
        "## Suggestions based on outcome from above Machine learning model."
      ],
      "metadata": {
        "id": "8JWdcL0anSbR"
      }
    },
    {
      "cell_type": "markdown",
      "source": [
        "According to the best performed model Extreme gradient boosting classifier the marketing team can focus on the features in the following orders in order to push the campaign towards more interactions with customers.\n",
        "\n",
        "1) **Prev_outcome** --> We can focus on pushing new campaigns to *\"success\"* category people's. because it plays a major role in conversion.\n",
        "\n",
        "2) **dur** --> The *duration of calls above 500* is really a major factor and should prioritise that.\n",
        "\n",
        "3) **mon** --> The month in which customer subscriptions was huge success were *'May', 'Aug' , 'jun', 'Jul'*. so reaching out to them in this months will essentially turns out to be almost success.\n",
        "\n",
        "4) **call_type_cellular** --> Reaching out to customers through mobile/cellular type is indeed more successful and evident from above graphs.\n",
        "\n",
        "5) **age**\n",
        "\n",
        "6) **day**\n",
        "\n",
        "7) **num_calls**\n",
        "\n",
        "8) **job**\n",
        "\n",
        "9) **marital**\n",
        "\n",
        "10) **call_type_telephone**\n",
        "\n",
        "11) **educational_qual**\n"
      ],
      "metadata": {
        "id": "fwjF4DPjner_"
      }
    },
    {
      "cell_type": "code",
      "source": [],
      "metadata": {
        "id": "RKgkf4_nmeEI"
      },
      "execution_count": null,
      "outputs": []
    }
  ]
}